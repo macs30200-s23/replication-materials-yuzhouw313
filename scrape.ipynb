{
 "cells": [
  {
   "attachments": {},
   "cell_type": "markdown",
   "metadata": {},
   "source": [
    "### Import libraries"
   ]
  },
  {
   "cell_type": "code",
   "execution_count": 3,
   "metadata": {},
   "outputs": [],
   "source": [
    "import snscrape.modules.twitter as sntwitter\n",
    "import pandas as pd"
   ]
  },
  {
   "attachments": {},
   "cell_type": "markdown",
   "metadata": {},
   "source": [
    "### Scraper function to scrape all tweets containing the input quiry and store them into daily csv file"
   ]
  },
  {
   "cell_type": "code",
   "execution_count": 4,
   "metadata": {},
   "outputs": [],
   "source": [
    "attr_col = ['Datetime', 'Tweet Id', 'Username', 'Text']"
   ]
  },
  {
   "cell_type": "code",
   "execution_count": 5,
   "metadata": {},
   "outputs": [],
   "source": [
    "def scraper_helper(keywords, start_time, end_time):\n",
    "    query = keywords + ' lang:en until:' + end_time + ' since:' + start_time\n",
    "    lst = []\n",
    "    for i, tweet in enumerate(sntwitter.TwitterSearchScraper(query).get_items()):\n",
    "        if i > 2000:\n",
    "            break\n",
    "        lst.append([tweet.date, tweet.id, tweet.user.username, tweet.content])\n",
    "\n",
    "    output_csv = start_time + '.csv'\n",
    "    df = pd.DataFrame(lst, columns=attr_col)\n",
    "    df.to_csv(output_csv, sep=',', index=False)"
   ]
  },
  {
   "attachments": {},
   "cell_type": "markdown",
   "metadata": {},
   "source": [
    "### Generate all the start date and end date"
   ]
  },
  {
   "cell_type": "code",
   "execution_count": 6,
   "metadata": {},
   "outputs": [],
   "source": [
    "from datetime import date, timedelta"
   ]
  },
  {
   "cell_type": "code",
   "execution_count": 7,
   "metadata": {},
   "outputs": [],
   "source": [
    "def start_end_generate(start_date, end_date, delta):\n",
    "    ''' \n",
    "    Helper function to generate a list of tuples of a month, each tuple is one\n",
    "    day's start and end timepoints\n",
    "    '''\n",
    "\n",
    "    date_range = []\n",
    "    while start_date < end_date:\n",
    "        start_time = start_date.strftime(\"%Y-%m-%d\")\n",
    "        end_time = (start_date + delta).strftime(\"%Y-%m-%d\")\n",
    "        date_range.append((start_time, end_time))\n",
    "        start_date += delta\n",
    "    \n",
    "    return date_range"
   ]
  },
  {
   "cell_type": "code",
   "execution_count": 7,
   "metadata": {},
   "outputs": [
    {
     "data": {
      "text/plain": [
       "[('2020-01-01', '2020-01-02'),\n",
       " ('2020-01-02', '2020-01-03'),\n",
       " ('2020-01-03', '2020-01-04'),\n",
       " ('2020-01-04', '2020-01-05'),\n",
       " ('2020-01-05', '2020-01-06'),\n",
       " ('2020-01-06', '2020-01-07'),\n",
       " ('2020-01-07', '2020-01-08'),\n",
       " ('2020-01-08', '2020-01-09'),\n",
       " ('2020-01-09', '2020-01-10'),\n",
       " ('2020-01-10', '2020-01-11'),\n",
       " ('2020-01-11', '2020-01-12'),\n",
       " ('2020-01-12', '2020-01-13'),\n",
       " ('2020-01-13', '2020-01-14'),\n",
       " ('2020-01-14', '2020-01-15'),\n",
       " ('2020-01-15', '2020-01-16'),\n",
       " ('2020-01-16', '2020-01-17'),\n",
       " ('2020-01-17', '2020-01-18'),\n",
       " ('2020-01-18', '2020-01-19'),\n",
       " ('2020-01-19', '2020-01-20'),\n",
       " ('2020-01-20', '2020-01-21'),\n",
       " ('2020-01-21', '2020-01-22'),\n",
       " ('2020-01-22', '2020-01-23'),\n",
       " ('2020-01-23', '2020-01-24'),\n",
       " ('2020-01-24', '2020-01-25'),\n",
       " ('2020-01-25', '2020-01-26'),\n",
       " ('2020-01-26', '2020-01-27'),\n",
       " ('2020-01-27', '2020-01-28'),\n",
       " ('2020-01-28', '2020-01-29'),\n",
       " ('2020-01-29', '2020-01-30'),\n",
       " ('2020-01-30', '2020-01-31'),\n",
       " ('2020-01-31', '2020-02-01')]"
      ]
     },
     "execution_count": 7,
     "metadata": {},
     "output_type": "execute_result"
    }
   ],
   "source": [
    "# Generate all days of January\n",
    "start_date = date(2020, 1, 1)\n",
    "end_date = date(2020, 2, 1)\n",
    "delta = timedelta(days=1)\n",
    "jan_dates = start_end_generate(start_date, end_date, delta)\n",
    "jan_dates"
   ]
  },
  {
   "attachments": {},
   "cell_type": "markdown",
   "metadata": {},
   "source": [
    "### Scrape all target tweets of January"
   ]
  },
  {
   "cell_type": "code",
   "execution_count": 7,
   "metadata": {},
   "outputs": [
    {
     "name": "stderr",
     "output_type": "stream",
     "text": [
      "/var/folders/bz/72zd2hjs5t5drbxxvfh0xhph0000gn/T/ipykernel_53839/639977356.py:7: DeprecatedFeatureWarning: content is deprecated, use rawContent instead\n",
      "  lst.append([tweet.date, tweet.id, tweet.user.username, tweet.content])\n",
      "/var/folders/bz/72zd2hjs5t5drbxxvfh0xhph0000gn/T/ipykernel_53839/639977356.py:7: DeprecatedFeatureWarning: content is deprecated, use rawContent instead\n",
      "  lst.append([tweet.date, tweet.id, tweet.user.username, tweet.content])\n",
      "/var/folders/bz/72zd2hjs5t5drbxxvfh0xhph0000gn/T/ipykernel_53839/639977356.py:7: DeprecatedFeatureWarning: content is deprecated, use rawContent instead\n",
      "  lst.append([tweet.date, tweet.id, tweet.user.username, tweet.content])\n",
      "/var/folders/bz/72zd2hjs5t5drbxxvfh0xhph0000gn/T/ipykernel_53839/639977356.py:7: DeprecatedFeatureWarning: content is deprecated, use rawContent instead\n",
      "  lst.append([tweet.date, tweet.id, tweet.user.username, tweet.content])\n",
      "/var/folders/bz/72zd2hjs5t5drbxxvfh0xhph0000gn/T/ipykernel_53839/639977356.py:7: DeprecatedFeatureWarning: content is deprecated, use rawContent instead\n",
      "  lst.append([tweet.date, tweet.id, tweet.user.username, tweet.content])\n",
      "/var/folders/bz/72zd2hjs5t5drbxxvfh0xhph0000gn/T/ipykernel_53839/639977356.py:7: DeprecatedFeatureWarning: content is deprecated, use rawContent instead\n",
      "  lst.append([tweet.date, tweet.id, tweet.user.username, tweet.content])\n",
      "/var/folders/bz/72zd2hjs5t5drbxxvfh0xhph0000gn/T/ipykernel_53839/639977356.py:7: DeprecatedFeatureWarning: content is deprecated, use rawContent instead\n",
      "  lst.append([tweet.date, tweet.id, tweet.user.username, tweet.content])\n",
      "/var/folders/bz/72zd2hjs5t5drbxxvfh0xhph0000gn/T/ipykernel_53839/639977356.py:7: DeprecatedFeatureWarning: content is deprecated, use rawContent instead\n",
      "  lst.append([tweet.date, tweet.id, tweet.user.username, tweet.content])\n",
      "/var/folders/bz/72zd2hjs5t5drbxxvfh0xhph0000gn/T/ipykernel_53839/639977356.py:7: DeprecatedFeatureWarning: content is deprecated, use rawContent instead\n",
      "  lst.append([tweet.date, tweet.id, tweet.user.username, tweet.content])\n",
      "/var/folders/bz/72zd2hjs5t5drbxxvfh0xhph0000gn/T/ipykernel_53839/639977356.py:7: DeprecatedFeatureWarning: content is deprecated, use rawContent instead\n",
      "  lst.append([tweet.date, tweet.id, tweet.user.username, tweet.content])\n",
      "/var/folders/bz/72zd2hjs5t5drbxxvfh0xhph0000gn/T/ipykernel_53839/639977356.py:7: DeprecatedFeatureWarning: content is deprecated, use rawContent instead\n",
      "  lst.append([tweet.date, tweet.id, tweet.user.username, tweet.content])\n",
      "/var/folders/bz/72zd2hjs5t5drbxxvfh0xhph0000gn/T/ipykernel_53839/639977356.py:7: DeprecatedFeatureWarning: content is deprecated, use rawContent instead\n",
      "  lst.append([tweet.date, tweet.id, tweet.user.username, tweet.content])\n",
      "/var/folders/bz/72zd2hjs5t5drbxxvfh0xhph0000gn/T/ipykernel_53839/639977356.py:7: DeprecatedFeatureWarning: content is deprecated, use rawContent instead\n",
      "  lst.append([tweet.date, tweet.id, tweet.user.username, tweet.content])\n",
      "/var/folders/bz/72zd2hjs5t5drbxxvfh0xhph0000gn/T/ipykernel_53839/639977356.py:7: DeprecatedFeatureWarning: content is deprecated, use rawContent instead\n",
      "  lst.append([tweet.date, tweet.id, tweet.user.username, tweet.content])\n",
      "/var/folders/bz/72zd2hjs5t5drbxxvfh0xhph0000gn/T/ipykernel_53839/639977356.py:7: DeprecatedFeatureWarning: content is deprecated, use rawContent instead\n",
      "  lst.append([tweet.date, tweet.id, tweet.user.username, tweet.content])\n",
      "/var/folders/bz/72zd2hjs5t5drbxxvfh0xhph0000gn/T/ipykernel_53839/639977356.py:7: DeprecatedFeatureWarning: content is deprecated, use rawContent instead\n",
      "  lst.append([tweet.date, tweet.id, tweet.user.username, tweet.content])\n",
      "/var/folders/bz/72zd2hjs5t5drbxxvfh0xhph0000gn/T/ipykernel_53839/639977356.py:7: DeprecatedFeatureWarning: content is deprecated, use rawContent instead\n",
      "  lst.append([tweet.date, tweet.id, tweet.user.username, tweet.content])\n",
      "/var/folders/bz/72zd2hjs5t5drbxxvfh0xhph0000gn/T/ipykernel_53839/639977356.py:7: DeprecatedFeatureWarning: content is deprecated, use rawContent instead\n",
      "  lst.append([tweet.date, tweet.id, tweet.user.username, tweet.content])\n",
      "/var/folders/bz/72zd2hjs5t5drbxxvfh0xhph0000gn/T/ipykernel_53839/639977356.py:7: DeprecatedFeatureWarning: content is deprecated, use rawContent instead\n",
      "  lst.append([tweet.date, tweet.id, tweet.user.username, tweet.content])\n",
      "/var/folders/bz/72zd2hjs5t5drbxxvfh0xhph0000gn/T/ipykernel_53839/639977356.py:7: DeprecatedFeatureWarning: content is deprecated, use rawContent instead\n",
      "  lst.append([tweet.date, tweet.id, tweet.user.username, tweet.content])\n",
      "Tweet 1106481627377500160 contains an app icon medium key '4_1648902436491497472' on app 'iphone_app'/'1078789949', but the corresponding medium is missing; dropping\n",
      "Tweet 1106481627377500160 contains an app icon medium key '4_1648902436491497472' on app 'ipad_app'/'1078789949', but the corresponding medium is missing; dropping\n",
      "/var/folders/bz/72zd2hjs5t5drbxxvfh0xhph0000gn/T/ipykernel_53839/639977356.py:7: DeprecatedFeatureWarning: content is deprecated, use rawContent instead\n",
      "  lst.append([tweet.date, tweet.id, tweet.user.username, tweet.content])\n",
      "/var/folders/bz/72zd2hjs5t5drbxxvfh0xhph0000gn/T/ipykernel_53839/639977356.py:7: DeprecatedFeatureWarning: content is deprecated, use rawContent instead\n",
      "  lst.append([tweet.date, tweet.id, tweet.user.username, tweet.content])\n",
      "/var/folders/bz/72zd2hjs5t5drbxxvfh0xhph0000gn/T/ipykernel_53839/639977356.py:7: DeprecatedFeatureWarning: content is deprecated, use rawContent instead\n",
      "  lst.append([tweet.date, tweet.id, tweet.user.username, tweet.content])\n",
      "/var/folders/bz/72zd2hjs5t5drbxxvfh0xhph0000gn/T/ipykernel_53839/639977356.py:7: DeprecatedFeatureWarning: content is deprecated, use rawContent instead\n",
      "  lst.append([tweet.date, tweet.id, tweet.user.username, tweet.content])\n",
      "/var/folders/bz/72zd2hjs5t5drbxxvfh0xhph0000gn/T/ipykernel_53839/639977356.py:7: DeprecatedFeatureWarning: content is deprecated, use rawContent instead\n",
      "  lst.append([tweet.date, tweet.id, tweet.user.username, tweet.content])\n",
      "/var/folders/bz/72zd2hjs5t5drbxxvfh0xhph0000gn/T/ipykernel_53839/639977356.py:7: DeprecatedFeatureWarning: content is deprecated, use rawContent instead\n",
      "  lst.append([tweet.date, tweet.id, tweet.user.username, tweet.content])\n",
      "/var/folders/bz/72zd2hjs5t5drbxxvfh0xhph0000gn/T/ipykernel_53839/639977356.py:7: DeprecatedFeatureWarning: content is deprecated, use rawContent instead\n",
      "  lst.append([tweet.date, tweet.id, tweet.user.username, tweet.content])\n",
      "/var/folders/bz/72zd2hjs5t5drbxxvfh0xhph0000gn/T/ipykernel_53839/639977356.py:7: DeprecatedFeatureWarning: content is deprecated, use rawContent instead\n",
      "  lst.append([tweet.date, tweet.id, tweet.user.username, tweet.content])\n",
      "/var/folders/bz/72zd2hjs5t5drbxxvfh0xhph0000gn/T/ipykernel_53839/639977356.py:7: DeprecatedFeatureWarning: content is deprecated, use rawContent instead\n",
      "  lst.append([tweet.date, tweet.id, tweet.user.username, tweet.content])\n",
      "/var/folders/bz/72zd2hjs5t5drbxxvfh0xhph0000gn/T/ipykernel_53839/639977356.py:7: DeprecatedFeatureWarning: content is deprecated, use rawContent instead\n",
      "  lst.append([tweet.date, tweet.id, tweet.user.username, tweet.content])\n",
      "/var/folders/bz/72zd2hjs5t5drbxxvfh0xhph0000gn/T/ipykernel_53839/639977356.py:7: DeprecatedFeatureWarning: content is deprecated, use rawContent instead\n",
      "  lst.append([tweet.date, tweet.id, tweet.user.username, tweet.content])\n"
     ]
    }
   ],
   "source": [
    "for i, pairs in enumerate(jan_dates):\n",
    "    start, end = pairs\n",
    "    scraper_helper('chink OR chinaman OR chyna OR chinkland OR gook', start, end)"
   ]
  },
  {
   "attachments": {},
   "cell_type": "markdown",
   "metadata": {},
   "source": [
    "### Scrape all target tweets of Feburary"
   ]
  },
  {
   "cell_type": "code",
   "execution_count": 8,
   "metadata": {},
   "outputs": [],
   "source": [
    "start_date = date(2020, 2, 1)\n",
    "end_date = date(2020, 3, 1)\n",
    "delta = timedelta(days=1)\n",
    "feb_dates = start_end_generate(start_date, end_date, delta)"
   ]
  },
  {
   "cell_type": "code",
   "execution_count": 9,
   "metadata": {},
   "outputs": [
    {
     "name": "stderr",
     "output_type": "stream",
     "text": [
      "Error retrieving https://api.twitter.com/2/search/adaptive.json?include_profile_interstitial_type=1&include_blocking=1&include_blocked_by=1&include_followed_by=1&include_want_retweets=1&include_mute_edge=1&include_can_dm=1&include_can_media_tag=1&include_ext_has_nft_avatar=1&include_ext_is_blue_verified=1&include_ext_verified_type=1&skip_status=1&cards_platform=Web-12&include_cards=1&include_ext_alt_text=true&include_ext_limited_action_results=false&include_quote_count=true&include_reply_count=1&tweet_mode=extended&include_ext_collab_control=true&include_ext_views=true&include_entities=true&include_user_entities=true&include_ext_media_color=true&include_ext_media_availability=true&include_ext_sensitive_media_warning=true&include_ext_trusted_friends_metadata=true&send_error_codes=true&simple_quoted_tweet=true&q=chink+OR+chinaman+OR+chinkland+OR+chinavirus+OR+chinesevirus+OR+wuhanvirus+OR+kungflu+lang%3Aen+until%3A2020-02-22+since%3A2020-02-21&tweet_search_mode=live&count=20&query_source=spelling_expansion_revert_click&pc=1&spelling_corrections=1&include_ext_edit_control=true&ext=mediaStats%2ChighlightedLabel%2ChasNftAvatar%2CvoiceInfo%2Cenrichments%2CsuperFollowMetadata%2CunmentionInfo%2CeditControl%2Ccollab_control%2Cvibe: blocked (403)\n",
      "4 requests to https://api.twitter.com/2/search/adaptive.json?include_profile_interstitial_type=1&include_blocking=1&include_blocked_by=1&include_followed_by=1&include_want_retweets=1&include_mute_edge=1&include_can_dm=1&include_can_media_tag=1&include_ext_has_nft_avatar=1&include_ext_is_blue_verified=1&include_ext_verified_type=1&skip_status=1&cards_platform=Web-12&include_cards=1&include_ext_alt_text=true&include_ext_limited_action_results=false&include_quote_count=true&include_reply_count=1&tweet_mode=extended&include_ext_collab_control=true&include_ext_views=true&include_entities=true&include_user_entities=true&include_ext_media_color=true&include_ext_media_availability=true&include_ext_sensitive_media_warning=true&include_ext_trusted_friends_metadata=true&send_error_codes=true&simple_quoted_tweet=true&q=chink+OR+chinaman+OR+chinkland+OR+chinavirus+OR+chinesevirus+OR+wuhanvirus+OR+kungflu+lang%3Aen+until%3A2020-02-22+since%3A2020-02-21&tweet_search_mode=live&count=20&query_source=spelling_expansion_revert_click&pc=1&spelling_corrections=1&include_ext_edit_control=true&ext=mediaStats%2ChighlightedLabel%2ChasNftAvatar%2CvoiceInfo%2Cenrichments%2CsuperFollowMetadata%2CunmentionInfo%2CeditControl%2Ccollab_control%2Cvibe failed, giving up.\n",
      "Errors: blocked (403), blocked (403), blocked (403), blocked (403)\n"
     ]
    },
    {
     "ename": "ScraperException",
     "evalue": "4 requests to https://api.twitter.com/2/search/adaptive.json?include_profile_interstitial_type=1&include_blocking=1&include_blocked_by=1&include_followed_by=1&include_want_retweets=1&include_mute_edge=1&include_can_dm=1&include_can_media_tag=1&include_ext_has_nft_avatar=1&include_ext_is_blue_verified=1&include_ext_verified_type=1&skip_status=1&cards_platform=Web-12&include_cards=1&include_ext_alt_text=true&include_ext_limited_action_results=false&include_quote_count=true&include_reply_count=1&tweet_mode=extended&include_ext_collab_control=true&include_ext_views=true&include_entities=true&include_user_entities=true&include_ext_media_color=true&include_ext_media_availability=true&include_ext_sensitive_media_warning=true&include_ext_trusted_friends_metadata=true&send_error_codes=true&simple_quoted_tweet=true&q=chink+OR+chinaman+OR+chinkland+OR+chinavirus+OR+chinesevirus+OR+wuhanvirus+OR+kungflu+lang%3Aen+until%3A2020-02-22+since%3A2020-02-21&tweet_search_mode=live&count=20&query_source=spelling_expansion_revert_click&pc=1&spelling_corrections=1&include_ext_edit_control=true&ext=mediaStats%2ChighlightedLabel%2ChasNftAvatar%2CvoiceInfo%2Cenrichments%2CsuperFollowMetadata%2CunmentionInfo%2CeditControl%2Ccollab_control%2Cvibe failed, giving up.",
     "output_type": "error",
     "traceback": [
      "\u001b[0;31m---------------------------------------------------------------------------\u001b[0m",
      "\u001b[0;31mScraperException\u001b[0m                          Traceback (most recent call last)",
      "\u001b[1;32m/Users/itsyuzhou/Spring2023/MACS30200/replication-materials-yuzhouw313/scrape.ipynb Cell 14\u001b[0m in \u001b[0;36m<cell line: 1>\u001b[0;34m()\u001b[0m\n\u001b[1;32m      <a href='vscode-notebook-cell:/Users/itsyuzhou/Spring2023/MACS30200/replication-materials-yuzhouw313/scrape.ipynb#X16sZmlsZQ%3D%3D?line=0'>1</a>\u001b[0m \u001b[39mfor\u001b[39;00m i, pairs \u001b[39min\u001b[39;00m \u001b[39menumerate\u001b[39m(feb_dates):\n\u001b[1;32m      <a href='vscode-notebook-cell:/Users/itsyuzhou/Spring2023/MACS30200/replication-materials-yuzhouw313/scrape.ipynb#X16sZmlsZQ%3D%3D?line=1'>2</a>\u001b[0m     start, end \u001b[39m=\u001b[39m pairs\n\u001b[0;32m----> <a href='vscode-notebook-cell:/Users/itsyuzhou/Spring2023/MACS30200/replication-materials-yuzhouw313/scrape.ipynb#X16sZmlsZQ%3D%3D?line=2'>3</a>\u001b[0m     scraper_helper(\u001b[39m'\u001b[39;49m\u001b[39mchink OR chinaman OR chinkland OR chinavirus OR chinesevirus OR wuhanvirus OR kungflu\u001b[39;49m\u001b[39m'\u001b[39;49m, start, end)\n",
      "\u001b[1;32m/Users/itsyuzhou/Spring2023/MACS30200/replication-materials-yuzhouw313/scrape.ipynb Cell 14\u001b[0m in \u001b[0;36mscraper_helper\u001b[0;34m(keywords, start_time, end_time)\u001b[0m\n\u001b[1;32m      <a href='vscode-notebook-cell:/Users/itsyuzhou/Spring2023/MACS30200/replication-materials-yuzhouw313/scrape.ipynb#X16sZmlsZQ%3D%3D?line=1'>2</a>\u001b[0m query \u001b[39m=\u001b[39m keywords \u001b[39m+\u001b[39m \u001b[39m'\u001b[39m\u001b[39m lang:en until:\u001b[39m\u001b[39m'\u001b[39m \u001b[39m+\u001b[39m end_time \u001b[39m+\u001b[39m \u001b[39m'\u001b[39m\u001b[39m since:\u001b[39m\u001b[39m'\u001b[39m \u001b[39m+\u001b[39m start_time\n\u001b[1;32m      <a href='vscode-notebook-cell:/Users/itsyuzhou/Spring2023/MACS30200/replication-materials-yuzhouw313/scrape.ipynb#X16sZmlsZQ%3D%3D?line=2'>3</a>\u001b[0m lst \u001b[39m=\u001b[39m []\n\u001b[0;32m----> <a href='vscode-notebook-cell:/Users/itsyuzhou/Spring2023/MACS30200/replication-materials-yuzhouw313/scrape.ipynb#X16sZmlsZQ%3D%3D?line=3'>4</a>\u001b[0m \u001b[39mfor\u001b[39;00m i, tweet \u001b[39min\u001b[39;00m \u001b[39menumerate\u001b[39m(sntwitter\u001b[39m.\u001b[39mTwitterSearchScraper(query)\u001b[39m.\u001b[39mget_items()):\n\u001b[1;32m      <a href='vscode-notebook-cell:/Users/itsyuzhou/Spring2023/MACS30200/replication-materials-yuzhouw313/scrape.ipynb#X16sZmlsZQ%3D%3D?line=4'>5</a>\u001b[0m     \u001b[39mif\u001b[39;00m i \u001b[39m>\u001b[39m \u001b[39m2000\u001b[39m:\n\u001b[1;32m      <a href='vscode-notebook-cell:/Users/itsyuzhou/Spring2023/MACS30200/replication-materials-yuzhouw313/scrape.ipynb#X16sZmlsZQ%3D%3D?line=5'>6</a>\u001b[0m         \u001b[39mbreak\u001b[39;00m\n",
      "File \u001b[0;32m~/opt/anaconda3/lib/python3.9/site-packages/snscrape/modules/twitter.py:1661\u001b[0m, in \u001b[0;36mTwitterSearchScraper.get_items\u001b[0;34m(self)\u001b[0m\n\u001b[1;32m   1658\u001b[0m params \u001b[39m=\u001b[39m paginationParams\u001b[39m.\u001b[39mcopy()\n\u001b[1;32m   1659\u001b[0m \u001b[39mdel\u001b[39;00m params[\u001b[39m'\u001b[39m\u001b[39mcursor\u001b[39m\u001b[39m'\u001b[39m]\n\u001b[0;32m-> 1661\u001b[0m \u001b[39mfor\u001b[39;00m obj \u001b[39min\u001b[39;00m \u001b[39mself\u001b[39m\u001b[39m.\u001b[39m_iter_api_data(\u001b[39m'\u001b[39m\u001b[39mhttps://api.twitter.com/2/search/adaptive.json\u001b[39m\u001b[39m'\u001b[39m, _TwitterAPIType\u001b[39m.\u001b[39mV2, params, paginationParams, cursor \u001b[39m=\u001b[39m \u001b[39mself\u001b[39m\u001b[39m.\u001b[39m_cursor):\n\u001b[1;32m   1662\u001b[0m \t\u001b[39myield from\u001b[39;00m \u001b[39mself\u001b[39m\u001b[39m.\u001b[39m_v2_timeline_instructions_to_tweets_or_users(obj)\n",
      "File \u001b[0;32m~/opt/anaconda3/lib/python3.9/site-packages/snscrape/modules/twitter.py:761\u001b[0m, in \u001b[0;36m_TwitterAPIScraper._iter_api_data\u001b[0;34m(self, endpoint, apiType, params, paginationParams, cursor, direction)\u001b[0m\n\u001b[1;32m    759\u001b[0m \u001b[39mwhile\u001b[39;00m \u001b[39mTrue\u001b[39;00m:\n\u001b[1;32m    760\u001b[0m \t_logger\u001b[39m.\u001b[39minfo(\u001b[39mf\u001b[39m\u001b[39m'\u001b[39m\u001b[39mRetrieving scroll page \u001b[39m\u001b[39m{\u001b[39;00mcursor\u001b[39m}\u001b[39;00m\u001b[39m'\u001b[39m)\n\u001b[0;32m--> 761\u001b[0m \tobj \u001b[39m=\u001b[39m \u001b[39mself\u001b[39;49m\u001b[39m.\u001b[39;49m_get_api_data(endpoint, apiType, reqParams)\n\u001b[1;32m    762\u001b[0m \t\u001b[39myield\u001b[39;00m obj\n\u001b[1;32m    764\u001b[0m \t\u001b[39m# No data format test, just a hard and loud crash if anything's wrong :-)\u001b[39;00m\n",
      "File \u001b[0;32m~/opt/anaconda3/lib/python3.9/site-packages/snscrape/modules/twitter.py:727\u001b[0m, in \u001b[0;36m_TwitterAPIScraper._get_api_data\u001b[0;34m(self, endpoint, apiType, params)\u001b[0m\n\u001b[1;32m    725\u001b[0m \u001b[39mif\u001b[39;00m apiType \u001b[39mis\u001b[39;00m _TwitterAPIType\u001b[39m.\u001b[39mGRAPHQL:\n\u001b[1;32m    726\u001b[0m \tparams \u001b[39m=\u001b[39m urllib\u001b[39m.\u001b[39mparse\u001b[39m.\u001b[39murlencode({k: json\u001b[39m.\u001b[39mdumps(v, separators \u001b[39m=\u001b[39m (\u001b[39m'\u001b[39m\u001b[39m,\u001b[39m\u001b[39m'\u001b[39m, \u001b[39m'\u001b[39m\u001b[39m:\u001b[39m\u001b[39m'\u001b[39m)) \u001b[39mfor\u001b[39;00m k, v \u001b[39min\u001b[39;00m params\u001b[39m.\u001b[39mitems()}, quote_via \u001b[39m=\u001b[39m urllib\u001b[39m.\u001b[39mparse\u001b[39m.\u001b[39mquote)\n\u001b[0;32m--> 727\u001b[0m r \u001b[39m=\u001b[39m \u001b[39mself\u001b[39;49m\u001b[39m.\u001b[39;49m_get(endpoint, params \u001b[39m=\u001b[39;49m params, headers \u001b[39m=\u001b[39;49m \u001b[39mself\u001b[39;49m\u001b[39m.\u001b[39;49m_apiHeaders, responseOkCallback \u001b[39m=\u001b[39;49m \u001b[39mself\u001b[39;49m\u001b[39m.\u001b[39;49m_check_api_response)\n\u001b[1;32m    728\u001b[0m \u001b[39mtry\u001b[39;00m:\n\u001b[1;32m    729\u001b[0m \tobj \u001b[39m=\u001b[39m r\u001b[39m.\u001b[39mjson()\n",
      "File \u001b[0;32m~/opt/anaconda3/lib/python3.9/site-packages/snscrape/base.py:251\u001b[0m, in \u001b[0;36mScraper._get\u001b[0;34m(self, *args, **kwargs)\u001b[0m\n\u001b[1;32m    250\u001b[0m \u001b[39mdef\u001b[39;00m \u001b[39m_get\u001b[39m(\u001b[39mself\u001b[39m, \u001b[39m*\u001b[39margs, \u001b[39m*\u001b[39m\u001b[39m*\u001b[39mkwargs):\n\u001b[0;32m--> 251\u001b[0m \t\u001b[39mreturn\u001b[39;00m \u001b[39mself\u001b[39;49m\u001b[39m.\u001b[39;49m_request(\u001b[39m'\u001b[39;49m\u001b[39mGET\u001b[39;49m\u001b[39m'\u001b[39;49m, \u001b[39m*\u001b[39;49margs, \u001b[39m*\u001b[39;49m\u001b[39m*\u001b[39;49mkwargs)\n",
      "File \u001b[0;32m~/opt/anaconda3/lib/python3.9/site-packages/snscrape/base.py:247\u001b[0m, in \u001b[0;36mScraper._request\u001b[0;34m(self, method, url, params, data, headers, timeout, responseOkCallback, allowRedirects, proxies)\u001b[0m\n\u001b[1;32m    245\u001b[0m \t_logger\u001b[39m.\u001b[39mfatal(msg)\n\u001b[1;32m    246\u001b[0m \t_logger\u001b[39m.\u001b[39mfatal(\u001b[39mf\u001b[39m\u001b[39m'\u001b[39m\u001b[39mErrors: \u001b[39m\u001b[39m{\u001b[39;00m\u001b[39m\"\u001b[39m\u001b[39m, \u001b[39m\u001b[39m\"\u001b[39m\u001b[39m.\u001b[39mjoin(errors)\u001b[39m}\u001b[39;00m\u001b[39m'\u001b[39m)\n\u001b[0;32m--> 247\u001b[0m \t\u001b[39mraise\u001b[39;00m ScraperException(msg)\n\u001b[1;32m    248\u001b[0m \u001b[39mraise\u001b[39;00m \u001b[39mRuntimeError\u001b[39;00m(\u001b[39m'\u001b[39m\u001b[39mReached unreachable code\u001b[39m\u001b[39m'\u001b[39m)\n",
      "\u001b[0;31mScraperException\u001b[0m: 4 requests to https://api.twitter.com/2/search/adaptive.json?include_profile_interstitial_type=1&include_blocking=1&include_blocked_by=1&include_followed_by=1&include_want_retweets=1&include_mute_edge=1&include_can_dm=1&include_can_media_tag=1&include_ext_has_nft_avatar=1&include_ext_is_blue_verified=1&include_ext_verified_type=1&skip_status=1&cards_platform=Web-12&include_cards=1&include_ext_alt_text=true&include_ext_limited_action_results=false&include_quote_count=true&include_reply_count=1&tweet_mode=extended&include_ext_collab_control=true&include_ext_views=true&include_entities=true&include_user_entities=true&include_ext_media_color=true&include_ext_media_availability=true&include_ext_sensitive_media_warning=true&include_ext_trusted_friends_metadata=true&send_error_codes=true&simple_quoted_tweet=true&q=chink+OR+chinaman+OR+chinkland+OR+chinavirus+OR+chinesevirus+OR+wuhanvirus+OR+kungflu+lang%3Aen+until%3A2020-02-22+since%3A2020-02-21&tweet_search_mode=live&count=20&query_source=spelling_expansion_revert_click&pc=1&spelling_corrections=1&include_ext_edit_control=true&ext=mediaStats%2ChighlightedLabel%2ChasNftAvatar%2CvoiceInfo%2Cenrichments%2CsuperFollowMetadata%2CunmentionInfo%2CeditControl%2Ccollab_control%2Cvibe failed, giving up."
     ]
    }
   ],
   "source": [
    "for i, pairs in enumerate(feb_dates):\n",
    "    start, end = pairs\n",
    "    scraper_helper('chink OR chinaman OR chyna OR chinkland OR gook', start, end)"
   ]
  },
  {
   "attachments": {},
   "cell_type": "markdown",
   "metadata": {},
   "source": [
    "### Scrape all target tweets of March"
   ]
  },
  {
   "cell_type": "code",
   "execution_count": 10,
   "metadata": {},
   "outputs": [],
   "source": [
    "start_date = date(2020, 3, 1)\n",
    "end_date = date(2020, 4, 1)\n",
    "delta = timedelta(days=1)\n",
    "mar_dates = start_end_generate(start_date, end_date, delta)"
   ]
  },
  {
   "cell_type": "code",
   "execution_count": 11,
   "metadata": {},
   "outputs": [
    {
     "name": "stderr",
     "output_type": "stream",
     "text": [
      "Error retrieving https://api.twitter.com/2/search/adaptive.json?include_profile_interstitial_type=1&include_blocking=1&include_blocked_by=1&include_followed_by=1&include_want_retweets=1&include_mute_edge=1&include_can_dm=1&include_can_media_tag=1&include_ext_has_nft_avatar=1&include_ext_is_blue_verified=1&include_ext_verified_type=1&skip_status=1&cards_platform=Web-12&include_cards=1&include_ext_alt_text=true&include_ext_limited_action_results=false&include_quote_count=true&include_reply_count=1&tweet_mode=extended&include_ext_collab_control=true&include_ext_views=true&include_entities=true&include_user_entities=true&include_ext_media_color=true&include_ext_media_availability=true&include_ext_sensitive_media_warning=true&include_ext_trusted_friends_metadata=true&send_error_codes=true&simple_quoted_tweet=true&q=chink+OR+chinaman+OR+chinkland+OR+chinavirus+OR+chinesevirus+OR+wuhanvirus+OR+kungflu+lang%3Aen+until%3A2020-03-02+since%3A2020-03-01&tweet_search_mode=live&count=20&query_source=spelling_expansion_revert_click&pc=1&spelling_corrections=1&include_ext_edit_control=true&ext=mediaStats%2ChighlightedLabel%2ChasNftAvatar%2CvoiceInfo%2Cenrichments%2CsuperFollowMetadata%2CunmentionInfo%2CeditControl%2Ccollab_control%2Cvibe: blocked (403)\n",
      "4 requests to https://api.twitter.com/2/search/adaptive.json?include_profile_interstitial_type=1&include_blocking=1&include_blocked_by=1&include_followed_by=1&include_want_retweets=1&include_mute_edge=1&include_can_dm=1&include_can_media_tag=1&include_ext_has_nft_avatar=1&include_ext_is_blue_verified=1&include_ext_verified_type=1&skip_status=1&cards_platform=Web-12&include_cards=1&include_ext_alt_text=true&include_ext_limited_action_results=false&include_quote_count=true&include_reply_count=1&tweet_mode=extended&include_ext_collab_control=true&include_ext_views=true&include_entities=true&include_user_entities=true&include_ext_media_color=true&include_ext_media_availability=true&include_ext_sensitive_media_warning=true&include_ext_trusted_friends_metadata=true&send_error_codes=true&simple_quoted_tweet=true&q=chink+OR+chinaman+OR+chinkland+OR+chinavirus+OR+chinesevirus+OR+wuhanvirus+OR+kungflu+lang%3Aen+until%3A2020-03-02+since%3A2020-03-01&tweet_search_mode=live&count=20&query_source=spelling_expansion_revert_click&pc=1&spelling_corrections=1&include_ext_edit_control=true&ext=mediaStats%2ChighlightedLabel%2ChasNftAvatar%2CvoiceInfo%2Cenrichments%2CsuperFollowMetadata%2CunmentionInfo%2CeditControl%2Ccollab_control%2Cvibe failed, giving up.\n",
      "Errors: blocked (403), blocked (403), blocked (403), blocked (403)\n"
     ]
    },
    {
     "ename": "ScraperException",
     "evalue": "4 requests to https://api.twitter.com/2/search/adaptive.json?include_profile_interstitial_type=1&include_blocking=1&include_blocked_by=1&include_followed_by=1&include_want_retweets=1&include_mute_edge=1&include_can_dm=1&include_can_media_tag=1&include_ext_has_nft_avatar=1&include_ext_is_blue_verified=1&include_ext_verified_type=1&skip_status=1&cards_platform=Web-12&include_cards=1&include_ext_alt_text=true&include_ext_limited_action_results=false&include_quote_count=true&include_reply_count=1&tweet_mode=extended&include_ext_collab_control=true&include_ext_views=true&include_entities=true&include_user_entities=true&include_ext_media_color=true&include_ext_media_availability=true&include_ext_sensitive_media_warning=true&include_ext_trusted_friends_metadata=true&send_error_codes=true&simple_quoted_tweet=true&q=chink+OR+chinaman+OR+chinkland+OR+chinavirus+OR+chinesevirus+OR+wuhanvirus+OR+kungflu+lang%3Aen+until%3A2020-03-02+since%3A2020-03-01&tweet_search_mode=live&count=20&query_source=spelling_expansion_revert_click&pc=1&spelling_corrections=1&include_ext_edit_control=true&ext=mediaStats%2ChighlightedLabel%2ChasNftAvatar%2CvoiceInfo%2Cenrichments%2CsuperFollowMetadata%2CunmentionInfo%2CeditControl%2Ccollab_control%2Cvibe failed, giving up.",
     "output_type": "error",
     "traceback": [
      "\u001b[0;31m---------------------------------------------------------------------------\u001b[0m",
      "\u001b[0;31mScraperException\u001b[0m                          Traceback (most recent call last)",
      "\u001b[1;32m/Users/itsyuzhou/Spring2023/MACS30200/replication-materials-yuzhouw313/scrape.ipynb Cell 17\u001b[0m in \u001b[0;36m<cell line: 1>\u001b[0;34m()\u001b[0m\n\u001b[1;32m      <a href='vscode-notebook-cell:/Users/itsyuzhou/Spring2023/MACS30200/replication-materials-yuzhouw313/scrape.ipynb#X22sZmlsZQ%3D%3D?line=0'>1</a>\u001b[0m \u001b[39mfor\u001b[39;00m i, pairs \u001b[39min\u001b[39;00m \u001b[39menumerate\u001b[39m(mar_dates):\n\u001b[1;32m      <a href='vscode-notebook-cell:/Users/itsyuzhou/Spring2023/MACS30200/replication-materials-yuzhouw313/scrape.ipynb#X22sZmlsZQ%3D%3D?line=1'>2</a>\u001b[0m     start, end \u001b[39m=\u001b[39m pairs\n\u001b[0;32m----> <a href='vscode-notebook-cell:/Users/itsyuzhou/Spring2023/MACS30200/replication-materials-yuzhouw313/scrape.ipynb#X22sZmlsZQ%3D%3D?line=2'>3</a>\u001b[0m     scraper_helper(\u001b[39m'\u001b[39;49m\u001b[39mchink OR chinaman OR chinkland OR chinavirus OR chinesevirus OR wuhanvirus OR kungflu\u001b[39;49m\u001b[39m'\u001b[39;49m, start, end)\n",
      "\u001b[1;32m/Users/itsyuzhou/Spring2023/MACS30200/replication-materials-yuzhouw313/scrape.ipynb Cell 17\u001b[0m in \u001b[0;36mscraper_helper\u001b[0;34m(keywords, start_time, end_time)\u001b[0m\n\u001b[1;32m      <a href='vscode-notebook-cell:/Users/itsyuzhou/Spring2023/MACS30200/replication-materials-yuzhouw313/scrape.ipynb#X22sZmlsZQ%3D%3D?line=1'>2</a>\u001b[0m query \u001b[39m=\u001b[39m keywords \u001b[39m+\u001b[39m \u001b[39m'\u001b[39m\u001b[39m lang:en until:\u001b[39m\u001b[39m'\u001b[39m \u001b[39m+\u001b[39m end_time \u001b[39m+\u001b[39m \u001b[39m'\u001b[39m\u001b[39m since:\u001b[39m\u001b[39m'\u001b[39m \u001b[39m+\u001b[39m start_time\n\u001b[1;32m      <a href='vscode-notebook-cell:/Users/itsyuzhou/Spring2023/MACS30200/replication-materials-yuzhouw313/scrape.ipynb#X22sZmlsZQ%3D%3D?line=2'>3</a>\u001b[0m lst \u001b[39m=\u001b[39m []\n\u001b[0;32m----> <a href='vscode-notebook-cell:/Users/itsyuzhou/Spring2023/MACS30200/replication-materials-yuzhouw313/scrape.ipynb#X22sZmlsZQ%3D%3D?line=3'>4</a>\u001b[0m \u001b[39mfor\u001b[39;00m i, tweet \u001b[39min\u001b[39;00m \u001b[39menumerate\u001b[39m(sntwitter\u001b[39m.\u001b[39mTwitterSearchScraper(query)\u001b[39m.\u001b[39mget_items()):\n\u001b[1;32m      <a href='vscode-notebook-cell:/Users/itsyuzhou/Spring2023/MACS30200/replication-materials-yuzhouw313/scrape.ipynb#X22sZmlsZQ%3D%3D?line=4'>5</a>\u001b[0m     \u001b[39mif\u001b[39;00m i \u001b[39m>\u001b[39m \u001b[39m2000\u001b[39m:\n\u001b[1;32m      <a href='vscode-notebook-cell:/Users/itsyuzhou/Spring2023/MACS30200/replication-materials-yuzhouw313/scrape.ipynb#X22sZmlsZQ%3D%3D?line=5'>6</a>\u001b[0m         \u001b[39mbreak\u001b[39;00m\n",
      "File \u001b[0;32m~/opt/anaconda3/lib/python3.9/site-packages/snscrape/modules/twitter.py:1661\u001b[0m, in \u001b[0;36mTwitterSearchScraper.get_items\u001b[0;34m(self)\u001b[0m\n\u001b[1;32m   1658\u001b[0m params \u001b[39m=\u001b[39m paginationParams\u001b[39m.\u001b[39mcopy()\n\u001b[1;32m   1659\u001b[0m \u001b[39mdel\u001b[39;00m params[\u001b[39m'\u001b[39m\u001b[39mcursor\u001b[39m\u001b[39m'\u001b[39m]\n\u001b[0;32m-> 1661\u001b[0m \u001b[39mfor\u001b[39;00m obj \u001b[39min\u001b[39;00m \u001b[39mself\u001b[39m\u001b[39m.\u001b[39m_iter_api_data(\u001b[39m'\u001b[39m\u001b[39mhttps://api.twitter.com/2/search/adaptive.json\u001b[39m\u001b[39m'\u001b[39m, _TwitterAPIType\u001b[39m.\u001b[39mV2, params, paginationParams, cursor \u001b[39m=\u001b[39m \u001b[39mself\u001b[39m\u001b[39m.\u001b[39m_cursor):\n\u001b[1;32m   1662\u001b[0m \t\u001b[39myield from\u001b[39;00m \u001b[39mself\u001b[39m\u001b[39m.\u001b[39m_v2_timeline_instructions_to_tweets_or_users(obj)\n",
      "File \u001b[0;32m~/opt/anaconda3/lib/python3.9/site-packages/snscrape/modules/twitter.py:761\u001b[0m, in \u001b[0;36m_TwitterAPIScraper._iter_api_data\u001b[0;34m(self, endpoint, apiType, params, paginationParams, cursor, direction)\u001b[0m\n\u001b[1;32m    759\u001b[0m \u001b[39mwhile\u001b[39;00m \u001b[39mTrue\u001b[39;00m:\n\u001b[1;32m    760\u001b[0m \t_logger\u001b[39m.\u001b[39minfo(\u001b[39mf\u001b[39m\u001b[39m'\u001b[39m\u001b[39mRetrieving scroll page \u001b[39m\u001b[39m{\u001b[39;00mcursor\u001b[39m}\u001b[39;00m\u001b[39m'\u001b[39m)\n\u001b[0;32m--> 761\u001b[0m \tobj \u001b[39m=\u001b[39m \u001b[39mself\u001b[39;49m\u001b[39m.\u001b[39;49m_get_api_data(endpoint, apiType, reqParams)\n\u001b[1;32m    762\u001b[0m \t\u001b[39myield\u001b[39;00m obj\n\u001b[1;32m    764\u001b[0m \t\u001b[39m# No data format test, just a hard and loud crash if anything's wrong :-)\u001b[39;00m\n",
      "File \u001b[0;32m~/opt/anaconda3/lib/python3.9/site-packages/snscrape/modules/twitter.py:727\u001b[0m, in \u001b[0;36m_TwitterAPIScraper._get_api_data\u001b[0;34m(self, endpoint, apiType, params)\u001b[0m\n\u001b[1;32m    725\u001b[0m \u001b[39mif\u001b[39;00m apiType \u001b[39mis\u001b[39;00m _TwitterAPIType\u001b[39m.\u001b[39mGRAPHQL:\n\u001b[1;32m    726\u001b[0m \tparams \u001b[39m=\u001b[39m urllib\u001b[39m.\u001b[39mparse\u001b[39m.\u001b[39murlencode({k: json\u001b[39m.\u001b[39mdumps(v, separators \u001b[39m=\u001b[39m (\u001b[39m'\u001b[39m\u001b[39m,\u001b[39m\u001b[39m'\u001b[39m, \u001b[39m'\u001b[39m\u001b[39m:\u001b[39m\u001b[39m'\u001b[39m)) \u001b[39mfor\u001b[39;00m k, v \u001b[39min\u001b[39;00m params\u001b[39m.\u001b[39mitems()}, quote_via \u001b[39m=\u001b[39m urllib\u001b[39m.\u001b[39mparse\u001b[39m.\u001b[39mquote)\n\u001b[0;32m--> 727\u001b[0m r \u001b[39m=\u001b[39m \u001b[39mself\u001b[39;49m\u001b[39m.\u001b[39;49m_get(endpoint, params \u001b[39m=\u001b[39;49m params, headers \u001b[39m=\u001b[39;49m \u001b[39mself\u001b[39;49m\u001b[39m.\u001b[39;49m_apiHeaders, responseOkCallback \u001b[39m=\u001b[39;49m \u001b[39mself\u001b[39;49m\u001b[39m.\u001b[39;49m_check_api_response)\n\u001b[1;32m    728\u001b[0m \u001b[39mtry\u001b[39;00m:\n\u001b[1;32m    729\u001b[0m \tobj \u001b[39m=\u001b[39m r\u001b[39m.\u001b[39mjson()\n",
      "File \u001b[0;32m~/opt/anaconda3/lib/python3.9/site-packages/snscrape/base.py:251\u001b[0m, in \u001b[0;36mScraper._get\u001b[0;34m(self, *args, **kwargs)\u001b[0m\n\u001b[1;32m    250\u001b[0m \u001b[39mdef\u001b[39;00m \u001b[39m_get\u001b[39m(\u001b[39mself\u001b[39m, \u001b[39m*\u001b[39margs, \u001b[39m*\u001b[39m\u001b[39m*\u001b[39mkwargs):\n\u001b[0;32m--> 251\u001b[0m \t\u001b[39mreturn\u001b[39;00m \u001b[39mself\u001b[39;49m\u001b[39m.\u001b[39;49m_request(\u001b[39m'\u001b[39;49m\u001b[39mGET\u001b[39;49m\u001b[39m'\u001b[39;49m, \u001b[39m*\u001b[39;49margs, \u001b[39m*\u001b[39;49m\u001b[39m*\u001b[39;49mkwargs)\n",
      "File \u001b[0;32m~/opt/anaconda3/lib/python3.9/site-packages/snscrape/base.py:247\u001b[0m, in \u001b[0;36mScraper._request\u001b[0;34m(self, method, url, params, data, headers, timeout, responseOkCallback, allowRedirects, proxies)\u001b[0m\n\u001b[1;32m    245\u001b[0m \t_logger\u001b[39m.\u001b[39mfatal(msg)\n\u001b[1;32m    246\u001b[0m \t_logger\u001b[39m.\u001b[39mfatal(\u001b[39mf\u001b[39m\u001b[39m'\u001b[39m\u001b[39mErrors: \u001b[39m\u001b[39m{\u001b[39;00m\u001b[39m\"\u001b[39m\u001b[39m, \u001b[39m\u001b[39m\"\u001b[39m\u001b[39m.\u001b[39mjoin(errors)\u001b[39m}\u001b[39;00m\u001b[39m'\u001b[39m)\n\u001b[0;32m--> 247\u001b[0m \t\u001b[39mraise\u001b[39;00m ScraperException(msg)\n\u001b[1;32m    248\u001b[0m \u001b[39mraise\u001b[39;00m \u001b[39mRuntimeError\u001b[39;00m(\u001b[39m'\u001b[39m\u001b[39mReached unreachable code\u001b[39m\u001b[39m'\u001b[39m)\n",
      "\u001b[0;31mScraperException\u001b[0m: 4 requests to https://api.twitter.com/2/search/adaptive.json?include_profile_interstitial_type=1&include_blocking=1&include_blocked_by=1&include_followed_by=1&include_want_retweets=1&include_mute_edge=1&include_can_dm=1&include_can_media_tag=1&include_ext_has_nft_avatar=1&include_ext_is_blue_verified=1&include_ext_verified_type=1&skip_status=1&cards_platform=Web-12&include_cards=1&include_ext_alt_text=true&include_ext_limited_action_results=false&include_quote_count=true&include_reply_count=1&tweet_mode=extended&include_ext_collab_control=true&include_ext_views=true&include_entities=true&include_user_entities=true&include_ext_media_color=true&include_ext_media_availability=true&include_ext_sensitive_media_warning=true&include_ext_trusted_friends_metadata=true&send_error_codes=true&simple_quoted_tweet=true&q=chink+OR+chinaman+OR+chinkland+OR+chinavirus+OR+chinesevirus+OR+wuhanvirus+OR+kungflu+lang%3Aen+until%3A2020-03-02+since%3A2020-03-01&tweet_search_mode=live&count=20&query_source=spelling_expansion_revert_click&pc=1&spelling_corrections=1&include_ext_edit_control=true&ext=mediaStats%2ChighlightedLabel%2ChasNftAvatar%2CvoiceInfo%2Cenrichments%2CsuperFollowMetadata%2CunmentionInfo%2CeditControl%2Ccollab_control%2Cvibe failed, giving up."
     ]
    }
   ],
   "source": [
    "for i, pairs in enumerate(mar_dates):\n",
    "    start, end = pairs\n",
    "    scraper_helper('chink OR chinaman OR chyna OR chinkland OR gook', start, end)"
   ]
  },
  {
   "attachments": {},
   "cell_type": "markdown",
   "metadata": {},
   "source": [
    "### Scrape all target tweets of April"
   ]
  },
  {
   "cell_type": "code",
   "execution_count": 14,
   "metadata": {},
   "outputs": [],
   "source": [
    "start_date = date(2020, 4, 1)\n",
    "end_date = date(2020, 5, 1)\n",
    "delta = timedelta(days=1)\n",
    "apr_dates = start_end_generate(start_date, end_date, delta)"
   ]
  },
  {
   "cell_type": "code",
   "execution_count": 15,
   "metadata": {},
   "outputs": [
    {
     "name": "stderr",
     "output_type": "stream",
     "text": [
      "Error retrieving https://api.twitter.com/2/search/adaptive.json?include_profile_interstitial_type=1&include_blocking=1&include_blocked_by=1&include_followed_by=1&include_want_retweets=1&include_mute_edge=1&include_can_dm=1&include_can_media_tag=1&include_ext_has_nft_avatar=1&include_ext_is_blue_verified=1&include_ext_verified_type=1&skip_status=1&cards_platform=Web-12&include_cards=1&include_ext_alt_text=true&include_ext_limited_action_results=false&include_quote_count=true&include_reply_count=1&tweet_mode=extended&include_ext_collab_control=true&include_ext_views=true&include_entities=true&include_user_entities=true&include_ext_media_color=true&include_ext_media_availability=true&include_ext_sensitive_media_warning=true&include_ext_trusted_friends_metadata=true&send_error_codes=true&simple_quoted_tweet=true&q=chink+OR+chinaman+OR+chinkland+OR+chinavirus+OR+chinesevirus+OR+wuhanvirus+OR+kungflu+lang%3Aen+until%3A2020-04-02+since%3A2020-04-01&tweet_search_mode=live&count=20&query_source=spelling_expansion_revert_click&pc=1&spelling_corrections=1&include_ext_edit_control=true&ext=mediaStats%2ChighlightedLabel%2ChasNftAvatar%2CvoiceInfo%2Cenrichments%2CsuperFollowMetadata%2CunmentionInfo%2CeditControl%2Ccollab_control%2Cvibe: blocked (403)\n",
      "4 requests to https://api.twitter.com/2/search/adaptive.json?include_profile_interstitial_type=1&include_blocking=1&include_blocked_by=1&include_followed_by=1&include_want_retweets=1&include_mute_edge=1&include_can_dm=1&include_can_media_tag=1&include_ext_has_nft_avatar=1&include_ext_is_blue_verified=1&include_ext_verified_type=1&skip_status=1&cards_platform=Web-12&include_cards=1&include_ext_alt_text=true&include_ext_limited_action_results=false&include_quote_count=true&include_reply_count=1&tweet_mode=extended&include_ext_collab_control=true&include_ext_views=true&include_entities=true&include_user_entities=true&include_ext_media_color=true&include_ext_media_availability=true&include_ext_sensitive_media_warning=true&include_ext_trusted_friends_metadata=true&send_error_codes=true&simple_quoted_tweet=true&q=chink+OR+chinaman+OR+chinkland+OR+chinavirus+OR+chinesevirus+OR+wuhanvirus+OR+kungflu+lang%3Aen+until%3A2020-04-02+since%3A2020-04-01&tweet_search_mode=live&count=20&query_source=spelling_expansion_revert_click&pc=1&spelling_corrections=1&include_ext_edit_control=true&ext=mediaStats%2ChighlightedLabel%2ChasNftAvatar%2CvoiceInfo%2Cenrichments%2CsuperFollowMetadata%2CunmentionInfo%2CeditControl%2Ccollab_control%2Cvibe failed, giving up.\n",
      "Errors: blocked (403), blocked (403), blocked (403), blocked (403)\n"
     ]
    },
    {
     "ename": "ScraperException",
     "evalue": "4 requests to https://api.twitter.com/2/search/adaptive.json?include_profile_interstitial_type=1&include_blocking=1&include_blocked_by=1&include_followed_by=1&include_want_retweets=1&include_mute_edge=1&include_can_dm=1&include_can_media_tag=1&include_ext_has_nft_avatar=1&include_ext_is_blue_verified=1&include_ext_verified_type=1&skip_status=1&cards_platform=Web-12&include_cards=1&include_ext_alt_text=true&include_ext_limited_action_results=false&include_quote_count=true&include_reply_count=1&tweet_mode=extended&include_ext_collab_control=true&include_ext_views=true&include_entities=true&include_user_entities=true&include_ext_media_color=true&include_ext_media_availability=true&include_ext_sensitive_media_warning=true&include_ext_trusted_friends_metadata=true&send_error_codes=true&simple_quoted_tweet=true&q=chink+OR+chinaman+OR+chinkland+OR+chinavirus+OR+chinesevirus+OR+wuhanvirus+OR+kungflu+lang%3Aen+until%3A2020-04-02+since%3A2020-04-01&tweet_search_mode=live&count=20&query_source=spelling_expansion_revert_click&pc=1&spelling_corrections=1&include_ext_edit_control=true&ext=mediaStats%2ChighlightedLabel%2ChasNftAvatar%2CvoiceInfo%2Cenrichments%2CsuperFollowMetadata%2CunmentionInfo%2CeditControl%2Ccollab_control%2Cvibe failed, giving up.",
     "output_type": "error",
     "traceback": [
      "\u001b[0;31m---------------------------------------------------------------------------\u001b[0m",
      "\u001b[0;31mScraperException\u001b[0m                          Traceback (most recent call last)",
      "\u001b[1;32m/Users/itsyuzhou/Spring2023/MACS30200/replication-materials-yuzhouw313/scrape.ipynb Cell 20\u001b[0m in \u001b[0;36m<cell line: 1>\u001b[0;34m()\u001b[0m\n\u001b[1;32m      <a href='vscode-notebook-cell:/Users/itsyuzhou/Spring2023/MACS30200/replication-materials-yuzhouw313/scrape.ipynb#X25sZmlsZQ%3D%3D?line=0'>1</a>\u001b[0m \u001b[39mfor\u001b[39;00m i, pairs \u001b[39min\u001b[39;00m \u001b[39menumerate\u001b[39m(apr_dates):\n\u001b[1;32m      <a href='vscode-notebook-cell:/Users/itsyuzhou/Spring2023/MACS30200/replication-materials-yuzhouw313/scrape.ipynb#X25sZmlsZQ%3D%3D?line=1'>2</a>\u001b[0m     start, end \u001b[39m=\u001b[39m pairs\n\u001b[0;32m----> <a href='vscode-notebook-cell:/Users/itsyuzhou/Spring2023/MACS30200/replication-materials-yuzhouw313/scrape.ipynb#X25sZmlsZQ%3D%3D?line=2'>3</a>\u001b[0m     scraper_helper(\u001b[39m'\u001b[39;49m\u001b[39mchink OR chinaman OR chinkland OR chinavirus OR chinesevirus OR wuhanvirus OR kungflu\u001b[39;49m\u001b[39m'\u001b[39;49m, start, end)\n",
      "\u001b[1;32m/Users/itsyuzhou/Spring2023/MACS30200/replication-materials-yuzhouw313/scrape.ipynb Cell 20\u001b[0m in \u001b[0;36mscraper_helper\u001b[0;34m(keywords, start_time, end_time)\u001b[0m\n\u001b[1;32m      <a href='vscode-notebook-cell:/Users/itsyuzhou/Spring2023/MACS30200/replication-materials-yuzhouw313/scrape.ipynb#X25sZmlsZQ%3D%3D?line=1'>2</a>\u001b[0m query \u001b[39m=\u001b[39m keywords \u001b[39m+\u001b[39m \u001b[39m'\u001b[39m\u001b[39m lang:en until:\u001b[39m\u001b[39m'\u001b[39m \u001b[39m+\u001b[39m end_time \u001b[39m+\u001b[39m \u001b[39m'\u001b[39m\u001b[39m since:\u001b[39m\u001b[39m'\u001b[39m \u001b[39m+\u001b[39m start_time\n\u001b[1;32m      <a href='vscode-notebook-cell:/Users/itsyuzhou/Spring2023/MACS30200/replication-materials-yuzhouw313/scrape.ipynb#X25sZmlsZQ%3D%3D?line=2'>3</a>\u001b[0m lst \u001b[39m=\u001b[39m []\n\u001b[0;32m----> <a href='vscode-notebook-cell:/Users/itsyuzhou/Spring2023/MACS30200/replication-materials-yuzhouw313/scrape.ipynb#X25sZmlsZQ%3D%3D?line=3'>4</a>\u001b[0m \u001b[39mfor\u001b[39;00m i, tweet \u001b[39min\u001b[39;00m \u001b[39menumerate\u001b[39m(sntwitter\u001b[39m.\u001b[39mTwitterSearchScraper(query)\u001b[39m.\u001b[39mget_items()):\n\u001b[1;32m      <a href='vscode-notebook-cell:/Users/itsyuzhou/Spring2023/MACS30200/replication-materials-yuzhouw313/scrape.ipynb#X25sZmlsZQ%3D%3D?line=4'>5</a>\u001b[0m     \u001b[39mif\u001b[39;00m i \u001b[39m>\u001b[39m \u001b[39m2000\u001b[39m:\n\u001b[1;32m      <a href='vscode-notebook-cell:/Users/itsyuzhou/Spring2023/MACS30200/replication-materials-yuzhouw313/scrape.ipynb#X25sZmlsZQ%3D%3D?line=5'>6</a>\u001b[0m         \u001b[39mbreak\u001b[39;00m\n",
      "File \u001b[0;32m~/opt/anaconda3/lib/python3.9/site-packages/snscrape/modules/twitter.py:1661\u001b[0m, in \u001b[0;36mTwitterSearchScraper.get_items\u001b[0;34m(self)\u001b[0m\n\u001b[1;32m   1658\u001b[0m params \u001b[39m=\u001b[39m paginationParams\u001b[39m.\u001b[39mcopy()\n\u001b[1;32m   1659\u001b[0m \u001b[39mdel\u001b[39;00m params[\u001b[39m'\u001b[39m\u001b[39mcursor\u001b[39m\u001b[39m'\u001b[39m]\n\u001b[0;32m-> 1661\u001b[0m \u001b[39mfor\u001b[39;00m obj \u001b[39min\u001b[39;00m \u001b[39mself\u001b[39m\u001b[39m.\u001b[39m_iter_api_data(\u001b[39m'\u001b[39m\u001b[39mhttps://api.twitter.com/2/search/adaptive.json\u001b[39m\u001b[39m'\u001b[39m, _TwitterAPIType\u001b[39m.\u001b[39mV2, params, paginationParams, cursor \u001b[39m=\u001b[39m \u001b[39mself\u001b[39m\u001b[39m.\u001b[39m_cursor):\n\u001b[1;32m   1662\u001b[0m \t\u001b[39myield from\u001b[39;00m \u001b[39mself\u001b[39m\u001b[39m.\u001b[39m_v2_timeline_instructions_to_tweets_or_users(obj)\n",
      "File \u001b[0;32m~/opt/anaconda3/lib/python3.9/site-packages/snscrape/modules/twitter.py:761\u001b[0m, in \u001b[0;36m_TwitterAPIScraper._iter_api_data\u001b[0;34m(self, endpoint, apiType, params, paginationParams, cursor, direction)\u001b[0m\n\u001b[1;32m    759\u001b[0m \u001b[39mwhile\u001b[39;00m \u001b[39mTrue\u001b[39;00m:\n\u001b[1;32m    760\u001b[0m \t_logger\u001b[39m.\u001b[39minfo(\u001b[39mf\u001b[39m\u001b[39m'\u001b[39m\u001b[39mRetrieving scroll page \u001b[39m\u001b[39m{\u001b[39;00mcursor\u001b[39m}\u001b[39;00m\u001b[39m'\u001b[39m)\n\u001b[0;32m--> 761\u001b[0m \tobj \u001b[39m=\u001b[39m \u001b[39mself\u001b[39;49m\u001b[39m.\u001b[39;49m_get_api_data(endpoint, apiType, reqParams)\n\u001b[1;32m    762\u001b[0m \t\u001b[39myield\u001b[39;00m obj\n\u001b[1;32m    764\u001b[0m \t\u001b[39m# No data format test, just a hard and loud crash if anything's wrong :-)\u001b[39;00m\n",
      "File \u001b[0;32m~/opt/anaconda3/lib/python3.9/site-packages/snscrape/modules/twitter.py:727\u001b[0m, in \u001b[0;36m_TwitterAPIScraper._get_api_data\u001b[0;34m(self, endpoint, apiType, params)\u001b[0m\n\u001b[1;32m    725\u001b[0m \u001b[39mif\u001b[39;00m apiType \u001b[39mis\u001b[39;00m _TwitterAPIType\u001b[39m.\u001b[39mGRAPHQL:\n\u001b[1;32m    726\u001b[0m \tparams \u001b[39m=\u001b[39m urllib\u001b[39m.\u001b[39mparse\u001b[39m.\u001b[39murlencode({k: json\u001b[39m.\u001b[39mdumps(v, separators \u001b[39m=\u001b[39m (\u001b[39m'\u001b[39m\u001b[39m,\u001b[39m\u001b[39m'\u001b[39m, \u001b[39m'\u001b[39m\u001b[39m:\u001b[39m\u001b[39m'\u001b[39m)) \u001b[39mfor\u001b[39;00m k, v \u001b[39min\u001b[39;00m params\u001b[39m.\u001b[39mitems()}, quote_via \u001b[39m=\u001b[39m urllib\u001b[39m.\u001b[39mparse\u001b[39m.\u001b[39mquote)\n\u001b[0;32m--> 727\u001b[0m r \u001b[39m=\u001b[39m \u001b[39mself\u001b[39;49m\u001b[39m.\u001b[39;49m_get(endpoint, params \u001b[39m=\u001b[39;49m params, headers \u001b[39m=\u001b[39;49m \u001b[39mself\u001b[39;49m\u001b[39m.\u001b[39;49m_apiHeaders, responseOkCallback \u001b[39m=\u001b[39;49m \u001b[39mself\u001b[39;49m\u001b[39m.\u001b[39;49m_check_api_response)\n\u001b[1;32m    728\u001b[0m \u001b[39mtry\u001b[39;00m:\n\u001b[1;32m    729\u001b[0m \tobj \u001b[39m=\u001b[39m r\u001b[39m.\u001b[39mjson()\n",
      "File \u001b[0;32m~/opt/anaconda3/lib/python3.9/site-packages/snscrape/base.py:251\u001b[0m, in \u001b[0;36mScraper._get\u001b[0;34m(self, *args, **kwargs)\u001b[0m\n\u001b[1;32m    250\u001b[0m \u001b[39mdef\u001b[39;00m \u001b[39m_get\u001b[39m(\u001b[39mself\u001b[39m, \u001b[39m*\u001b[39margs, \u001b[39m*\u001b[39m\u001b[39m*\u001b[39mkwargs):\n\u001b[0;32m--> 251\u001b[0m \t\u001b[39mreturn\u001b[39;00m \u001b[39mself\u001b[39;49m\u001b[39m.\u001b[39;49m_request(\u001b[39m'\u001b[39;49m\u001b[39mGET\u001b[39;49m\u001b[39m'\u001b[39;49m, \u001b[39m*\u001b[39;49margs, \u001b[39m*\u001b[39;49m\u001b[39m*\u001b[39;49mkwargs)\n",
      "File \u001b[0;32m~/opt/anaconda3/lib/python3.9/site-packages/snscrape/base.py:247\u001b[0m, in \u001b[0;36mScraper._request\u001b[0;34m(self, method, url, params, data, headers, timeout, responseOkCallback, allowRedirects, proxies)\u001b[0m\n\u001b[1;32m    245\u001b[0m \t_logger\u001b[39m.\u001b[39mfatal(msg)\n\u001b[1;32m    246\u001b[0m \t_logger\u001b[39m.\u001b[39mfatal(\u001b[39mf\u001b[39m\u001b[39m'\u001b[39m\u001b[39mErrors: \u001b[39m\u001b[39m{\u001b[39;00m\u001b[39m\"\u001b[39m\u001b[39m, \u001b[39m\u001b[39m\"\u001b[39m\u001b[39m.\u001b[39mjoin(errors)\u001b[39m}\u001b[39;00m\u001b[39m'\u001b[39m)\n\u001b[0;32m--> 247\u001b[0m \t\u001b[39mraise\u001b[39;00m ScraperException(msg)\n\u001b[1;32m    248\u001b[0m \u001b[39mraise\u001b[39;00m \u001b[39mRuntimeError\u001b[39;00m(\u001b[39m'\u001b[39m\u001b[39mReached unreachable code\u001b[39m\u001b[39m'\u001b[39m)\n",
      "\u001b[0;31mScraperException\u001b[0m: 4 requests to https://api.twitter.com/2/search/adaptive.json?include_profile_interstitial_type=1&include_blocking=1&include_blocked_by=1&include_followed_by=1&include_want_retweets=1&include_mute_edge=1&include_can_dm=1&include_can_media_tag=1&include_ext_has_nft_avatar=1&include_ext_is_blue_verified=1&include_ext_verified_type=1&skip_status=1&cards_platform=Web-12&include_cards=1&include_ext_alt_text=true&include_ext_limited_action_results=false&include_quote_count=true&include_reply_count=1&tweet_mode=extended&include_ext_collab_control=true&include_ext_views=true&include_entities=true&include_user_entities=true&include_ext_media_color=true&include_ext_media_availability=true&include_ext_sensitive_media_warning=true&include_ext_trusted_friends_metadata=true&send_error_codes=true&simple_quoted_tweet=true&q=chink+OR+chinaman+OR+chinkland+OR+chinavirus+OR+chinesevirus+OR+wuhanvirus+OR+kungflu+lang%3Aen+until%3A2020-04-02+since%3A2020-04-01&tweet_search_mode=live&count=20&query_source=spelling_expansion_revert_click&pc=1&spelling_corrections=1&include_ext_edit_control=true&ext=mediaStats%2ChighlightedLabel%2ChasNftAvatar%2CvoiceInfo%2Cenrichments%2CsuperFollowMetadata%2CunmentionInfo%2CeditControl%2Ccollab_control%2Cvibe failed, giving up."
     ]
    }
   ],
   "source": [
    "for i, pairs in enumerate(apr_dates):\n",
    "    start, end = pairs\n",
    "    scraper_helper('chink OR chinaman OR chyna OR chinkland OR gook', start, end)"
   ]
  },
  {
   "attachments": {},
   "cell_type": "markdown",
   "metadata": {},
   "source": [
    "### Scrape all target tweets of May"
   ]
  },
  {
   "cell_type": "code",
   "execution_count": 20,
   "metadata": {},
   "outputs": [],
   "source": [
    "start_date = date(2020, 5, 1)\n",
    "end_date = date(2020, 6, 1)\n",
    "delta = timedelta(days=1)\n",
    "may_dates = start_end_generate(start_date, end_date, delta)"
   ]
  },
  {
   "cell_type": "code",
   "execution_count": 21,
   "metadata": {},
   "outputs": [
    {
     "name": "stderr",
     "output_type": "stream",
     "text": [
      "/var/folders/bz/72zd2hjs5t5drbxxvfh0xhph0000gn/T/ipykernel_13759/3203291555.py:7: DeprecatedFeatureWarning: content is deprecated, use rawContent instead\n",
      "  lst.append([tweet.date, tweet.id, tweet.user.username, tweet.content])\n",
      "/var/folders/bz/72zd2hjs5t5drbxxvfh0xhph0000gn/T/ipykernel_13759/3203291555.py:7: DeprecatedFeatureWarning: content is deprecated, use rawContent instead\n",
      "  lst.append([tweet.date, tweet.id, tweet.user.username, tweet.content])\n",
      "/var/folders/bz/72zd2hjs5t5drbxxvfh0xhph0000gn/T/ipykernel_13759/3203291555.py:7: DeprecatedFeatureWarning: content is deprecated, use rawContent instead\n",
      "  lst.append([tweet.date, tweet.id, tweet.user.username, tweet.content])\n",
      "/var/folders/bz/72zd2hjs5t5drbxxvfh0xhph0000gn/T/ipykernel_13759/3203291555.py:7: DeprecatedFeatureWarning: content is deprecated, use rawContent instead\n",
      "  lst.append([tweet.date, tweet.id, tweet.user.username, tweet.content])\n",
      "/var/folders/bz/72zd2hjs5t5drbxxvfh0xhph0000gn/T/ipykernel_13759/3203291555.py:7: DeprecatedFeatureWarning: content is deprecated, use rawContent instead\n",
      "  lst.append([tweet.date, tweet.id, tweet.user.username, tweet.content])\n",
      "/var/folders/bz/72zd2hjs5t5drbxxvfh0xhph0000gn/T/ipykernel_13759/3203291555.py:7: DeprecatedFeatureWarning: content is deprecated, use rawContent instead\n",
      "  lst.append([tweet.date, tweet.id, tweet.user.username, tweet.content])\n",
      "/var/folders/bz/72zd2hjs5t5drbxxvfh0xhph0000gn/T/ipykernel_13759/3203291555.py:7: DeprecatedFeatureWarning: content is deprecated, use rawContent instead\n",
      "  lst.append([tweet.date, tweet.id, tweet.user.username, tweet.content])\n",
      "/var/folders/bz/72zd2hjs5t5drbxxvfh0xhph0000gn/T/ipykernel_13759/3203291555.py:7: DeprecatedFeatureWarning: content is deprecated, use rawContent instead\n",
      "  lst.append([tweet.date, tweet.id, tweet.user.username, tweet.content])\n",
      "/var/folders/bz/72zd2hjs5t5drbxxvfh0xhph0000gn/T/ipykernel_13759/3203291555.py:7: DeprecatedFeatureWarning: content is deprecated, use rawContent instead\n",
      "  lst.append([tweet.date, tweet.id, tweet.user.username, tweet.content])\n",
      "/var/folders/bz/72zd2hjs5t5drbxxvfh0xhph0000gn/T/ipykernel_13759/3203291555.py:7: DeprecatedFeatureWarning: content is deprecated, use rawContent instead\n",
      "  lst.append([tweet.date, tweet.id, tweet.user.username, tweet.content])\n",
      "/var/folders/bz/72zd2hjs5t5drbxxvfh0xhph0000gn/T/ipykernel_13759/3203291555.py:7: DeprecatedFeatureWarning: content is deprecated, use rawContent instead\n",
      "  lst.append([tweet.date, tweet.id, tweet.user.username, tweet.content])\n",
      "/var/folders/bz/72zd2hjs5t5drbxxvfh0xhph0000gn/T/ipykernel_13759/3203291555.py:7: DeprecatedFeatureWarning: content is deprecated, use rawContent instead\n",
      "  lst.append([tweet.date, tweet.id, tweet.user.username, tweet.content])\n",
      "/var/folders/bz/72zd2hjs5t5drbxxvfh0xhph0000gn/T/ipykernel_13759/3203291555.py:7: DeprecatedFeatureWarning: content is deprecated, use rawContent instead\n",
      "  lst.append([tweet.date, tweet.id, tweet.user.username, tweet.content])\n",
      "/var/folders/bz/72zd2hjs5t5drbxxvfh0xhph0000gn/T/ipykernel_13759/3203291555.py:7: DeprecatedFeatureWarning: content is deprecated, use rawContent instead\n",
      "  lst.append([tweet.date, tweet.id, tweet.user.username, tweet.content])\n",
      "/var/folders/bz/72zd2hjs5t5drbxxvfh0xhph0000gn/T/ipykernel_13759/3203291555.py:7: DeprecatedFeatureWarning: content is deprecated, use rawContent instead\n",
      "  lst.append([tweet.date, tweet.id, tweet.user.username, tweet.content])\n",
      "/var/folders/bz/72zd2hjs5t5drbxxvfh0xhph0000gn/T/ipykernel_13759/3203291555.py:7: DeprecatedFeatureWarning: content is deprecated, use rawContent instead\n",
      "  lst.append([tweet.date, tweet.id, tweet.user.username, tweet.content])\n",
      "/var/folders/bz/72zd2hjs5t5drbxxvfh0xhph0000gn/T/ipykernel_13759/3203291555.py:7: DeprecatedFeatureWarning: content is deprecated, use rawContent instead\n",
      "  lst.append([tweet.date, tweet.id, tweet.user.username, tweet.content])\n",
      "/var/folders/bz/72zd2hjs5t5drbxxvfh0xhph0000gn/T/ipykernel_13759/3203291555.py:7: DeprecatedFeatureWarning: content is deprecated, use rawContent instead\n",
      "  lst.append([tweet.date, tweet.id, tweet.user.username, tweet.content])\n",
      "/var/folders/bz/72zd2hjs5t5drbxxvfh0xhph0000gn/T/ipykernel_13759/3203291555.py:7: DeprecatedFeatureWarning: content is deprecated, use rawContent instead\n",
      "  lst.append([tweet.date, tweet.id, tweet.user.username, tweet.content])\n",
      "/var/folders/bz/72zd2hjs5t5drbxxvfh0xhph0000gn/T/ipykernel_13759/3203291555.py:7: DeprecatedFeatureWarning: content is deprecated, use rawContent instead\n",
      "  lst.append([tweet.date, tweet.id, tweet.user.username, tweet.content])\n",
      "/var/folders/bz/72zd2hjs5t5drbxxvfh0xhph0000gn/T/ipykernel_13759/3203291555.py:7: DeprecatedFeatureWarning: content is deprecated, use rawContent instead\n",
      "  lst.append([tweet.date, tweet.id, tweet.user.username, tweet.content])\n",
      "/var/folders/bz/72zd2hjs5t5drbxxvfh0xhph0000gn/T/ipykernel_13759/3203291555.py:7: DeprecatedFeatureWarning: content is deprecated, use rawContent instead\n",
      "  lst.append([tweet.date, tweet.id, tweet.user.username, tweet.content])\n",
      "/var/folders/bz/72zd2hjs5t5drbxxvfh0xhph0000gn/T/ipykernel_13759/3203291555.py:7: DeprecatedFeatureWarning: content is deprecated, use rawContent instead\n",
      "  lst.append([tweet.date, tweet.id, tweet.user.username, tweet.content])\n",
      "/var/folders/bz/72zd2hjs5t5drbxxvfh0xhph0000gn/T/ipykernel_13759/3203291555.py:7: DeprecatedFeatureWarning: content is deprecated, use rawContent instead\n",
      "  lst.append([tweet.date, tweet.id, tweet.user.username, tweet.content])\n",
      "/var/folders/bz/72zd2hjs5t5drbxxvfh0xhph0000gn/T/ipykernel_13759/3203291555.py:7: DeprecatedFeatureWarning: content is deprecated, use rawContent instead\n",
      "  lst.append([tweet.date, tweet.id, tweet.user.username, tweet.content])\n",
      "/var/folders/bz/72zd2hjs5t5drbxxvfh0xhph0000gn/T/ipykernel_13759/3203291555.py:7: DeprecatedFeatureWarning: content is deprecated, use rawContent instead\n",
      "  lst.append([tweet.date, tweet.id, tweet.user.username, tweet.content])\n",
      "/var/folders/bz/72zd2hjs5t5drbxxvfh0xhph0000gn/T/ipykernel_13759/3203291555.py:7: DeprecatedFeatureWarning: content is deprecated, use rawContent instead\n",
      "  lst.append([tweet.date, tweet.id, tweet.user.username, tweet.content])\n",
      "/var/folders/bz/72zd2hjs5t5drbxxvfh0xhph0000gn/T/ipykernel_13759/3203291555.py:7: DeprecatedFeatureWarning: content is deprecated, use rawContent instead\n",
      "  lst.append([tweet.date, tweet.id, tweet.user.username, tweet.content])\n",
      "/var/folders/bz/72zd2hjs5t5drbxxvfh0xhph0000gn/T/ipykernel_13759/3203291555.py:7: DeprecatedFeatureWarning: content is deprecated, use rawContent instead\n",
      "  lst.append([tweet.date, tweet.id, tweet.user.username, tweet.content])\n",
      "/var/folders/bz/72zd2hjs5t5drbxxvfh0xhph0000gn/T/ipykernel_13759/3203291555.py:7: DeprecatedFeatureWarning: content is deprecated, use rawContent instead\n",
      "  lst.append([tweet.date, tweet.id, tweet.user.username, tweet.content])\n",
      "/var/folders/bz/72zd2hjs5t5drbxxvfh0xhph0000gn/T/ipykernel_13759/3203291555.py:7: DeprecatedFeatureWarning: content is deprecated, use rawContent instead\n",
      "  lst.append([tweet.date, tweet.id, tweet.user.username, tweet.content])\n"
     ]
    }
   ],
   "source": [
    "for i, pairs in enumerate(may_dates):\n",
    "    start, end = pairs\n",
    "    scraper_helper('chink OR chinaman OR chyna OR chinkland OR gook', start, end)"
   ]
  },
  {
   "attachments": {},
   "cell_type": "markdown",
   "metadata": {},
   "source": [
    "### Scrape all target tweets of June"
   ]
  },
  {
   "cell_type": "code",
   "execution_count": 22,
   "metadata": {},
   "outputs": [],
   "source": [
    "start_date = date(2020, 6, 1)\n",
    "end_date = date(2020, 7, 1)\n",
    "delta = timedelta(days=1)\n",
    "jun_dates = start_end_generate(start_date, end_date, delta)"
   ]
  },
  {
   "cell_type": "code",
   "execution_count": 23,
   "metadata": {},
   "outputs": [
    {
     "name": "stderr",
     "output_type": "stream",
     "text": [
      "/var/folders/bz/72zd2hjs5t5drbxxvfh0xhph0000gn/T/ipykernel_13759/3203291555.py:7: DeprecatedFeatureWarning: content is deprecated, use rawContent instead\n",
      "  lst.append([tweet.date, tweet.id, tweet.user.username, tweet.content])\n",
      "/var/folders/bz/72zd2hjs5t5drbxxvfh0xhph0000gn/T/ipykernel_13759/3203291555.py:7: DeprecatedFeatureWarning: content is deprecated, use rawContent instead\n",
      "  lst.append([tweet.date, tweet.id, tweet.user.username, tweet.content])\n",
      "/var/folders/bz/72zd2hjs5t5drbxxvfh0xhph0000gn/T/ipykernel_13759/3203291555.py:7: DeprecatedFeatureWarning: content is deprecated, use rawContent instead\n",
      "  lst.append([tweet.date, tweet.id, tweet.user.username, tweet.content])\n",
      "/var/folders/bz/72zd2hjs5t5drbxxvfh0xhph0000gn/T/ipykernel_13759/3203291555.py:7: DeprecatedFeatureWarning: content is deprecated, use rawContent instead\n",
      "  lst.append([tweet.date, tweet.id, tweet.user.username, tweet.content])\n",
      "/var/folders/bz/72zd2hjs5t5drbxxvfh0xhph0000gn/T/ipykernel_13759/3203291555.py:7: DeprecatedFeatureWarning: content is deprecated, use rawContent instead\n",
      "  lst.append([tweet.date, tweet.id, tweet.user.username, tweet.content])\n",
      "/var/folders/bz/72zd2hjs5t5drbxxvfh0xhph0000gn/T/ipykernel_13759/3203291555.py:7: DeprecatedFeatureWarning: content is deprecated, use rawContent instead\n",
      "  lst.append([tweet.date, tweet.id, tweet.user.username, tweet.content])\n",
      "/var/folders/bz/72zd2hjs5t5drbxxvfh0xhph0000gn/T/ipykernel_13759/3203291555.py:7: DeprecatedFeatureWarning: content is deprecated, use rawContent instead\n",
      "  lst.append([tweet.date, tweet.id, tweet.user.username, tweet.content])\n",
      "/var/folders/bz/72zd2hjs5t5drbxxvfh0xhph0000gn/T/ipykernel_13759/3203291555.py:7: DeprecatedFeatureWarning: content is deprecated, use rawContent instead\n",
      "  lst.append([tweet.date, tweet.id, tweet.user.username, tweet.content])\n",
      "/var/folders/bz/72zd2hjs5t5drbxxvfh0xhph0000gn/T/ipykernel_13759/3203291555.py:7: DeprecatedFeatureWarning: content is deprecated, use rawContent instead\n",
      "  lst.append([tweet.date, tweet.id, tweet.user.username, tweet.content])\n",
      "/var/folders/bz/72zd2hjs5t5drbxxvfh0xhph0000gn/T/ipykernel_13759/3203291555.py:7: DeprecatedFeatureWarning: content is deprecated, use rawContent instead\n",
      "  lst.append([tweet.date, tweet.id, tweet.user.username, tweet.content])\n",
      "/var/folders/bz/72zd2hjs5t5drbxxvfh0xhph0000gn/T/ipykernel_13759/3203291555.py:7: DeprecatedFeatureWarning: content is deprecated, use rawContent instead\n",
      "  lst.append([tweet.date, tweet.id, tweet.user.username, tweet.content])\n",
      "/var/folders/bz/72zd2hjs5t5drbxxvfh0xhph0000gn/T/ipykernel_13759/3203291555.py:7: DeprecatedFeatureWarning: content is deprecated, use rawContent instead\n",
      "  lst.append([tweet.date, tweet.id, tweet.user.username, tweet.content])\n",
      "/var/folders/bz/72zd2hjs5t5drbxxvfh0xhph0000gn/T/ipykernel_13759/3203291555.py:7: DeprecatedFeatureWarning: content is deprecated, use rawContent instead\n",
      "  lst.append([tweet.date, tweet.id, tweet.user.username, tweet.content])\n",
      "/var/folders/bz/72zd2hjs5t5drbxxvfh0xhph0000gn/T/ipykernel_13759/3203291555.py:7: DeprecatedFeatureWarning: content is deprecated, use rawContent instead\n",
      "  lst.append([tweet.date, tweet.id, tweet.user.username, tweet.content])\n",
      "/var/folders/bz/72zd2hjs5t5drbxxvfh0xhph0000gn/T/ipykernel_13759/3203291555.py:7: DeprecatedFeatureWarning: content is deprecated, use rawContent instead\n",
      "  lst.append([tweet.date, tweet.id, tweet.user.username, tweet.content])\n",
      "/var/folders/bz/72zd2hjs5t5drbxxvfh0xhph0000gn/T/ipykernel_13759/3203291555.py:7: DeprecatedFeatureWarning: content is deprecated, use rawContent instead\n",
      "  lst.append([tweet.date, tweet.id, tweet.user.username, tweet.content])\n",
      "/var/folders/bz/72zd2hjs5t5drbxxvfh0xhph0000gn/T/ipykernel_13759/3203291555.py:7: DeprecatedFeatureWarning: content is deprecated, use rawContent instead\n",
      "  lst.append([tweet.date, tweet.id, tweet.user.username, tweet.content])\n",
      "/var/folders/bz/72zd2hjs5t5drbxxvfh0xhph0000gn/T/ipykernel_13759/3203291555.py:7: DeprecatedFeatureWarning: content is deprecated, use rawContent instead\n",
      "  lst.append([tweet.date, tweet.id, tweet.user.username, tweet.content])\n",
      "/var/folders/bz/72zd2hjs5t5drbxxvfh0xhph0000gn/T/ipykernel_13759/3203291555.py:7: DeprecatedFeatureWarning: content is deprecated, use rawContent instead\n",
      "  lst.append([tweet.date, tweet.id, tweet.user.username, tweet.content])\n",
      "/var/folders/bz/72zd2hjs5t5drbxxvfh0xhph0000gn/T/ipykernel_13759/3203291555.py:7: DeprecatedFeatureWarning: content is deprecated, use rawContent instead\n",
      "  lst.append([tweet.date, tweet.id, tweet.user.username, tweet.content])\n",
      "/var/folders/bz/72zd2hjs5t5drbxxvfh0xhph0000gn/T/ipykernel_13759/3203291555.py:7: DeprecatedFeatureWarning: content is deprecated, use rawContent instead\n",
      "  lst.append([tweet.date, tweet.id, tweet.user.username, tweet.content])\n",
      "/var/folders/bz/72zd2hjs5t5drbxxvfh0xhph0000gn/T/ipykernel_13759/3203291555.py:7: DeprecatedFeatureWarning: content is deprecated, use rawContent instead\n",
      "  lst.append([tweet.date, tweet.id, tweet.user.username, tweet.content])\n",
      "/var/folders/bz/72zd2hjs5t5drbxxvfh0xhph0000gn/T/ipykernel_13759/3203291555.py:7: DeprecatedFeatureWarning: content is deprecated, use rawContent instead\n",
      "  lst.append([tweet.date, tweet.id, tweet.user.username, tweet.content])\n",
      "/var/folders/bz/72zd2hjs5t5drbxxvfh0xhph0000gn/T/ipykernel_13759/3203291555.py:7: DeprecatedFeatureWarning: content is deprecated, use rawContent instead\n",
      "  lst.append([tweet.date, tweet.id, tweet.user.username, tweet.content])\n",
      "/var/folders/bz/72zd2hjs5t5drbxxvfh0xhph0000gn/T/ipykernel_13759/3203291555.py:7: DeprecatedFeatureWarning: content is deprecated, use rawContent instead\n",
      "  lst.append([tweet.date, tweet.id, tweet.user.username, tweet.content])\n",
      "/var/folders/bz/72zd2hjs5t5drbxxvfh0xhph0000gn/T/ipykernel_13759/3203291555.py:7: DeprecatedFeatureWarning: content is deprecated, use rawContent instead\n",
      "  lst.append([tweet.date, tweet.id, tweet.user.username, tweet.content])\n",
      "/var/folders/bz/72zd2hjs5t5drbxxvfh0xhph0000gn/T/ipykernel_13759/3203291555.py:7: DeprecatedFeatureWarning: content is deprecated, use rawContent instead\n",
      "  lst.append([tweet.date, tweet.id, tweet.user.username, tweet.content])\n",
      "/var/folders/bz/72zd2hjs5t5drbxxvfh0xhph0000gn/T/ipykernel_13759/3203291555.py:7: DeprecatedFeatureWarning: content is deprecated, use rawContent instead\n",
      "  lst.append([tweet.date, tweet.id, tweet.user.username, tweet.content])\n",
      "/var/folders/bz/72zd2hjs5t5drbxxvfh0xhph0000gn/T/ipykernel_13759/3203291555.py:7: DeprecatedFeatureWarning: content is deprecated, use rawContent instead\n",
      "  lst.append([tweet.date, tweet.id, tweet.user.username, tweet.content])\n",
      "/var/folders/bz/72zd2hjs5t5drbxxvfh0xhph0000gn/T/ipykernel_13759/3203291555.py:7: DeprecatedFeatureWarning: content is deprecated, use rawContent instead\n",
      "  lst.append([tweet.date, tweet.id, tweet.user.username, tweet.content])\n"
     ]
    }
   ],
   "source": [
    "for i, pairs in enumerate(jun_dates):\n",
    "    start, end = pairs\n",
    "    scraper_helper('chink OR chinaman OR chyna OR chinkland OR gook', start, end)"
   ]
  },
  {
   "attachments": {},
   "cell_type": "markdown",
   "metadata": {},
   "source": [
    "### Scrape all target tweets of July"
   ]
  },
  {
   "cell_type": "code",
   "execution_count": 24,
   "metadata": {},
   "outputs": [],
   "source": [
    "start_date = date(2020, 7, 1)\n",
    "end_date = date(2020, 8, 1)\n",
    "delta = timedelta(days=1)\n",
    "jul_dates = start_end_generate(start_date, end_date, delta)"
   ]
  },
  {
   "cell_type": "code",
   "execution_count": 25,
   "metadata": {},
   "outputs": [
    {
     "name": "stderr",
     "output_type": "stream",
     "text": [
      "/var/folders/bz/72zd2hjs5t5drbxxvfh0xhph0000gn/T/ipykernel_13759/3203291555.py:7: DeprecatedFeatureWarning: content is deprecated, use rawContent instead\n",
      "  lst.append([tweet.date, tweet.id, tweet.user.username, tweet.content])\n",
      "/var/folders/bz/72zd2hjs5t5drbxxvfh0xhph0000gn/T/ipykernel_13759/3203291555.py:7: DeprecatedFeatureWarning: content is deprecated, use rawContent instead\n",
      "  lst.append([tweet.date, tweet.id, tweet.user.username, tweet.content])\n",
      "/var/folders/bz/72zd2hjs5t5drbxxvfh0xhph0000gn/T/ipykernel_13759/3203291555.py:7: DeprecatedFeatureWarning: content is deprecated, use rawContent instead\n",
      "  lst.append([tweet.date, tweet.id, tweet.user.username, tweet.content])\n",
      "/var/folders/bz/72zd2hjs5t5drbxxvfh0xhph0000gn/T/ipykernel_13759/3203291555.py:7: DeprecatedFeatureWarning: content is deprecated, use rawContent instead\n",
      "  lst.append([tweet.date, tweet.id, tweet.user.username, tweet.content])\n",
      "/var/folders/bz/72zd2hjs5t5drbxxvfh0xhph0000gn/T/ipykernel_13759/3203291555.py:7: DeprecatedFeatureWarning: content is deprecated, use rawContent instead\n",
      "  lst.append([tweet.date, tweet.id, tweet.user.username, tweet.content])\n",
      "/var/folders/bz/72zd2hjs5t5drbxxvfh0xhph0000gn/T/ipykernel_13759/3203291555.py:7: DeprecatedFeatureWarning: content is deprecated, use rawContent instead\n",
      "  lst.append([tweet.date, tweet.id, tweet.user.username, tweet.content])\n",
      "/var/folders/bz/72zd2hjs5t5drbxxvfh0xhph0000gn/T/ipykernel_13759/3203291555.py:7: DeprecatedFeatureWarning: content is deprecated, use rawContent instead\n",
      "  lst.append([tweet.date, tweet.id, tweet.user.username, tweet.content])\n",
      "/var/folders/bz/72zd2hjs5t5drbxxvfh0xhph0000gn/T/ipykernel_13759/3203291555.py:7: DeprecatedFeatureWarning: content is deprecated, use rawContent instead\n",
      "  lst.append([tweet.date, tweet.id, tweet.user.username, tweet.content])\n",
      "/var/folders/bz/72zd2hjs5t5drbxxvfh0xhph0000gn/T/ipykernel_13759/3203291555.py:7: DeprecatedFeatureWarning: content is deprecated, use rawContent instead\n",
      "  lst.append([tweet.date, tweet.id, tweet.user.username, tweet.content])\n",
      "/var/folders/bz/72zd2hjs5t5drbxxvfh0xhph0000gn/T/ipykernel_13759/3203291555.py:7: DeprecatedFeatureWarning: content is deprecated, use rawContent instead\n",
      "  lst.append([tweet.date, tweet.id, tweet.user.username, tweet.content])\n",
      "/var/folders/bz/72zd2hjs5t5drbxxvfh0xhph0000gn/T/ipykernel_13759/3203291555.py:7: DeprecatedFeatureWarning: content is deprecated, use rawContent instead\n",
      "  lst.append([tweet.date, tweet.id, tweet.user.username, tweet.content])\n",
      "/var/folders/bz/72zd2hjs5t5drbxxvfh0xhph0000gn/T/ipykernel_13759/3203291555.py:7: DeprecatedFeatureWarning: content is deprecated, use rawContent instead\n",
      "  lst.append([tweet.date, tweet.id, tweet.user.username, tweet.content])\n",
      "/var/folders/bz/72zd2hjs5t5drbxxvfh0xhph0000gn/T/ipykernel_13759/3203291555.py:7: DeprecatedFeatureWarning: content is deprecated, use rawContent instead\n",
      "  lst.append([tweet.date, tweet.id, tweet.user.username, tweet.content])\n",
      "/var/folders/bz/72zd2hjs5t5drbxxvfh0xhph0000gn/T/ipykernel_13759/3203291555.py:7: DeprecatedFeatureWarning: content is deprecated, use rawContent instead\n",
      "  lst.append([tweet.date, tweet.id, tweet.user.username, tweet.content])\n",
      "/var/folders/bz/72zd2hjs5t5drbxxvfh0xhph0000gn/T/ipykernel_13759/3203291555.py:7: DeprecatedFeatureWarning: content is deprecated, use rawContent instead\n",
      "  lst.append([tweet.date, tweet.id, tweet.user.username, tweet.content])\n",
      "/var/folders/bz/72zd2hjs5t5drbxxvfh0xhph0000gn/T/ipykernel_13759/3203291555.py:7: DeprecatedFeatureWarning: content is deprecated, use rawContent instead\n",
      "  lst.append([tweet.date, tweet.id, tweet.user.username, tweet.content])\n",
      "/var/folders/bz/72zd2hjs5t5drbxxvfh0xhph0000gn/T/ipykernel_13759/3203291555.py:7: DeprecatedFeatureWarning: content is deprecated, use rawContent instead\n",
      "  lst.append([tweet.date, tweet.id, tweet.user.username, tweet.content])\n",
      "/var/folders/bz/72zd2hjs5t5drbxxvfh0xhph0000gn/T/ipykernel_13759/3203291555.py:7: DeprecatedFeatureWarning: content is deprecated, use rawContent instead\n",
      "  lst.append([tweet.date, tweet.id, tweet.user.username, tweet.content])\n",
      "/var/folders/bz/72zd2hjs5t5drbxxvfh0xhph0000gn/T/ipykernel_13759/3203291555.py:7: DeprecatedFeatureWarning: content is deprecated, use rawContent instead\n",
      "  lst.append([tweet.date, tweet.id, tweet.user.username, tweet.content])\n",
      "/var/folders/bz/72zd2hjs5t5drbxxvfh0xhph0000gn/T/ipykernel_13759/3203291555.py:7: DeprecatedFeatureWarning: content is deprecated, use rawContent instead\n",
      "  lst.append([tweet.date, tweet.id, tweet.user.username, tweet.content])\n",
      "/var/folders/bz/72zd2hjs5t5drbxxvfh0xhph0000gn/T/ipykernel_13759/3203291555.py:7: DeprecatedFeatureWarning: content is deprecated, use rawContent instead\n",
      "  lst.append([tweet.date, tweet.id, tweet.user.username, tweet.content])\n",
      "/var/folders/bz/72zd2hjs5t5drbxxvfh0xhph0000gn/T/ipykernel_13759/3203291555.py:7: DeprecatedFeatureWarning: content is deprecated, use rawContent instead\n",
      "  lst.append([tweet.date, tweet.id, tweet.user.username, tweet.content])\n",
      "/var/folders/bz/72zd2hjs5t5drbxxvfh0xhph0000gn/T/ipykernel_13759/3203291555.py:7: DeprecatedFeatureWarning: content is deprecated, use rawContent instead\n",
      "  lst.append([tweet.date, tweet.id, tweet.user.username, tweet.content])\n",
      "/var/folders/bz/72zd2hjs5t5drbxxvfh0xhph0000gn/T/ipykernel_13759/3203291555.py:7: DeprecatedFeatureWarning: content is deprecated, use rawContent instead\n",
      "  lst.append([tweet.date, tweet.id, tweet.user.username, tweet.content])\n",
      "/var/folders/bz/72zd2hjs5t5drbxxvfh0xhph0000gn/T/ipykernel_13759/3203291555.py:7: DeprecatedFeatureWarning: content is deprecated, use rawContent instead\n",
      "  lst.append([tweet.date, tweet.id, tweet.user.username, tweet.content])\n",
      "/var/folders/bz/72zd2hjs5t5drbxxvfh0xhph0000gn/T/ipykernel_13759/3203291555.py:7: DeprecatedFeatureWarning: content is deprecated, use rawContent instead\n",
      "  lst.append([tweet.date, tweet.id, tweet.user.username, tweet.content])\n",
      "/var/folders/bz/72zd2hjs5t5drbxxvfh0xhph0000gn/T/ipykernel_13759/3203291555.py:7: DeprecatedFeatureWarning: content is deprecated, use rawContent instead\n",
      "  lst.append([tweet.date, tweet.id, tweet.user.username, tweet.content])\n",
      "/var/folders/bz/72zd2hjs5t5drbxxvfh0xhph0000gn/T/ipykernel_13759/3203291555.py:7: DeprecatedFeatureWarning: content is deprecated, use rawContent instead\n",
      "  lst.append([tweet.date, tweet.id, tweet.user.username, tweet.content])\n",
      "/var/folders/bz/72zd2hjs5t5drbxxvfh0xhph0000gn/T/ipykernel_13759/3203291555.py:7: DeprecatedFeatureWarning: content is deprecated, use rawContent instead\n",
      "  lst.append([tweet.date, tweet.id, tweet.user.username, tweet.content])\n",
      "Tweet 1283336381289213953 contains an app icon medium key '4_1646353393055846400' on app 'iphone_app'/'878577184', but the corresponding medium is missing; dropping\n",
      "Tweet 1283336381289213953 contains an app icon medium key '4_1646353393055846400' on app 'ipad_app'/'878577184', but the corresponding medium is missing; dropping\n",
      "/var/folders/bz/72zd2hjs5t5drbxxvfh0xhph0000gn/T/ipykernel_13759/3203291555.py:7: DeprecatedFeatureWarning: content is deprecated, use rawContent instead\n",
      "  lst.append([tweet.date, tweet.id, tweet.user.username, tweet.content])\n",
      "/var/folders/bz/72zd2hjs5t5drbxxvfh0xhph0000gn/T/ipykernel_13759/3203291555.py:7: DeprecatedFeatureWarning: content is deprecated, use rawContent instead\n",
      "  lst.append([tweet.date, tweet.id, tweet.user.username, tweet.content])\n"
     ]
    }
   ],
   "source": [
    "for i, pairs in enumerate(jul_dates):\n",
    "    start, end = pairs\n",
    "    scraper_helper('chink OR chinaman OR chyna OR chinkland OR gook', start, end)"
   ]
  },
  {
   "attachments": {},
   "cell_type": "markdown",
   "metadata": {},
   "source": [
    "### Scrape all target tweets of August"
   ]
  },
  {
   "cell_type": "code",
   "execution_count": 26,
   "metadata": {},
   "outputs": [],
   "source": [
    "start_date = date(2020, 8, 1)\n",
    "end_date = date(2020, 9, 1)\n",
    "delta = timedelta(days=1)\n",
    "aug_dates = start_end_generate(start_date, end_date, delta)"
   ]
  },
  {
   "cell_type": "code",
   "execution_count": 27,
   "metadata": {},
   "outputs": [
    {
     "name": "stderr",
     "output_type": "stream",
     "text": [
      "/var/folders/bz/72zd2hjs5t5drbxxvfh0xhph0000gn/T/ipykernel_13759/3203291555.py:7: DeprecatedFeatureWarning: content is deprecated, use rawContent instead\n",
      "  lst.append([tweet.date, tweet.id, tweet.user.username, tweet.content])\n",
      "/var/folders/bz/72zd2hjs5t5drbxxvfh0xhph0000gn/T/ipykernel_13759/3203291555.py:7: DeprecatedFeatureWarning: content is deprecated, use rawContent instead\n",
      "  lst.append([tweet.date, tweet.id, tweet.user.username, tweet.content])\n",
      "/var/folders/bz/72zd2hjs5t5drbxxvfh0xhph0000gn/T/ipykernel_13759/3203291555.py:7: DeprecatedFeatureWarning: content is deprecated, use rawContent instead\n",
      "  lst.append([tweet.date, tweet.id, tweet.user.username, tweet.content])\n",
      "/var/folders/bz/72zd2hjs5t5drbxxvfh0xhph0000gn/T/ipykernel_13759/3203291555.py:7: DeprecatedFeatureWarning: content is deprecated, use rawContent instead\n",
      "  lst.append([tweet.date, tweet.id, tweet.user.username, tweet.content])\n",
      "/var/folders/bz/72zd2hjs5t5drbxxvfh0xhph0000gn/T/ipykernel_13759/3203291555.py:7: DeprecatedFeatureWarning: content is deprecated, use rawContent instead\n",
      "  lst.append([tweet.date, tweet.id, tweet.user.username, tweet.content])\n",
      "/var/folders/bz/72zd2hjs5t5drbxxvfh0xhph0000gn/T/ipykernel_13759/3203291555.py:7: DeprecatedFeatureWarning: content is deprecated, use rawContent instead\n",
      "  lst.append([tweet.date, tweet.id, tweet.user.username, tweet.content])\n",
      "/var/folders/bz/72zd2hjs5t5drbxxvfh0xhph0000gn/T/ipykernel_13759/3203291555.py:7: DeprecatedFeatureWarning: content is deprecated, use rawContent instead\n",
      "  lst.append([tweet.date, tweet.id, tweet.user.username, tweet.content])\n",
      "/var/folders/bz/72zd2hjs5t5drbxxvfh0xhph0000gn/T/ipykernel_13759/3203291555.py:7: DeprecatedFeatureWarning: content is deprecated, use rawContent instead\n",
      "  lst.append([tweet.date, tweet.id, tweet.user.username, tweet.content])\n",
      "/var/folders/bz/72zd2hjs5t5drbxxvfh0xhph0000gn/T/ipykernel_13759/3203291555.py:7: DeprecatedFeatureWarning: content is deprecated, use rawContent instead\n",
      "  lst.append([tweet.date, tweet.id, tweet.user.username, tweet.content])\n",
      "/var/folders/bz/72zd2hjs5t5drbxxvfh0xhph0000gn/T/ipykernel_13759/3203291555.py:7: DeprecatedFeatureWarning: content is deprecated, use rawContent instead\n",
      "  lst.append([tweet.date, tweet.id, tweet.user.username, tweet.content])\n",
      "/var/folders/bz/72zd2hjs5t5drbxxvfh0xhph0000gn/T/ipykernel_13759/3203291555.py:7: DeprecatedFeatureWarning: content is deprecated, use rawContent instead\n",
      "  lst.append([tweet.date, tweet.id, tweet.user.username, tweet.content])\n",
      "/var/folders/bz/72zd2hjs5t5drbxxvfh0xhph0000gn/T/ipykernel_13759/3203291555.py:7: DeprecatedFeatureWarning: content is deprecated, use rawContent instead\n",
      "  lst.append([tweet.date, tweet.id, tweet.user.username, tweet.content])\n",
      "/var/folders/bz/72zd2hjs5t5drbxxvfh0xhph0000gn/T/ipykernel_13759/3203291555.py:7: DeprecatedFeatureWarning: content is deprecated, use rawContent instead\n",
      "  lst.append([tweet.date, tweet.id, tweet.user.username, tweet.content])\n",
      "/var/folders/bz/72zd2hjs5t5drbxxvfh0xhph0000gn/T/ipykernel_13759/3203291555.py:7: DeprecatedFeatureWarning: content is deprecated, use rawContent instead\n",
      "  lst.append([tweet.date, tweet.id, tweet.user.username, tweet.content])\n",
      "/var/folders/bz/72zd2hjs5t5drbxxvfh0xhph0000gn/T/ipykernel_13759/3203291555.py:7: DeprecatedFeatureWarning: content is deprecated, use rawContent instead\n",
      "  lst.append([tweet.date, tweet.id, tweet.user.username, tweet.content])\n",
      "/var/folders/bz/72zd2hjs5t5drbxxvfh0xhph0000gn/T/ipykernel_13759/3203291555.py:7: DeprecatedFeatureWarning: content is deprecated, use rawContent instead\n",
      "  lst.append([tweet.date, tweet.id, tweet.user.username, tweet.content])\n",
      "/var/folders/bz/72zd2hjs5t5drbxxvfh0xhph0000gn/T/ipykernel_13759/3203291555.py:7: DeprecatedFeatureWarning: content is deprecated, use rawContent instead\n",
      "  lst.append([tweet.date, tweet.id, tweet.user.username, tweet.content])\n",
      "/var/folders/bz/72zd2hjs5t5drbxxvfh0xhph0000gn/T/ipykernel_13759/3203291555.py:7: DeprecatedFeatureWarning: content is deprecated, use rawContent instead\n",
      "  lst.append([tweet.date, tweet.id, tweet.user.username, tweet.content])\n",
      "/var/folders/bz/72zd2hjs5t5drbxxvfh0xhph0000gn/T/ipykernel_13759/3203291555.py:7: DeprecatedFeatureWarning: content is deprecated, use rawContent instead\n",
      "  lst.append([tweet.date, tweet.id, tweet.user.username, tweet.content])\n",
      "/var/folders/bz/72zd2hjs5t5drbxxvfh0xhph0000gn/T/ipykernel_13759/3203291555.py:7: DeprecatedFeatureWarning: content is deprecated, use rawContent instead\n",
      "  lst.append([tweet.date, tweet.id, tweet.user.username, tweet.content])\n",
      "/var/folders/bz/72zd2hjs5t5drbxxvfh0xhph0000gn/T/ipykernel_13759/3203291555.py:7: DeprecatedFeatureWarning: content is deprecated, use rawContent instead\n",
      "  lst.append([tweet.date, tweet.id, tweet.user.username, tweet.content])\n",
      "/var/folders/bz/72zd2hjs5t5drbxxvfh0xhph0000gn/T/ipykernel_13759/3203291555.py:7: DeprecatedFeatureWarning: content is deprecated, use rawContent instead\n",
      "  lst.append([tweet.date, tweet.id, tweet.user.username, tweet.content])\n",
      "/var/folders/bz/72zd2hjs5t5drbxxvfh0xhph0000gn/T/ipykernel_13759/3203291555.py:7: DeprecatedFeatureWarning: content is deprecated, use rawContent instead\n",
      "  lst.append([tweet.date, tweet.id, tweet.user.username, tweet.content])\n",
      "/var/folders/bz/72zd2hjs5t5drbxxvfh0xhph0000gn/T/ipykernel_13759/3203291555.py:7: DeprecatedFeatureWarning: content is deprecated, use rawContent instead\n",
      "  lst.append([tweet.date, tweet.id, tweet.user.username, tweet.content])\n",
      "/var/folders/bz/72zd2hjs5t5drbxxvfh0xhph0000gn/T/ipykernel_13759/3203291555.py:7: DeprecatedFeatureWarning: content is deprecated, use rawContent instead\n",
      "  lst.append([tweet.date, tweet.id, tweet.user.username, tweet.content])\n",
      "/var/folders/bz/72zd2hjs5t5drbxxvfh0xhph0000gn/T/ipykernel_13759/3203291555.py:7: DeprecatedFeatureWarning: content is deprecated, use rawContent instead\n",
      "  lst.append([tweet.date, tweet.id, tweet.user.username, tweet.content])\n",
      "/var/folders/bz/72zd2hjs5t5drbxxvfh0xhph0000gn/T/ipykernel_13759/3203291555.py:7: DeprecatedFeatureWarning: content is deprecated, use rawContent instead\n",
      "  lst.append([tweet.date, tweet.id, tweet.user.username, tweet.content])\n",
      "/var/folders/bz/72zd2hjs5t5drbxxvfh0xhph0000gn/T/ipykernel_13759/3203291555.py:7: DeprecatedFeatureWarning: content is deprecated, use rawContent instead\n",
      "  lst.append([tweet.date, tweet.id, tweet.user.username, tweet.content])\n",
      "/var/folders/bz/72zd2hjs5t5drbxxvfh0xhph0000gn/T/ipykernel_13759/3203291555.py:7: DeprecatedFeatureWarning: content is deprecated, use rawContent instead\n",
      "  lst.append([tweet.date, tweet.id, tweet.user.username, tweet.content])\n",
      "/var/folders/bz/72zd2hjs5t5drbxxvfh0xhph0000gn/T/ipykernel_13759/3203291555.py:7: DeprecatedFeatureWarning: content is deprecated, use rawContent instead\n",
      "  lst.append([tweet.date, tweet.id, tweet.user.username, tweet.content])\n",
      "/var/folders/bz/72zd2hjs5t5drbxxvfh0xhph0000gn/T/ipykernel_13759/3203291555.py:7: DeprecatedFeatureWarning: content is deprecated, use rawContent instead\n",
      "  lst.append([tweet.date, tweet.id, tweet.user.username, tweet.content])\n"
     ]
    }
   ],
   "source": [
    "for i, pairs in enumerate(aug_dates):\n",
    "    start, end = pairs\n",
    "    scraper_helper('chink OR chinaman OR chyna OR chinkland OR gook', start, end)"
   ]
  },
  {
   "attachments": {},
   "cell_type": "markdown",
   "metadata": {},
   "source": [
    "### Scrape all target tweets of September"
   ]
  },
  {
   "cell_type": "code",
   "execution_count": 28,
   "metadata": {},
   "outputs": [],
   "source": [
    "start_date = date(2020, 9, 1)\n",
    "end_date = date(2020, 10, 1)\n",
    "delta = timedelta(days=1)\n",
    "sep_dates = start_end_generate(start_date, end_date, delta)"
   ]
  },
  {
   "cell_type": "code",
   "execution_count": 29,
   "metadata": {},
   "outputs": [
    {
     "name": "stderr",
     "output_type": "stream",
     "text": [
      "/var/folders/bz/72zd2hjs5t5drbxxvfh0xhph0000gn/T/ipykernel_13759/3203291555.py:7: DeprecatedFeatureWarning: content is deprecated, use rawContent instead\n",
      "  lst.append([tweet.date, tweet.id, tweet.user.username, tweet.content])\n",
      "/var/folders/bz/72zd2hjs5t5drbxxvfh0xhph0000gn/T/ipykernel_13759/3203291555.py:7: DeprecatedFeatureWarning: content is deprecated, use rawContent instead\n",
      "  lst.append([tweet.date, tweet.id, tweet.user.username, tweet.content])\n",
      "/var/folders/bz/72zd2hjs5t5drbxxvfh0xhph0000gn/T/ipykernel_13759/3203291555.py:7: DeprecatedFeatureWarning: content is deprecated, use rawContent instead\n",
      "  lst.append([tweet.date, tweet.id, tweet.user.username, tweet.content])\n",
      "/var/folders/bz/72zd2hjs5t5drbxxvfh0xhph0000gn/T/ipykernel_13759/3203291555.py:7: DeprecatedFeatureWarning: content is deprecated, use rawContent instead\n",
      "  lst.append([tweet.date, tweet.id, tweet.user.username, tweet.content])\n",
      "/var/folders/bz/72zd2hjs5t5drbxxvfh0xhph0000gn/T/ipykernel_13759/3203291555.py:7: DeprecatedFeatureWarning: content is deprecated, use rawContent instead\n",
      "  lst.append([tweet.date, tweet.id, tweet.user.username, tweet.content])\n",
      "/var/folders/bz/72zd2hjs5t5drbxxvfh0xhph0000gn/T/ipykernel_13759/3203291555.py:7: DeprecatedFeatureWarning: content is deprecated, use rawContent instead\n",
      "  lst.append([tweet.date, tweet.id, tweet.user.username, tweet.content])\n",
      "/var/folders/bz/72zd2hjs5t5drbxxvfh0xhph0000gn/T/ipykernel_13759/3203291555.py:7: DeprecatedFeatureWarning: content is deprecated, use rawContent instead\n",
      "  lst.append([tweet.date, tweet.id, tweet.user.username, tweet.content])\n",
      "Tweet 1296125868025294852 contains an app icon medium key '4_1646651597261250562' on app 'iphone_app'/'1038369065', but the corresponding medium is missing; dropping\n",
      "Tweet 1296125868025294852 contains an app icon medium key '4_1646376148027203584' on app 'android_app'/'org.iggymedia.periodtracker', but the corresponding medium is missing; dropping\n",
      "Tweet 1296125868025294852 contains an app icon medium key '4_1646651597261250562' on app 'ipad_app'/'1038369065', but the corresponding medium is missing; dropping\n",
      "/var/folders/bz/72zd2hjs5t5drbxxvfh0xhph0000gn/T/ipykernel_13759/3203291555.py:7: DeprecatedFeatureWarning: content is deprecated, use rawContent instead\n",
      "  lst.append([tweet.date, tweet.id, tweet.user.username, tweet.content])\n",
      "/var/folders/bz/72zd2hjs5t5drbxxvfh0xhph0000gn/T/ipykernel_13759/3203291555.py:7: DeprecatedFeatureWarning: content is deprecated, use rawContent instead\n",
      "  lst.append([tweet.date, tweet.id, tweet.user.username, tweet.content])\n",
      "/var/folders/bz/72zd2hjs5t5drbxxvfh0xhph0000gn/T/ipykernel_13759/3203291555.py:7: DeprecatedFeatureWarning: content is deprecated, use rawContent instead\n",
      "  lst.append([tweet.date, tweet.id, tweet.user.username, tweet.content])\n",
      "/var/folders/bz/72zd2hjs5t5drbxxvfh0xhph0000gn/T/ipykernel_13759/3203291555.py:7: DeprecatedFeatureWarning: content is deprecated, use rawContent instead\n",
      "  lst.append([tweet.date, tweet.id, tweet.user.username, tweet.content])\n",
      "/var/folders/bz/72zd2hjs5t5drbxxvfh0xhph0000gn/T/ipykernel_13759/3203291555.py:7: DeprecatedFeatureWarning: content is deprecated, use rawContent instead\n",
      "  lst.append([tweet.date, tweet.id, tweet.user.username, tweet.content])\n",
      "/var/folders/bz/72zd2hjs5t5drbxxvfh0xhph0000gn/T/ipykernel_13759/3203291555.py:7: DeprecatedFeatureWarning: content is deprecated, use rawContent instead\n",
      "  lst.append([tweet.date, tweet.id, tweet.user.username, tweet.content])\n",
      "/var/folders/bz/72zd2hjs5t5drbxxvfh0xhph0000gn/T/ipykernel_13759/3203291555.py:7: DeprecatedFeatureWarning: content is deprecated, use rawContent instead\n",
      "  lst.append([tweet.date, tweet.id, tweet.user.username, tweet.content])\n",
      "/var/folders/bz/72zd2hjs5t5drbxxvfh0xhph0000gn/T/ipykernel_13759/3203291555.py:7: DeprecatedFeatureWarning: content is deprecated, use rawContent instead\n",
      "  lst.append([tweet.date, tweet.id, tweet.user.username, tweet.content])\n",
      "/var/folders/bz/72zd2hjs5t5drbxxvfh0xhph0000gn/T/ipykernel_13759/3203291555.py:7: DeprecatedFeatureWarning: content is deprecated, use rawContent instead\n",
      "  lst.append([tweet.date, tweet.id, tweet.user.username, tweet.content])\n",
      "/var/folders/bz/72zd2hjs5t5drbxxvfh0xhph0000gn/T/ipykernel_13759/3203291555.py:7: DeprecatedFeatureWarning: content is deprecated, use rawContent instead\n",
      "  lst.append([tweet.date, tweet.id, tweet.user.username, tweet.content])\n",
      "/var/folders/bz/72zd2hjs5t5drbxxvfh0xhph0000gn/T/ipykernel_13759/3203291555.py:7: DeprecatedFeatureWarning: content is deprecated, use rawContent instead\n",
      "  lst.append([tweet.date, tweet.id, tweet.user.username, tweet.content])\n",
      "/var/folders/bz/72zd2hjs5t5drbxxvfh0xhph0000gn/T/ipykernel_13759/3203291555.py:7: DeprecatedFeatureWarning: content is deprecated, use rawContent instead\n",
      "  lst.append([tweet.date, tweet.id, tweet.user.username, tweet.content])\n",
      "/var/folders/bz/72zd2hjs5t5drbxxvfh0xhph0000gn/T/ipykernel_13759/3203291555.py:7: DeprecatedFeatureWarning: content is deprecated, use rawContent instead\n",
      "  lst.append([tweet.date, tweet.id, tweet.user.username, tweet.content])\n",
      "/var/folders/bz/72zd2hjs5t5drbxxvfh0xhph0000gn/T/ipykernel_13759/3203291555.py:7: DeprecatedFeatureWarning: content is deprecated, use rawContent instead\n",
      "  lst.append([tweet.date, tweet.id, tweet.user.username, tweet.content])\n",
      "/var/folders/bz/72zd2hjs5t5drbxxvfh0xhph0000gn/T/ipykernel_13759/3203291555.py:7: DeprecatedFeatureWarning: content is deprecated, use rawContent instead\n",
      "  lst.append([tweet.date, tweet.id, tweet.user.username, tweet.content])\n",
      "/var/folders/bz/72zd2hjs5t5drbxxvfh0xhph0000gn/T/ipykernel_13759/3203291555.py:7: DeprecatedFeatureWarning: content is deprecated, use rawContent instead\n",
      "  lst.append([tweet.date, tweet.id, tweet.user.username, tweet.content])\n",
      "/var/folders/bz/72zd2hjs5t5drbxxvfh0xhph0000gn/T/ipykernel_13759/3203291555.py:7: DeprecatedFeatureWarning: content is deprecated, use rawContent instead\n",
      "  lst.append([tweet.date, tweet.id, tweet.user.username, tweet.content])\n",
      "/var/folders/bz/72zd2hjs5t5drbxxvfh0xhph0000gn/T/ipykernel_13759/3203291555.py:7: DeprecatedFeatureWarning: content is deprecated, use rawContent instead\n",
      "  lst.append([tweet.date, tweet.id, tweet.user.username, tweet.content])\n",
      "/var/folders/bz/72zd2hjs5t5drbxxvfh0xhph0000gn/T/ipykernel_13759/3203291555.py:7: DeprecatedFeatureWarning: content is deprecated, use rawContent instead\n",
      "  lst.append([tweet.date, tweet.id, tweet.user.username, tweet.content])\n",
      "/var/folders/bz/72zd2hjs5t5drbxxvfh0xhph0000gn/T/ipykernel_13759/3203291555.py:7: DeprecatedFeatureWarning: content is deprecated, use rawContent instead\n",
      "  lst.append([tweet.date, tweet.id, tweet.user.username, tweet.content])\n",
      "/var/folders/bz/72zd2hjs5t5drbxxvfh0xhph0000gn/T/ipykernel_13759/3203291555.py:7: DeprecatedFeatureWarning: content is deprecated, use rawContent instead\n",
      "  lst.append([tweet.date, tweet.id, tweet.user.username, tweet.content])\n",
      "/var/folders/bz/72zd2hjs5t5drbxxvfh0xhph0000gn/T/ipykernel_13759/3203291555.py:7: DeprecatedFeatureWarning: content is deprecated, use rawContent instead\n",
      "  lst.append([tweet.date, tweet.id, tweet.user.username, tweet.content])\n",
      "/var/folders/bz/72zd2hjs5t5drbxxvfh0xhph0000gn/T/ipykernel_13759/3203291555.py:7: DeprecatedFeatureWarning: content is deprecated, use rawContent instead\n",
      "  lst.append([tweet.date, tweet.id, tweet.user.username, tweet.content])\n"
     ]
    }
   ],
   "source": [
    "for i, pairs in enumerate(sep_dates):\n",
    "    start, end = pairs\n",
    "    scraper_helper('chink OR chinaman OR chyna OR chinkland OR gook', start, end)"
   ]
  },
  {
   "attachments": {},
   "cell_type": "markdown",
   "metadata": {},
   "source": [
    "### Scrape all target tweets of October"
   ]
  },
  {
   "cell_type": "code",
   "execution_count": 30,
   "metadata": {},
   "outputs": [],
   "source": [
    "start_date = date(2020, 10, 1)\n",
    "end_date = date(2020, 11, 1)\n",
    "delta = timedelta(days=1)\n",
    "oct_dates = start_end_generate(start_date, end_date, delta)"
   ]
  },
  {
   "cell_type": "code",
   "execution_count": 31,
   "metadata": {},
   "outputs": [
    {
     "name": "stderr",
     "output_type": "stream",
     "text": [
      "/var/folders/bz/72zd2hjs5t5drbxxvfh0xhph0000gn/T/ipykernel_13759/3203291555.py:7: DeprecatedFeatureWarning: content is deprecated, use rawContent instead\n",
      "  lst.append([tweet.date, tweet.id, tweet.user.username, tweet.content])\n",
      "/var/folders/bz/72zd2hjs5t5drbxxvfh0xhph0000gn/T/ipykernel_13759/3203291555.py:7: DeprecatedFeatureWarning: content is deprecated, use rawContent instead\n",
      "  lst.append([tweet.date, tweet.id, tweet.user.username, tweet.content])\n",
      "/var/folders/bz/72zd2hjs5t5drbxxvfh0xhph0000gn/T/ipykernel_13759/3203291555.py:7: DeprecatedFeatureWarning: content is deprecated, use rawContent instead\n",
      "  lst.append([tweet.date, tweet.id, tweet.user.username, tweet.content])\n",
      "/var/folders/bz/72zd2hjs5t5drbxxvfh0xhph0000gn/T/ipykernel_13759/3203291555.py:7: DeprecatedFeatureWarning: content is deprecated, use rawContent instead\n",
      "  lst.append([tweet.date, tweet.id, tweet.user.username, tweet.content])\n",
      "/var/folders/bz/72zd2hjs5t5drbxxvfh0xhph0000gn/T/ipykernel_13759/3203291555.py:7: DeprecatedFeatureWarning: content is deprecated, use rawContent instead\n",
      "  lst.append([tweet.date, tweet.id, tweet.user.username, tweet.content])\n",
      "/var/folders/bz/72zd2hjs5t5drbxxvfh0xhph0000gn/T/ipykernel_13759/3203291555.py:7: DeprecatedFeatureWarning: content is deprecated, use rawContent instead\n",
      "  lst.append([tweet.date, tweet.id, tweet.user.username, tweet.content])\n",
      "/var/folders/bz/72zd2hjs5t5drbxxvfh0xhph0000gn/T/ipykernel_13759/3203291555.py:7: DeprecatedFeatureWarning: content is deprecated, use rawContent instead\n",
      "  lst.append([tweet.date, tweet.id, tweet.user.username, tweet.content])\n",
      "/var/folders/bz/72zd2hjs5t5drbxxvfh0xhph0000gn/T/ipykernel_13759/3203291555.py:7: DeprecatedFeatureWarning: content is deprecated, use rawContent instead\n",
      "  lst.append([tweet.date, tweet.id, tweet.user.username, tweet.content])\n",
      "/var/folders/bz/72zd2hjs5t5drbxxvfh0xhph0000gn/T/ipykernel_13759/3203291555.py:7: DeprecatedFeatureWarning: content is deprecated, use rawContent instead\n",
      "  lst.append([tweet.date, tweet.id, tweet.user.username, tweet.content])\n",
      "/var/folders/bz/72zd2hjs5t5drbxxvfh0xhph0000gn/T/ipykernel_13759/3203291555.py:7: DeprecatedFeatureWarning: content is deprecated, use rawContent instead\n",
      "  lst.append([tweet.date, tweet.id, tweet.user.username, tweet.content])\n",
      "/var/folders/bz/72zd2hjs5t5drbxxvfh0xhph0000gn/T/ipykernel_13759/3203291555.py:7: DeprecatedFeatureWarning: content is deprecated, use rawContent instead\n",
      "  lst.append([tweet.date, tweet.id, tweet.user.username, tweet.content])\n",
      "/var/folders/bz/72zd2hjs5t5drbxxvfh0xhph0000gn/T/ipykernel_13759/3203291555.py:7: DeprecatedFeatureWarning: content is deprecated, use rawContent instead\n",
      "  lst.append([tweet.date, tweet.id, tweet.user.username, tweet.content])\n",
      "/var/folders/bz/72zd2hjs5t5drbxxvfh0xhph0000gn/T/ipykernel_13759/3203291555.py:7: DeprecatedFeatureWarning: content is deprecated, use rawContent instead\n",
      "  lst.append([tweet.date, tweet.id, tweet.user.username, tweet.content])\n",
      "/var/folders/bz/72zd2hjs5t5drbxxvfh0xhph0000gn/T/ipykernel_13759/3203291555.py:7: DeprecatedFeatureWarning: content is deprecated, use rawContent instead\n",
      "  lst.append([tweet.date, tweet.id, tweet.user.username, tweet.content])\n",
      "/var/folders/bz/72zd2hjs5t5drbxxvfh0xhph0000gn/T/ipykernel_13759/3203291555.py:7: DeprecatedFeatureWarning: content is deprecated, use rawContent instead\n",
      "  lst.append([tweet.date, tweet.id, tweet.user.username, tweet.content])\n",
      "/var/folders/bz/72zd2hjs5t5drbxxvfh0xhph0000gn/T/ipykernel_13759/3203291555.py:7: DeprecatedFeatureWarning: content is deprecated, use rawContent instead\n",
      "  lst.append([tweet.date, tweet.id, tweet.user.username, tweet.content])\n",
      "/var/folders/bz/72zd2hjs5t5drbxxvfh0xhph0000gn/T/ipykernel_13759/3203291555.py:7: DeprecatedFeatureWarning: content is deprecated, use rawContent instead\n",
      "  lst.append([tweet.date, tweet.id, tweet.user.username, tweet.content])\n",
      "/var/folders/bz/72zd2hjs5t5drbxxvfh0xhph0000gn/T/ipykernel_13759/3203291555.py:7: DeprecatedFeatureWarning: content is deprecated, use rawContent instead\n",
      "  lst.append([tweet.date, tweet.id, tweet.user.username, tweet.content])\n",
      "/var/folders/bz/72zd2hjs5t5drbxxvfh0xhph0000gn/T/ipykernel_13759/3203291555.py:7: DeprecatedFeatureWarning: content is deprecated, use rawContent instead\n",
      "  lst.append([tweet.date, tweet.id, tweet.user.username, tweet.content])\n",
      "/var/folders/bz/72zd2hjs5t5drbxxvfh0xhph0000gn/T/ipykernel_13759/3203291555.py:7: DeprecatedFeatureWarning: content is deprecated, use rawContent instead\n",
      "  lst.append([tweet.date, tweet.id, tweet.user.username, tweet.content])\n",
      "/var/folders/bz/72zd2hjs5t5drbxxvfh0xhph0000gn/T/ipykernel_13759/3203291555.py:7: DeprecatedFeatureWarning: content is deprecated, use rawContent instead\n",
      "  lst.append([tweet.date, tweet.id, tweet.user.username, tweet.content])\n",
      "/var/folders/bz/72zd2hjs5t5drbxxvfh0xhph0000gn/T/ipykernel_13759/3203291555.py:7: DeprecatedFeatureWarning: content is deprecated, use rawContent instead\n",
      "  lst.append([tweet.date, tweet.id, tweet.user.username, tweet.content])\n",
      "/var/folders/bz/72zd2hjs5t5drbxxvfh0xhph0000gn/T/ipykernel_13759/3203291555.py:7: DeprecatedFeatureWarning: content is deprecated, use rawContent instead\n",
      "  lst.append([tweet.date, tweet.id, tweet.user.username, tweet.content])\n",
      "/var/folders/bz/72zd2hjs5t5drbxxvfh0xhph0000gn/T/ipykernel_13759/3203291555.py:7: DeprecatedFeatureWarning: content is deprecated, use rawContent instead\n",
      "  lst.append([tweet.date, tweet.id, tweet.user.username, tweet.content])\n",
      "/var/folders/bz/72zd2hjs5t5drbxxvfh0xhph0000gn/T/ipykernel_13759/3203291555.py:7: DeprecatedFeatureWarning: content is deprecated, use rawContent instead\n",
      "  lst.append([tweet.date, tweet.id, tweet.user.username, tweet.content])\n",
      "/var/folders/bz/72zd2hjs5t5drbxxvfh0xhph0000gn/T/ipykernel_13759/3203291555.py:7: DeprecatedFeatureWarning: content is deprecated, use rawContent instead\n",
      "  lst.append([tweet.date, tweet.id, tweet.user.username, tweet.content])\n",
      "/var/folders/bz/72zd2hjs5t5drbxxvfh0xhph0000gn/T/ipykernel_13759/3203291555.py:7: DeprecatedFeatureWarning: content is deprecated, use rawContent instead\n",
      "  lst.append([tweet.date, tweet.id, tweet.user.username, tweet.content])\n",
      "/var/folders/bz/72zd2hjs5t5drbxxvfh0xhph0000gn/T/ipykernel_13759/3203291555.py:7: DeprecatedFeatureWarning: content is deprecated, use rawContent instead\n",
      "  lst.append([tweet.date, tweet.id, tweet.user.username, tweet.content])\n",
      "/var/folders/bz/72zd2hjs5t5drbxxvfh0xhph0000gn/T/ipykernel_13759/3203291555.py:7: DeprecatedFeatureWarning: content is deprecated, use rawContent instead\n",
      "  lst.append([tweet.date, tweet.id, tweet.user.username, tweet.content])\n",
      "/var/folders/bz/72zd2hjs5t5drbxxvfh0xhph0000gn/T/ipykernel_13759/3203291555.py:7: DeprecatedFeatureWarning: content is deprecated, use rawContent instead\n",
      "  lst.append([tweet.date, tweet.id, tweet.user.username, tweet.content])\n",
      "/var/folders/bz/72zd2hjs5t5drbxxvfh0xhph0000gn/T/ipykernel_13759/3203291555.py:7: DeprecatedFeatureWarning: content is deprecated, use rawContent instead\n",
      "  lst.append([tweet.date, tweet.id, tweet.user.username, tweet.content])\n"
     ]
    }
   ],
   "source": [
    "for i, pairs in enumerate(oct_dates):\n",
    "    start, end = pairs\n",
    "    scraper_helper('chink OR chinaman OR chyna OR chinkland OR gook', start, end)"
   ]
  },
  {
   "attachments": {},
   "cell_type": "markdown",
   "metadata": {},
   "source": [
    "### Scrape all target tweets of November"
   ]
  },
  {
   "cell_type": "code",
   "execution_count": 16,
   "metadata": {},
   "outputs": [],
   "source": [
    "start_date = date(2020, 11, 1)\n",
    "end_date = date(2020, 12, 1)\n",
    "delta = timedelta(days=1)\n",
    "nov_dates = start_end_generate(start_date, end_date, delta)"
   ]
  },
  {
   "cell_type": "code",
   "execution_count": 17,
   "metadata": {},
   "outputs": [
    {
     "name": "stderr",
     "output_type": "stream",
     "text": [
      "Error retrieving https://api.twitter.com/2/search/adaptive.json?include_profile_interstitial_type=1&include_blocking=1&include_blocked_by=1&include_followed_by=1&include_want_retweets=1&include_mute_edge=1&include_can_dm=1&include_can_media_tag=1&include_ext_has_nft_avatar=1&include_ext_is_blue_verified=1&include_ext_verified_type=1&skip_status=1&cards_platform=Web-12&include_cards=1&include_ext_alt_text=true&include_ext_limited_action_results=false&include_quote_count=true&include_reply_count=1&tweet_mode=extended&include_ext_collab_control=true&include_ext_views=true&include_entities=true&include_user_entities=true&include_ext_media_color=true&include_ext_media_availability=true&include_ext_sensitive_media_warning=true&include_ext_trusted_friends_metadata=true&send_error_codes=true&simple_quoted_tweet=true&q=chink+OR+chinaman+OR+chinkland+OR+chinavirus+OR+chinesevirus+OR+wuhanvirus+OR+kungflu+lang%3Aen+until%3A2020-11-02+since%3A2020-11-01&tweet_search_mode=live&count=20&query_source=spelling_expansion_revert_click&pc=1&spelling_corrections=1&include_ext_edit_control=true&ext=mediaStats%2ChighlightedLabel%2ChasNftAvatar%2CvoiceInfo%2Cenrichments%2CsuperFollowMetadata%2CunmentionInfo%2CeditControl%2Ccollab_control%2Cvibe: blocked (403)\n",
      "4 requests to https://api.twitter.com/2/search/adaptive.json?include_profile_interstitial_type=1&include_blocking=1&include_blocked_by=1&include_followed_by=1&include_want_retweets=1&include_mute_edge=1&include_can_dm=1&include_can_media_tag=1&include_ext_has_nft_avatar=1&include_ext_is_blue_verified=1&include_ext_verified_type=1&skip_status=1&cards_platform=Web-12&include_cards=1&include_ext_alt_text=true&include_ext_limited_action_results=false&include_quote_count=true&include_reply_count=1&tweet_mode=extended&include_ext_collab_control=true&include_ext_views=true&include_entities=true&include_user_entities=true&include_ext_media_color=true&include_ext_media_availability=true&include_ext_sensitive_media_warning=true&include_ext_trusted_friends_metadata=true&send_error_codes=true&simple_quoted_tweet=true&q=chink+OR+chinaman+OR+chinkland+OR+chinavirus+OR+chinesevirus+OR+wuhanvirus+OR+kungflu+lang%3Aen+until%3A2020-11-02+since%3A2020-11-01&tweet_search_mode=live&count=20&query_source=spelling_expansion_revert_click&pc=1&spelling_corrections=1&include_ext_edit_control=true&ext=mediaStats%2ChighlightedLabel%2ChasNftAvatar%2CvoiceInfo%2Cenrichments%2CsuperFollowMetadata%2CunmentionInfo%2CeditControl%2Ccollab_control%2Cvibe failed, giving up.\n",
      "Errors: blocked (403), blocked (403), blocked (403), blocked (403)\n"
     ]
    },
    {
     "ename": "ScraperException",
     "evalue": "4 requests to https://api.twitter.com/2/search/adaptive.json?include_profile_interstitial_type=1&include_blocking=1&include_blocked_by=1&include_followed_by=1&include_want_retweets=1&include_mute_edge=1&include_can_dm=1&include_can_media_tag=1&include_ext_has_nft_avatar=1&include_ext_is_blue_verified=1&include_ext_verified_type=1&skip_status=1&cards_platform=Web-12&include_cards=1&include_ext_alt_text=true&include_ext_limited_action_results=false&include_quote_count=true&include_reply_count=1&tweet_mode=extended&include_ext_collab_control=true&include_ext_views=true&include_entities=true&include_user_entities=true&include_ext_media_color=true&include_ext_media_availability=true&include_ext_sensitive_media_warning=true&include_ext_trusted_friends_metadata=true&send_error_codes=true&simple_quoted_tweet=true&q=chink+OR+chinaman+OR+chinkland+OR+chinavirus+OR+chinesevirus+OR+wuhanvirus+OR+kungflu+lang%3Aen+until%3A2020-11-02+since%3A2020-11-01&tweet_search_mode=live&count=20&query_source=spelling_expansion_revert_click&pc=1&spelling_corrections=1&include_ext_edit_control=true&ext=mediaStats%2ChighlightedLabel%2ChasNftAvatar%2CvoiceInfo%2Cenrichments%2CsuperFollowMetadata%2CunmentionInfo%2CeditControl%2Ccollab_control%2Cvibe failed, giving up.",
     "output_type": "error",
     "traceback": [
      "\u001b[0;31m---------------------------------------------------------------------------\u001b[0m",
      "\u001b[0;31mScraperException\u001b[0m                          Traceback (most recent call last)",
      "\u001b[1;32m/Users/itsyuzhou/Spring2023/MACS30200/replication-materials-yuzhouw313/scrape.ipynb Cell 41\u001b[0m in \u001b[0;36m<cell line: 1>\u001b[0;34m()\u001b[0m\n\u001b[1;32m      <a href='vscode-notebook-cell:/Users/itsyuzhou/Spring2023/MACS30200/replication-materials-yuzhouw313/scrape.ipynb#X55sZmlsZQ%3D%3D?line=0'>1</a>\u001b[0m \u001b[39mfor\u001b[39;00m i, pairs \u001b[39min\u001b[39;00m \u001b[39menumerate\u001b[39m(nov_dates):\n\u001b[1;32m      <a href='vscode-notebook-cell:/Users/itsyuzhou/Spring2023/MACS30200/replication-materials-yuzhouw313/scrape.ipynb#X55sZmlsZQ%3D%3D?line=1'>2</a>\u001b[0m     start, end \u001b[39m=\u001b[39m pairs\n\u001b[0;32m----> <a href='vscode-notebook-cell:/Users/itsyuzhou/Spring2023/MACS30200/replication-materials-yuzhouw313/scrape.ipynb#X55sZmlsZQ%3D%3D?line=2'>3</a>\u001b[0m     scraper_helper(\u001b[39m'\u001b[39;49m\u001b[39mchink OR chinaman OR chinkland OR chinavirus OR chinesevirus OR wuhanvirus OR kungflu\u001b[39;49m\u001b[39m'\u001b[39;49m, start, end)\n",
      "\u001b[1;32m/Users/itsyuzhou/Spring2023/MACS30200/replication-materials-yuzhouw313/scrape.ipynb Cell 41\u001b[0m in \u001b[0;36mscraper_helper\u001b[0;34m(keywords, start_time, end_time)\u001b[0m\n\u001b[1;32m      <a href='vscode-notebook-cell:/Users/itsyuzhou/Spring2023/MACS30200/replication-materials-yuzhouw313/scrape.ipynb#X55sZmlsZQ%3D%3D?line=1'>2</a>\u001b[0m query \u001b[39m=\u001b[39m keywords \u001b[39m+\u001b[39m \u001b[39m'\u001b[39m\u001b[39m lang:en until:\u001b[39m\u001b[39m'\u001b[39m \u001b[39m+\u001b[39m end_time \u001b[39m+\u001b[39m \u001b[39m'\u001b[39m\u001b[39m since:\u001b[39m\u001b[39m'\u001b[39m \u001b[39m+\u001b[39m start_time\n\u001b[1;32m      <a href='vscode-notebook-cell:/Users/itsyuzhou/Spring2023/MACS30200/replication-materials-yuzhouw313/scrape.ipynb#X55sZmlsZQ%3D%3D?line=2'>3</a>\u001b[0m lst \u001b[39m=\u001b[39m []\n\u001b[0;32m----> <a href='vscode-notebook-cell:/Users/itsyuzhou/Spring2023/MACS30200/replication-materials-yuzhouw313/scrape.ipynb#X55sZmlsZQ%3D%3D?line=3'>4</a>\u001b[0m \u001b[39mfor\u001b[39;00m i, tweet \u001b[39min\u001b[39;00m \u001b[39menumerate\u001b[39m(sntwitter\u001b[39m.\u001b[39mTwitterSearchScraper(query)\u001b[39m.\u001b[39mget_items()):\n\u001b[1;32m      <a href='vscode-notebook-cell:/Users/itsyuzhou/Spring2023/MACS30200/replication-materials-yuzhouw313/scrape.ipynb#X55sZmlsZQ%3D%3D?line=4'>5</a>\u001b[0m     \u001b[39mif\u001b[39;00m i \u001b[39m>\u001b[39m \u001b[39m2000\u001b[39m:\n\u001b[1;32m      <a href='vscode-notebook-cell:/Users/itsyuzhou/Spring2023/MACS30200/replication-materials-yuzhouw313/scrape.ipynb#X55sZmlsZQ%3D%3D?line=5'>6</a>\u001b[0m         \u001b[39mbreak\u001b[39;00m\n",
      "File \u001b[0;32m~/opt/anaconda3/lib/python3.9/site-packages/snscrape/modules/twitter.py:1661\u001b[0m, in \u001b[0;36mTwitterSearchScraper.get_items\u001b[0;34m(self)\u001b[0m\n\u001b[1;32m   1658\u001b[0m params \u001b[39m=\u001b[39m paginationParams\u001b[39m.\u001b[39mcopy()\n\u001b[1;32m   1659\u001b[0m \u001b[39mdel\u001b[39;00m params[\u001b[39m'\u001b[39m\u001b[39mcursor\u001b[39m\u001b[39m'\u001b[39m]\n\u001b[0;32m-> 1661\u001b[0m \u001b[39mfor\u001b[39;00m obj \u001b[39min\u001b[39;00m \u001b[39mself\u001b[39m\u001b[39m.\u001b[39m_iter_api_data(\u001b[39m'\u001b[39m\u001b[39mhttps://api.twitter.com/2/search/adaptive.json\u001b[39m\u001b[39m'\u001b[39m, _TwitterAPIType\u001b[39m.\u001b[39mV2, params, paginationParams, cursor \u001b[39m=\u001b[39m \u001b[39mself\u001b[39m\u001b[39m.\u001b[39m_cursor):\n\u001b[1;32m   1662\u001b[0m \t\u001b[39myield from\u001b[39;00m \u001b[39mself\u001b[39m\u001b[39m.\u001b[39m_v2_timeline_instructions_to_tweets_or_users(obj)\n",
      "File \u001b[0;32m~/opt/anaconda3/lib/python3.9/site-packages/snscrape/modules/twitter.py:761\u001b[0m, in \u001b[0;36m_TwitterAPIScraper._iter_api_data\u001b[0;34m(self, endpoint, apiType, params, paginationParams, cursor, direction)\u001b[0m\n\u001b[1;32m    759\u001b[0m \u001b[39mwhile\u001b[39;00m \u001b[39mTrue\u001b[39;00m:\n\u001b[1;32m    760\u001b[0m \t_logger\u001b[39m.\u001b[39minfo(\u001b[39mf\u001b[39m\u001b[39m'\u001b[39m\u001b[39mRetrieving scroll page \u001b[39m\u001b[39m{\u001b[39;00mcursor\u001b[39m}\u001b[39;00m\u001b[39m'\u001b[39m)\n\u001b[0;32m--> 761\u001b[0m \tobj \u001b[39m=\u001b[39m \u001b[39mself\u001b[39;49m\u001b[39m.\u001b[39;49m_get_api_data(endpoint, apiType, reqParams)\n\u001b[1;32m    762\u001b[0m \t\u001b[39myield\u001b[39;00m obj\n\u001b[1;32m    764\u001b[0m \t\u001b[39m# No data format test, just a hard and loud crash if anything's wrong :-)\u001b[39;00m\n",
      "File \u001b[0;32m~/opt/anaconda3/lib/python3.9/site-packages/snscrape/modules/twitter.py:727\u001b[0m, in \u001b[0;36m_TwitterAPIScraper._get_api_data\u001b[0;34m(self, endpoint, apiType, params)\u001b[0m\n\u001b[1;32m    725\u001b[0m \u001b[39mif\u001b[39;00m apiType \u001b[39mis\u001b[39;00m _TwitterAPIType\u001b[39m.\u001b[39mGRAPHQL:\n\u001b[1;32m    726\u001b[0m \tparams \u001b[39m=\u001b[39m urllib\u001b[39m.\u001b[39mparse\u001b[39m.\u001b[39murlencode({k: json\u001b[39m.\u001b[39mdumps(v, separators \u001b[39m=\u001b[39m (\u001b[39m'\u001b[39m\u001b[39m,\u001b[39m\u001b[39m'\u001b[39m, \u001b[39m'\u001b[39m\u001b[39m:\u001b[39m\u001b[39m'\u001b[39m)) \u001b[39mfor\u001b[39;00m k, v \u001b[39min\u001b[39;00m params\u001b[39m.\u001b[39mitems()}, quote_via \u001b[39m=\u001b[39m urllib\u001b[39m.\u001b[39mparse\u001b[39m.\u001b[39mquote)\n\u001b[0;32m--> 727\u001b[0m r \u001b[39m=\u001b[39m \u001b[39mself\u001b[39;49m\u001b[39m.\u001b[39;49m_get(endpoint, params \u001b[39m=\u001b[39;49m params, headers \u001b[39m=\u001b[39;49m \u001b[39mself\u001b[39;49m\u001b[39m.\u001b[39;49m_apiHeaders, responseOkCallback \u001b[39m=\u001b[39;49m \u001b[39mself\u001b[39;49m\u001b[39m.\u001b[39;49m_check_api_response)\n\u001b[1;32m    728\u001b[0m \u001b[39mtry\u001b[39;00m:\n\u001b[1;32m    729\u001b[0m \tobj \u001b[39m=\u001b[39m r\u001b[39m.\u001b[39mjson()\n",
      "File \u001b[0;32m~/opt/anaconda3/lib/python3.9/site-packages/snscrape/base.py:251\u001b[0m, in \u001b[0;36mScraper._get\u001b[0;34m(self, *args, **kwargs)\u001b[0m\n\u001b[1;32m    250\u001b[0m \u001b[39mdef\u001b[39;00m \u001b[39m_get\u001b[39m(\u001b[39mself\u001b[39m, \u001b[39m*\u001b[39margs, \u001b[39m*\u001b[39m\u001b[39m*\u001b[39mkwargs):\n\u001b[0;32m--> 251\u001b[0m \t\u001b[39mreturn\u001b[39;00m \u001b[39mself\u001b[39;49m\u001b[39m.\u001b[39;49m_request(\u001b[39m'\u001b[39;49m\u001b[39mGET\u001b[39;49m\u001b[39m'\u001b[39;49m, \u001b[39m*\u001b[39;49margs, \u001b[39m*\u001b[39;49m\u001b[39m*\u001b[39;49mkwargs)\n",
      "File \u001b[0;32m~/opt/anaconda3/lib/python3.9/site-packages/snscrape/base.py:247\u001b[0m, in \u001b[0;36mScraper._request\u001b[0;34m(self, method, url, params, data, headers, timeout, responseOkCallback, allowRedirects, proxies)\u001b[0m\n\u001b[1;32m    245\u001b[0m \t_logger\u001b[39m.\u001b[39mfatal(msg)\n\u001b[1;32m    246\u001b[0m \t_logger\u001b[39m.\u001b[39mfatal(\u001b[39mf\u001b[39m\u001b[39m'\u001b[39m\u001b[39mErrors: \u001b[39m\u001b[39m{\u001b[39;00m\u001b[39m\"\u001b[39m\u001b[39m, \u001b[39m\u001b[39m\"\u001b[39m\u001b[39m.\u001b[39mjoin(errors)\u001b[39m}\u001b[39;00m\u001b[39m'\u001b[39m)\n\u001b[0;32m--> 247\u001b[0m \t\u001b[39mraise\u001b[39;00m ScraperException(msg)\n\u001b[1;32m    248\u001b[0m \u001b[39mraise\u001b[39;00m \u001b[39mRuntimeError\u001b[39;00m(\u001b[39m'\u001b[39m\u001b[39mReached unreachable code\u001b[39m\u001b[39m'\u001b[39m)\n",
      "\u001b[0;31mScraperException\u001b[0m: 4 requests to https://api.twitter.com/2/search/adaptive.json?include_profile_interstitial_type=1&include_blocking=1&include_blocked_by=1&include_followed_by=1&include_want_retweets=1&include_mute_edge=1&include_can_dm=1&include_can_media_tag=1&include_ext_has_nft_avatar=1&include_ext_is_blue_verified=1&include_ext_verified_type=1&skip_status=1&cards_platform=Web-12&include_cards=1&include_ext_alt_text=true&include_ext_limited_action_results=false&include_quote_count=true&include_reply_count=1&tweet_mode=extended&include_ext_collab_control=true&include_ext_views=true&include_entities=true&include_user_entities=true&include_ext_media_color=true&include_ext_media_availability=true&include_ext_sensitive_media_warning=true&include_ext_trusted_friends_metadata=true&send_error_codes=true&simple_quoted_tweet=true&q=chink+OR+chinaman+OR+chinkland+OR+chinavirus+OR+chinesevirus+OR+wuhanvirus+OR+kungflu+lang%3Aen+until%3A2020-11-02+since%3A2020-11-01&tweet_search_mode=live&count=20&query_source=spelling_expansion_revert_click&pc=1&spelling_corrections=1&include_ext_edit_control=true&ext=mediaStats%2ChighlightedLabel%2ChasNftAvatar%2CvoiceInfo%2Cenrichments%2CsuperFollowMetadata%2CunmentionInfo%2CeditControl%2Ccollab_control%2Cvibe failed, giving up."
     ]
    }
   ],
   "source": [
    "for i, pairs in enumerate(nov_dates):\n",
    "    start, end = pairs\n",
    "    scraper_helper('chink OR chinaman OR chyna OR chinkland OR gook', start, end)"
   ]
  },
  {
   "attachments": {},
   "cell_type": "markdown",
   "metadata": {},
   "source": [
    "### Scrape all target tweets of December"
   ]
  },
  {
   "cell_type": "code",
   "execution_count": 34,
   "metadata": {},
   "outputs": [],
   "source": [
    "start_date = date(2020, 12, 1)\n",
    "end_date = date(2020, 12, 31)\n",
    "delta = timedelta(days=1)\n",
    "dec_dates = start_end_generate(start_date, end_date, delta)"
   ]
  },
  {
   "cell_type": "code",
   "execution_count": 35,
   "metadata": {},
   "outputs": [
    {
     "name": "stderr",
     "output_type": "stream",
     "text": [
      "/var/folders/bz/72zd2hjs5t5drbxxvfh0xhph0000gn/T/ipykernel_13759/3203291555.py:7: DeprecatedFeatureWarning: content is deprecated, use rawContent instead\n",
      "  lst.append([tweet.date, tweet.id, tweet.user.username, tweet.content])\n",
      "/var/folders/bz/72zd2hjs5t5drbxxvfh0xhph0000gn/T/ipykernel_13759/3203291555.py:7: DeprecatedFeatureWarning: content is deprecated, use rawContent instead\n",
      "  lst.append([tweet.date, tweet.id, tweet.user.username, tweet.content])\n",
      "/var/folders/bz/72zd2hjs5t5drbxxvfh0xhph0000gn/T/ipykernel_13759/3203291555.py:7: DeprecatedFeatureWarning: content is deprecated, use rawContent instead\n",
      "  lst.append([tweet.date, tweet.id, tweet.user.username, tweet.content])\n",
      "/var/folders/bz/72zd2hjs5t5drbxxvfh0xhph0000gn/T/ipykernel_13759/3203291555.py:7: DeprecatedFeatureWarning: content is deprecated, use rawContent instead\n",
      "  lst.append([tweet.date, tweet.id, tweet.user.username, tweet.content])\n",
      "/var/folders/bz/72zd2hjs5t5drbxxvfh0xhph0000gn/T/ipykernel_13759/3203291555.py:7: DeprecatedFeatureWarning: content is deprecated, use rawContent instead\n",
      "  lst.append([tweet.date, tweet.id, tweet.user.username, tweet.content])\n",
      "/var/folders/bz/72zd2hjs5t5drbxxvfh0xhph0000gn/T/ipykernel_13759/3203291555.py:7: DeprecatedFeatureWarning: content is deprecated, use rawContent instead\n",
      "  lst.append([tweet.date, tweet.id, tweet.user.username, tweet.content])\n",
      "/var/folders/bz/72zd2hjs5t5drbxxvfh0xhph0000gn/T/ipykernel_13759/3203291555.py:7: DeprecatedFeatureWarning: content is deprecated, use rawContent instead\n",
      "  lst.append([tweet.date, tweet.id, tweet.user.username, tweet.content])\n",
      "/var/folders/bz/72zd2hjs5t5drbxxvfh0xhph0000gn/T/ipykernel_13759/3203291555.py:7: DeprecatedFeatureWarning: content is deprecated, use rawContent instead\n",
      "  lst.append([tweet.date, tweet.id, tweet.user.username, tweet.content])\n",
      "/var/folders/bz/72zd2hjs5t5drbxxvfh0xhph0000gn/T/ipykernel_13759/3203291555.py:7: DeprecatedFeatureWarning: content is deprecated, use rawContent instead\n",
      "  lst.append([tweet.date, tweet.id, tweet.user.username, tweet.content])\n",
      "/var/folders/bz/72zd2hjs5t5drbxxvfh0xhph0000gn/T/ipykernel_13759/3203291555.py:7: DeprecatedFeatureWarning: content is deprecated, use rawContent instead\n",
      "  lst.append([tweet.date, tweet.id, tweet.user.username, tweet.content])\n",
      "/var/folders/bz/72zd2hjs5t5drbxxvfh0xhph0000gn/T/ipykernel_13759/3203291555.py:7: DeprecatedFeatureWarning: content is deprecated, use rawContent instead\n",
      "  lst.append([tweet.date, tweet.id, tweet.user.username, tweet.content])\n",
      "/var/folders/bz/72zd2hjs5t5drbxxvfh0xhph0000gn/T/ipykernel_13759/3203291555.py:7: DeprecatedFeatureWarning: content is deprecated, use rawContent instead\n",
      "  lst.append([tweet.date, tweet.id, tweet.user.username, tweet.content])\n",
      "/var/folders/bz/72zd2hjs5t5drbxxvfh0xhph0000gn/T/ipykernel_13759/3203291555.py:7: DeprecatedFeatureWarning: content is deprecated, use rawContent instead\n",
      "  lst.append([tweet.date, tweet.id, tweet.user.username, tweet.content])\n",
      "/var/folders/bz/72zd2hjs5t5drbxxvfh0xhph0000gn/T/ipykernel_13759/3203291555.py:7: DeprecatedFeatureWarning: content is deprecated, use rawContent instead\n",
      "  lst.append([tweet.date, tweet.id, tweet.user.username, tweet.content])\n",
      "/var/folders/bz/72zd2hjs5t5drbxxvfh0xhph0000gn/T/ipykernel_13759/3203291555.py:7: DeprecatedFeatureWarning: content is deprecated, use rawContent instead\n",
      "  lst.append([tweet.date, tweet.id, tweet.user.username, tweet.content])\n",
      "/var/folders/bz/72zd2hjs5t5drbxxvfh0xhph0000gn/T/ipykernel_13759/3203291555.py:7: DeprecatedFeatureWarning: content is deprecated, use rawContent instead\n",
      "  lst.append([tweet.date, tweet.id, tweet.user.username, tweet.content])\n",
      "/var/folders/bz/72zd2hjs5t5drbxxvfh0xhph0000gn/T/ipykernel_13759/3203291555.py:7: DeprecatedFeatureWarning: content is deprecated, use rawContent instead\n",
      "  lst.append([tweet.date, tweet.id, tweet.user.username, tweet.content])\n",
      "/var/folders/bz/72zd2hjs5t5drbxxvfh0xhph0000gn/T/ipykernel_13759/3203291555.py:7: DeprecatedFeatureWarning: content is deprecated, use rawContent instead\n",
      "  lst.append([tweet.date, tweet.id, tweet.user.username, tweet.content])\n",
      "/var/folders/bz/72zd2hjs5t5drbxxvfh0xhph0000gn/T/ipykernel_13759/3203291555.py:7: DeprecatedFeatureWarning: content is deprecated, use rawContent instead\n",
      "  lst.append([tweet.date, tweet.id, tweet.user.username, tweet.content])\n",
      "/var/folders/bz/72zd2hjs5t5drbxxvfh0xhph0000gn/T/ipykernel_13759/3203291555.py:7: DeprecatedFeatureWarning: content is deprecated, use rawContent instead\n",
      "  lst.append([tweet.date, tweet.id, tweet.user.username, tweet.content])\n",
      "/var/folders/bz/72zd2hjs5t5drbxxvfh0xhph0000gn/T/ipykernel_13759/3203291555.py:7: DeprecatedFeatureWarning: content is deprecated, use rawContent instead\n",
      "  lst.append([tweet.date, tweet.id, tweet.user.username, tweet.content])\n",
      "/var/folders/bz/72zd2hjs5t5drbxxvfh0xhph0000gn/T/ipykernel_13759/3203291555.py:7: DeprecatedFeatureWarning: content is deprecated, use rawContent instead\n",
      "  lst.append([tweet.date, tweet.id, tweet.user.username, tweet.content])\n",
      "/var/folders/bz/72zd2hjs5t5drbxxvfh0xhph0000gn/T/ipykernel_13759/3203291555.py:7: DeprecatedFeatureWarning: content is deprecated, use rawContent instead\n",
      "  lst.append([tweet.date, tweet.id, tweet.user.username, tweet.content])\n",
      "/var/folders/bz/72zd2hjs5t5drbxxvfh0xhph0000gn/T/ipykernel_13759/3203291555.py:7: DeprecatedFeatureWarning: content is deprecated, use rawContent instead\n",
      "  lst.append([tweet.date, tweet.id, tweet.user.username, tweet.content])\n",
      "/var/folders/bz/72zd2hjs5t5drbxxvfh0xhph0000gn/T/ipykernel_13759/3203291555.py:7: DeprecatedFeatureWarning: content is deprecated, use rawContent instead\n",
      "  lst.append([tweet.date, tweet.id, tweet.user.username, tweet.content])\n",
      "/var/folders/bz/72zd2hjs5t5drbxxvfh0xhph0000gn/T/ipykernel_13759/3203291555.py:7: DeprecatedFeatureWarning: content is deprecated, use rawContent instead\n",
      "  lst.append([tweet.date, tweet.id, tweet.user.username, tweet.content])\n",
      "/var/folders/bz/72zd2hjs5t5drbxxvfh0xhph0000gn/T/ipykernel_13759/3203291555.py:7: DeprecatedFeatureWarning: content is deprecated, use rawContent instead\n",
      "  lst.append([tweet.date, tweet.id, tweet.user.username, tweet.content])\n",
      "/var/folders/bz/72zd2hjs5t5drbxxvfh0xhph0000gn/T/ipykernel_13759/3203291555.py:7: DeprecatedFeatureWarning: content is deprecated, use rawContent instead\n",
      "  lst.append([tweet.date, tweet.id, tweet.user.username, tweet.content])\n",
      "/var/folders/bz/72zd2hjs5t5drbxxvfh0xhph0000gn/T/ipykernel_13759/3203291555.py:7: DeprecatedFeatureWarning: content is deprecated, use rawContent instead\n",
      "  lst.append([tweet.date, tweet.id, tweet.user.username, tweet.content])\n",
      "/var/folders/bz/72zd2hjs5t5drbxxvfh0xhph0000gn/T/ipykernel_13759/3203291555.py:7: DeprecatedFeatureWarning: content is deprecated, use rawContent instead\n",
      "  lst.append([tweet.date, tweet.id, tweet.user.username, tweet.content])\n"
     ]
    }
   ],
   "source": [
    "for i, pairs in enumerate(dec_dates):\n",
    "    start, end = pairs\n",
    "    scraper_helper('chink OR chinaman OR chyna OR chinkland OR gook', start, end)"
   ]
  }
 ],
 "metadata": {
  "kernelspec": {
   "display_name": "base",
   "language": "python",
   "name": "python3"
  },
  "language_info": {
   "codemirror_mode": {
    "name": "ipython",
    "version": 3
   },
   "file_extension": ".py",
   "mimetype": "text/x-python",
   "name": "python",
   "nbconvert_exporter": "python",
   "pygments_lexer": "ipython3",
   "version": "3.9.12"
  },
  "orig_nbformat": 4
 },
 "nbformat": 4,
 "nbformat_minor": 2
}
