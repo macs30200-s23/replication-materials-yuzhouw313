{
 "cells": [
  {
   "cell_type": "code",
   "execution_count": 1,
   "metadata": {},
   "outputs": [],
   "source": [
    "import pandas as pd\n",
    "import os"
   ]
  },
  {
   "cell_type": "code",
   "execution_count": 2,
   "metadata": {},
   "outputs": [],
   "source": [
    "folder_A_path = '/Users/itsyuzhou/Spring2023/MACS30200/replication-materials-yuzhouw313/tweet-part-A'\n",
    "folder_B_path = '/Users/itsyuzhou/Spring2023/MACS30200/replication-materials-yuzhouw313/tweet-part-B'\n",
    "folder_C_path = '/Users/itsyuzhou/Spring2023/MACS30200/replication-materials-yuzhouw313/tweet-part-C'\n",
    "folder_D_path = '/Users/itsyuzhou/Spring2023/MACS30200/replication-materials-yuzhouw313/tweet-part-D'\n",
    "folder_E_path = '/Users/itsyuzhou/Spring2023/MACS30200/replication-materials-yuzhouw313/tweet-part-E'\n",
    "folder_F_path = '/Users/itsyuzhou/Spring2023/MACS30200/replication-materials-yuzhouw313/tweet-part-F'\n"
   ]
  },
  {
   "cell_type": "code",
   "execution_count": 3,
   "metadata": {},
   "outputs": [],
   "source": [
    "files_A = os.listdir(folder_A_path)\n",
    "files_B = os.listdir(folder_B_path)\n",
    "files_C = os.listdir(folder_C_path)\n",
    "files_D = os.listdir(folder_D_path)\n",
    "files_E = os.listdir(folder_E_path)\n",
    "files_F = os.listdir(folder_F_path)"
   ]
  },
  {
   "cell_type": "code",
   "execution_count": 17,
   "metadata": {},
   "outputs": [],
   "source": [
    "def create_df(files, folder_path):\n",
    "    dfs = {}\n",
    "    for file in files:\n",
    "        df = pd.read_csv(os.path.join(folder_path, file))\n",
    "        dfs[file[:-4]] = df\n",
    "    return dfs"
   ]
  },
  {
   "cell_type": "code",
   "execution_count": 18,
   "metadata": {},
   "outputs": [],
   "source": [
    "dfs_A = create_df(files_A, folder_A_path)"
   ]
  },
  {
   "cell_type": "code",
   "execution_count": 21,
   "metadata": {},
   "outputs": [
    {
     "data": {
      "text/plain": [
       "dict_keys(['oct2021-tweets', 'jun2021-tweets', 'apr2021-tweets', 'nov2020-tweets', 'aug2021-tweets', 'may2021-tweets', 'feb2021-tweets', 'dec2020-tweets', 'jan2021-tweets', 'sep2020-tweets', 'mar2021-tweets', 'jul2021-tweets', 'nov2021-tweets', 'aug2020-tweets', 'may2020-tweets', 'jun2020-tweets', 'oct2020-tweets', 'apr2020-tweets', 'jan2020-tweets', 'sep2021-tweets', 'mar2020-tweets', 'jul2020-tweets', 'feb2020-tweets', 'dec2021-tweets'])"
      ]
     },
     "execution_count": 21,
     "metadata": {},
     "output_type": "execute_result"
    }
   ],
   "source": [
    "dfs_A.keys()"
   ]
  },
  {
   "cell_type": "code",
   "execution_count": 22,
   "metadata": {},
   "outputs": [],
   "source": [
    "dfs_C = create_df(files_C, folder_C_path)"
   ]
  },
  {
   "cell_type": "code",
   "execution_count": 24,
   "metadata": {},
   "outputs": [],
   "source": [
    "dfs_D = create_df(files_D, folder_D_path)"
   ]
  },
  {
   "cell_type": "code",
   "execution_count": 25,
   "metadata": {},
   "outputs": [],
   "source": [
    "dfs_E = create_df(files_E, folder_E_path)"
   ]
  },
  {
   "cell_type": "code",
   "execution_count": 26,
   "metadata": {},
   "outputs": [],
   "source": [
    "dfs_F = create_df(files_F, folder_F_path)"
   ]
  },
  {
   "cell_type": "code",
   "execution_count": 31,
   "metadata": {},
   "outputs": [],
   "source": [
    "file_path1 = '/Users/itsyuzhou/Spring2023/MACS30200/replication-materials-yuzhouw313/tweet-part-B/Bjan2020-tweets.csv'\n",
    "df1 = pd.read_csv(file_path1)"
   ]
  },
  {
   "cell_type": "code",
   "execution_count": 32,
   "metadata": {},
   "outputs": [],
   "source": [
    "file_path2 = '/Users/itsyuzhou/Spring2023/MACS30200/replication-materials-yuzhouw313/tweet-part-B/Bjan2021-tweets.csv'\n",
    "df2 = pd.read_csv(file_path2)"
   ]
  },
  {
   "cell_type": "code",
   "execution_count": 33,
   "metadata": {},
   "outputs": [],
   "source": [
    "file_path3 = '/Users/itsyuzhou/Spring2023/MACS30200/replication-materials-yuzhouw313/tweet-part-B/Bfeb2020-tweets.csv'\n",
    "df3 = pd.read_csv(file_path3)"
   ]
  },
  {
   "cell_type": "code",
   "execution_count": 34,
   "metadata": {},
   "outputs": [],
   "source": [
    "file_path4 = '/Users/itsyuzhou/Spring2023/MACS30200/replication-materials-yuzhouw313/tweet-part-B/Bfeb2021-tweets.csv'\n",
    "df4 = pd.read_csv(file_path4)"
   ]
  },
  {
   "cell_type": "code",
   "execution_count": 35,
   "metadata": {},
   "outputs": [],
   "source": [
    "file_path5 = '/Users/itsyuzhou/Spring2023/MACS30200/replication-materials-yuzhouw313/tweet-part-B/Bmar2020-tweets.csv'\n",
    "df5 = pd.read_csv(file_path5)"
   ]
  },
  {
   "cell_type": "code",
   "execution_count": 36,
   "metadata": {},
   "outputs": [],
   "source": [
    "file_path6 = '/Users/itsyuzhou/Spring2023/MACS30200/replication-materials-yuzhouw313/tweet-part-B/Bmar2021-tweets.csv'\n",
    "df6 = pd.read_csv(file_path6)"
   ]
  },
  {
   "cell_type": "code",
   "execution_count": 37,
   "metadata": {},
   "outputs": [],
   "source": [
    "file_path7 = '/Users/itsyuzhou/Spring2023/MACS30200/replication-materials-yuzhouw313/tweet-part-B/Bapr2020-tweets.csv'\n",
    "df7 = pd.read_csv(file_path7)"
   ]
  },
  {
   "cell_type": "code",
   "execution_count": 38,
   "metadata": {},
   "outputs": [],
   "source": [
    "file_path8 = '/Users/itsyuzhou/Spring2023/MACS30200/replication-materials-yuzhouw313/tweet-part-B/Bapr2021-tweets.csv'\n",
    "df8 = pd.read_csv(file_path8)"
   ]
  },
  {
   "cell_type": "code",
   "execution_count": 39,
   "metadata": {},
   "outputs": [],
   "source": [
    "file_path9 = '/Users/itsyuzhou/Spring2023/MACS30200/replication-materials-yuzhouw313/tweet-part-B/Bmay2020-tweets.csv'\n",
    "df9 = pd.read_csv(file_path9)"
   ]
  },
  {
   "cell_type": "code",
   "execution_count": 40,
   "metadata": {},
   "outputs": [],
   "source": [
    "file_path10 = '/Users/itsyuzhou/Spring2023/MACS30200/replication-materials-yuzhouw313/tweet-part-B/Bmay2021-tweets.csv'\n",
    "df10 = pd.read_csv(file_path10)"
   ]
  },
  {
   "cell_type": "code",
   "execution_count": 41,
   "metadata": {},
   "outputs": [],
   "source": [
    "file_path11 = '/Users/itsyuzhou/Spring2023/MACS30200/replication-materials-yuzhouw313/tweet-part-B/Bjun2020-tweets.csv'\n",
    "df11 = pd.read_csv(file_path11)"
   ]
  },
  {
   "cell_type": "code",
   "execution_count": 42,
   "metadata": {},
   "outputs": [],
   "source": [
    "file_path12 = '/Users/itsyuzhou/Spring2023/MACS30200/replication-materials-yuzhouw313/tweet-part-B/Bjun2021-tweets.csv'\n",
    "df12 = pd.read_csv(file_path12)"
   ]
  },
  {
   "cell_type": "code",
   "execution_count": 43,
   "metadata": {},
   "outputs": [],
   "source": [
    "file_path13 = '/Users/itsyuzhou/Spring2023/MACS30200/replication-materials-yuzhouw313/tweet-part-B/Bjul2020-tweets.csv'\n",
    "df13 = pd.read_csv(file_path13)"
   ]
  },
  {
   "cell_type": "code",
   "execution_count": 44,
   "metadata": {},
   "outputs": [],
   "source": [
    "file_path14 = '/Users/itsyuzhou/Spring2023/MACS30200/replication-materials-yuzhouw313/tweet-part-B/Bjul2021-tweets.csv'\n",
    "df14 = pd.read_csv(file_path14)"
   ]
  },
  {
   "cell_type": "code",
   "execution_count": 45,
   "metadata": {},
   "outputs": [],
   "source": [
    "file_path15 = '/Users/itsyuzhou/Spring2023/MACS30200/replication-materials-yuzhouw313/tweet-part-B/Baug2020-tweets.csv'\n",
    "df15 = pd.read_csv(file_path15)"
   ]
  },
  {
   "cell_type": "code",
   "execution_count": 46,
   "metadata": {},
   "outputs": [],
   "source": [
    "file_path16 = '/Users/itsyuzhou/Spring2023/MACS30200/replication-materials-yuzhouw313/tweet-part-B/Baug2021-tweets.csv'\n",
    "df16 = pd.read_csv(file_path16)"
   ]
  },
  {
   "cell_type": "code",
   "execution_count": 47,
   "metadata": {},
   "outputs": [],
   "source": [
    "file_path17 = '/Users/itsyuzhou/Spring2023/MACS30200/replication-materials-yuzhouw313/tweet-part-B/Bsep2020-tweets.csv'\n",
    "df17 = pd.read_csv(file_path17)"
   ]
  },
  {
   "cell_type": "code",
   "execution_count": 48,
   "metadata": {},
   "outputs": [],
   "source": [
    "file_path18 = '/Users/itsyuzhou/Spring2023/MACS30200/replication-materials-yuzhouw313/tweet-part-B/Bsep2021-tweets.csv'\n",
    "df18 = pd.read_csv(file_path18)"
   ]
  },
  {
   "cell_type": "code",
   "execution_count": 49,
   "metadata": {},
   "outputs": [],
   "source": [
    "file_path19 = '/Users/itsyuzhou/Spring2023/MACS30200/replication-materials-yuzhouw313/tweet-part-B/Boct2020-tweets.csv'\n",
    "df19 = pd.read_csv(file_path19)"
   ]
  },
  {
   "cell_type": "code",
   "execution_count": 50,
   "metadata": {},
   "outputs": [],
   "source": [
    "file_path20 = '/Users/itsyuzhou/Spring2023/MACS30200/replication-materials-yuzhouw313/tweet-part-B/Boct2021-tweets.csv'\n",
    "df20 = pd.read_csv(file_path20)"
   ]
  },
  {
   "cell_type": "code",
   "execution_count": 51,
   "metadata": {},
   "outputs": [],
   "source": [
    "file_path21 = '/Users/itsyuzhou/Spring2023/MACS30200/replication-materials-yuzhouw313/tweet-part-B/Bnov2020-tweets.csv'\n",
    "df21 = pd.read_csv(file_path21)"
   ]
  },
  {
   "cell_type": "code",
   "execution_count": 52,
   "metadata": {},
   "outputs": [],
   "source": [
    "file_path22 = '/Users/itsyuzhou/Spring2023/MACS30200/replication-materials-yuzhouw313/tweet-part-B/Bnov2021-tweets.csv'\n",
    "df22 = pd.read_csv(file_path22)"
   ]
  },
  {
   "cell_type": "code",
   "execution_count": 53,
   "metadata": {},
   "outputs": [],
   "source": [
    "file_path23 = '/Users/itsyuzhou/Spring2023/MACS30200/replication-materials-yuzhouw313/tweet-part-B/Bdec2020-tweets.csv'\n",
    "df23 = pd.read_csv(file_path23)"
   ]
  },
  {
   "cell_type": "code",
   "execution_count": 57,
   "metadata": {},
   "outputs": [
    {
     "name": "stderr",
     "output_type": "stream",
     "text": [
      "/var/folders/bz/72zd2hjs5t5drbxxvfh0xhph0000gn/T/ipykernel_10853/1442800422.py:2: FutureWarning: The error_bad_lines argument has been deprecated and will be removed in a future version. Use on_bad_lines in the future.\n",
      "\n",
      "\n",
      "  df24 = pd.read_csv(file_path24, error_bad_lines=False)\n"
     ]
    },
    {
     "ename": "ParserError",
     "evalue": "Error tokenizing data. C error: Buffer overflow caught - possible malformed input file.\n",
     "output_type": "error",
     "traceback": [
      "\u001b[0;31m---------------------------------------------------------------------------\u001b[0m",
      "\u001b[0;31mParserError\u001b[0m                               Traceback (most recent call last)",
      "\u001b[1;32m/Users/itsyuzhou/Spring2023/MACS30200/replication-materials-yuzhouw313/EDA.ipynb Cell 34\u001b[0m in \u001b[0;36m<cell line: 2>\u001b[0;34m()\u001b[0m\n\u001b[1;32m      <a href='vscode-notebook-cell:/Users/itsyuzhou/Spring2023/MACS30200/replication-materials-yuzhouw313/EDA.ipynb#Y103sZmlsZQ%3D%3D?line=0'>1</a>\u001b[0m file_path24 \u001b[39m=\u001b[39m \u001b[39m'\u001b[39m\u001b[39m/Users/itsyuzhou/Spring2023/MACS30200/replication-materials-yuzhouw313/tweet-part-B/Bdec2021-tweets.csv\u001b[39m\u001b[39m'\u001b[39m\n\u001b[0;32m----> <a href='vscode-notebook-cell:/Users/itsyuzhou/Spring2023/MACS30200/replication-materials-yuzhouw313/EDA.ipynb#Y103sZmlsZQ%3D%3D?line=1'>2</a>\u001b[0m df24 \u001b[39m=\u001b[39m pd\u001b[39m.\u001b[39;49mread_csv(file_path24, error_bad_lines\u001b[39m=\u001b[39;49m\u001b[39mFalse\u001b[39;49;00m)\n",
      "File \u001b[0;32m~/opt/anaconda3/lib/python3.9/site-packages/pandas/util/_decorators.py:311\u001b[0m, in \u001b[0;36mdeprecate_nonkeyword_arguments.<locals>.decorate.<locals>.wrapper\u001b[0;34m(*args, **kwargs)\u001b[0m\n\u001b[1;32m    305\u001b[0m \u001b[39mif\u001b[39;00m \u001b[39mlen\u001b[39m(args) \u001b[39m>\u001b[39m num_allow_args:\n\u001b[1;32m    306\u001b[0m     warnings\u001b[39m.\u001b[39mwarn(\n\u001b[1;32m    307\u001b[0m         msg\u001b[39m.\u001b[39mformat(arguments\u001b[39m=\u001b[39marguments),\n\u001b[1;32m    308\u001b[0m         \u001b[39mFutureWarning\u001b[39;00m,\n\u001b[1;32m    309\u001b[0m         stacklevel\u001b[39m=\u001b[39mstacklevel,\n\u001b[1;32m    310\u001b[0m     )\n\u001b[0;32m--> 311\u001b[0m \u001b[39mreturn\u001b[39;00m func(\u001b[39m*\u001b[39;49margs, \u001b[39m*\u001b[39;49m\u001b[39m*\u001b[39;49mkwargs)\n",
      "File \u001b[0;32m~/opt/anaconda3/lib/python3.9/site-packages/pandas/io/parsers/readers.py:680\u001b[0m, in \u001b[0;36mread_csv\u001b[0;34m(filepath_or_buffer, sep, delimiter, header, names, index_col, usecols, squeeze, prefix, mangle_dupe_cols, dtype, engine, converters, true_values, false_values, skipinitialspace, skiprows, skipfooter, nrows, na_values, keep_default_na, na_filter, verbose, skip_blank_lines, parse_dates, infer_datetime_format, keep_date_col, date_parser, dayfirst, cache_dates, iterator, chunksize, compression, thousands, decimal, lineterminator, quotechar, quoting, doublequote, escapechar, comment, encoding, encoding_errors, dialect, error_bad_lines, warn_bad_lines, on_bad_lines, delim_whitespace, low_memory, memory_map, float_precision, storage_options)\u001b[0m\n\u001b[1;32m    665\u001b[0m kwds_defaults \u001b[39m=\u001b[39m _refine_defaults_read(\n\u001b[1;32m    666\u001b[0m     dialect,\n\u001b[1;32m    667\u001b[0m     delimiter,\n\u001b[0;32m   (...)\u001b[0m\n\u001b[1;32m    676\u001b[0m     defaults\u001b[39m=\u001b[39m{\u001b[39m\"\u001b[39m\u001b[39mdelimiter\u001b[39m\u001b[39m\"\u001b[39m: \u001b[39m\"\u001b[39m\u001b[39m,\u001b[39m\u001b[39m\"\u001b[39m},\n\u001b[1;32m    677\u001b[0m )\n\u001b[1;32m    678\u001b[0m kwds\u001b[39m.\u001b[39mupdate(kwds_defaults)\n\u001b[0;32m--> 680\u001b[0m \u001b[39mreturn\u001b[39;00m _read(filepath_or_buffer, kwds)\n",
      "File \u001b[0;32m~/opt/anaconda3/lib/python3.9/site-packages/pandas/io/parsers/readers.py:581\u001b[0m, in \u001b[0;36m_read\u001b[0;34m(filepath_or_buffer, kwds)\u001b[0m\n\u001b[1;32m    578\u001b[0m     \u001b[39mreturn\u001b[39;00m parser\n\u001b[1;32m    580\u001b[0m \u001b[39mwith\u001b[39;00m parser:\n\u001b[0;32m--> 581\u001b[0m     \u001b[39mreturn\u001b[39;00m parser\u001b[39m.\u001b[39;49mread(nrows)\n",
      "File \u001b[0;32m~/opt/anaconda3/lib/python3.9/site-packages/pandas/io/parsers/readers.py:1254\u001b[0m, in \u001b[0;36mTextFileReader.read\u001b[0;34m(self, nrows)\u001b[0m\n\u001b[1;32m   1252\u001b[0m nrows \u001b[39m=\u001b[39m validate_integer(\u001b[39m\"\u001b[39m\u001b[39mnrows\u001b[39m\u001b[39m\"\u001b[39m, nrows)\n\u001b[1;32m   1253\u001b[0m \u001b[39mtry\u001b[39;00m:\n\u001b[0;32m-> 1254\u001b[0m     index, columns, col_dict \u001b[39m=\u001b[39m \u001b[39mself\u001b[39;49m\u001b[39m.\u001b[39;49m_engine\u001b[39m.\u001b[39;49mread(nrows)\n\u001b[1;32m   1255\u001b[0m \u001b[39mexcept\u001b[39;00m \u001b[39mException\u001b[39;00m:\n\u001b[1;32m   1256\u001b[0m     \u001b[39mself\u001b[39m\u001b[39m.\u001b[39mclose()\n",
      "File \u001b[0;32m~/opt/anaconda3/lib/python3.9/site-packages/pandas/io/parsers/c_parser_wrapper.py:225\u001b[0m, in \u001b[0;36mCParserWrapper.read\u001b[0;34m(self, nrows)\u001b[0m\n\u001b[1;32m    223\u001b[0m \u001b[39mtry\u001b[39;00m:\n\u001b[1;32m    224\u001b[0m     \u001b[39mif\u001b[39;00m \u001b[39mself\u001b[39m\u001b[39m.\u001b[39mlow_memory:\n\u001b[0;32m--> 225\u001b[0m         chunks \u001b[39m=\u001b[39m \u001b[39mself\u001b[39;49m\u001b[39m.\u001b[39;49m_reader\u001b[39m.\u001b[39;49mread_low_memory(nrows)\n\u001b[1;32m    226\u001b[0m         \u001b[39m# destructive to chunks\u001b[39;00m\n\u001b[1;32m    227\u001b[0m         data \u001b[39m=\u001b[39m _concatenate_chunks(chunks)\n",
      "File \u001b[0;32m~/opt/anaconda3/lib/python3.9/site-packages/pandas/_libs/parsers.pyx:805\u001b[0m, in \u001b[0;36mpandas._libs.parsers.TextReader.read_low_memory\u001b[0;34m()\u001b[0m\n",
      "File \u001b[0;32m~/opt/anaconda3/lib/python3.9/site-packages/pandas/_libs/parsers.pyx:861\u001b[0m, in \u001b[0;36mpandas._libs.parsers.TextReader._read_rows\u001b[0;34m()\u001b[0m\n",
      "File \u001b[0;32m~/opt/anaconda3/lib/python3.9/site-packages/pandas/_libs/parsers.pyx:847\u001b[0m, in \u001b[0;36mpandas._libs.parsers.TextReader._tokenize_rows\u001b[0;34m()\u001b[0m\n",
      "File \u001b[0;32m~/opt/anaconda3/lib/python3.9/site-packages/pandas/_libs/parsers.pyx:1960\u001b[0m, in \u001b[0;36mpandas._libs.parsers.raise_parser_error\u001b[0;34m()\u001b[0m\n",
      "\u001b[0;31mParserError\u001b[0m: Error tokenizing data. C error: Buffer overflow caught - possible malformed input file.\n"
     ]
    }
   ],
   "source": [
    "file_path24 = '/Users/itsyuzhou/Spring2023/MACS30200/replication-materials-yuzhouw313/tweet-part-B/Bdec2021-tweets.csv'\n",
    "df24 = pd.read_csv(file_path24, error_bad_lines=False)\n"
   ]
  },
  {
   "cell_type": "code",
   "execution_count": 65,
   "metadata": {},
   "outputs": [],
   "source": [
    "dfs_B = {}\n",
    "dfs_B['Bjan2020-tweets'] = df1\n",
    "dfs_B['Bjan2021-tweets'] = df2\n",
    "dfs_B['Bfeb2020-tweets'] = df3\n",
    "dfs_B['Bfeb2021-tweets'] = df4\n",
    "dfs_B['Bmar2020-tweets'] = df5\n",
    "dfs_B['Bmar2021-tweets'] = df6\n",
    "dfs_B['Bapr2020-tweets'] = df7\n",
    "dfs_B['Bapr2021-tweets'] = df8\n",
    "dfs_B['Bmay2020-tweets'] = df9\n",
    "dfs_B['Bmay2021-tweets'] = df10\n",
    "dfs_B['Bjun2020-tweets'] = df11\n",
    "dfs_B['Bjun2021-tweets'] = df12\n",
    "dfs_B['Bjul2020-tweets'] = df13\n",
    "dfs_B['Bjul2021-tweets'] = df14\n",
    "dfs_B['Baug2020-tweets'] = df15\n",
    "dfs_B['Baug2021-tweets'] = df16\n",
    "dfs_B['Bsep2020-tweets'] = df17\n",
    "dfs_B['Bsep2021-tweets'] = df18\n",
    "dfs_B['Boct2020-tweets'] = df19\n",
    "dfs_B['Boct2021-tweets'] = df20\n",
    "dfs_B['Bnov2020-tweets'] = df21\n",
    "dfs_B['Bnov2021-tweets'] = df22\n",
    "dfs_B['Bdec2020-tweets'] = df23\n"
   ]
  },
  {
   "cell_type": "code",
   "execution_count": 60,
   "metadata": {},
   "outputs": [
    {
     "name": "stdout",
     "output_type": "stream",
     "text": [
      "oct2021-tweets  has size:  (1001, 4)\n",
      "jun2021-tweets  has size:  (1001, 4)\n",
      "apr2021-tweets  has size:  (1001, 4)\n",
      "nov2020-tweets  has size:  (1001, 4)\n",
      "aug2021-tweets  has size:  (1001, 4)\n",
      "may2021-tweets  has size:  (1001, 4)\n",
      "feb2021-tweets  has size:  (1001, 4)\n",
      "dec2020-tweets  has size:  (1001, 4)\n",
      "jan2021-tweets  has size:  (1001, 4)\n",
      "sep2020-tweets  has size:  (1001, 4)\n",
      "mar2021-tweets  has size:  (1001, 4)\n",
      "jul2021-tweets  has size:  (1001, 4)\n",
      "nov2021-tweets  has size:  (1001, 4)\n",
      "aug2020-tweets  has size:  (1001, 4)\n",
      "may2020-tweets  has size:  (1001, 4)\n",
      "jun2020-tweets  has size:  (1001, 4)\n",
      "oct2020-tweets  has size:  (1001, 4)\n",
      "apr2020-tweets  has size:  (1001, 4)\n",
      "jan2020-tweets  has size:  (1001, 4)\n",
      "sep2021-tweets  has size:  (1001, 4)\n",
      "mar2020-tweets  has size:  (1001, 4)\n",
      "jul2020-tweets  has size:  (1001, 4)\n",
      "feb2020-tweets  has size:  (1001, 4)\n",
      "dec2021-tweets  has size:  (1001, 4)\n"
     ]
    }
   ],
   "source": [
    "for key, values in dfs_A.items():\n",
    "    print(key, \" has size: \", values.shape)"
   ]
  },
  {
   "cell_type": "code",
   "execution_count": 66,
   "metadata": {},
   "outputs": [
    {
     "name": "stdout",
     "output_type": "stream",
     "text": [
      "Bjan2020-tweets  has size:  (1001, 4)\n",
      "Bjan2021-tweets  has size:  (1001, 4)\n",
      "Bfeb2020-tweets  has size:  (1001, 4)\n",
      "Bfeb2021-tweets  has size:  (1001, 4)\n",
      "Bmar2020-tweets  has size:  (1001, 4)\n",
      "Bmar2021-tweets  has size:  (1001, 4)\n",
      "Bapr2020-tweets  has size:  (1001, 4)\n",
      "Bapr2021-tweets  has size:  (1001, 4)\n",
      "Bmay2020-tweets  has size:  (1001, 4)\n",
      "Bmay2021-tweets  has size:  (989, 4)\n",
      "Bjun2020-tweets  has size:  (1001, 4)\n",
      "Bjun2021-tweets  has size:  (1001, 4)\n",
      "Bjul2020-tweets  has size:  (1001, 4)\n",
      "Bjul2021-tweets  has size:  (856, 4)\n",
      "Baug2020-tweets  has size:  (1001, 4)\n",
      "Baug2021-tweets  has size:  (831, 4)\n",
      "Bsep2020-tweets  has size:  (1001, 4)\n",
      "Bsep2021-tweets  has size:  (1001, 4)\n",
      "Boct2020-tweets  has size:  (1001, 4)\n",
      "Boct2021-tweets  has size:  (797, 4)\n",
      "Bnov2020-tweets  has size:  (918, 4)\n",
      "Bnov2021-tweets  has size:  (987, 4)\n",
      "Bdec2020-tweets  has size:  (1001, 4)\n"
     ]
    }
   ],
   "source": [
    "for key, values in dfs_B.items():\n",
    "    print(key, \" has size: \", values.shape)"
   ]
  },
  {
   "cell_type": "code",
   "execution_count": 61,
   "metadata": {},
   "outputs": [
    {
     "name": "stdout",
     "output_type": "stream",
     "text": [
      "Cjun2020-tweets  has size:  (1001, 4)\n",
      "Coct2020-tweets  has size:  (1001, 4)\n",
      "Capr2020-tweets  has size:  (1001, 4)\n",
      "Caug2020-tweets  has size:  (1001, 4)\n",
      "Cnov2021-tweets  has size:  (1001, 4)\n",
      "Cmay2020-tweets  has size:  (1001, 4)\n",
      "Cdec2021-tweets  has size:  (1001, 4)\n",
      "Cfeb2020-tweets  has size:  (1001, 4)\n",
      "Csep2021-tweets  has size:  (1001, 4)\n",
      "Cjan2020-tweets  has size:  (1001, 4)\n",
      "Cjul2020-tweets  has size:  (1001, 4)\n",
      "Cmar2020-tweets  has size:  (1001, 4)\n",
      "Caug2021-tweets  has size:  (1001, 4)\n",
      "Cnov2020-tweets  has size:  (1001, 4)\n",
      "Cmay2021-tweets  has size:  (1001, 4)\n",
      "Coct2021-tweets  has size:  (1001, 4)\n",
      "Cjun2021-tweets  has size:  (1001, 4)\n",
      "Capr2021-tweets  has size:  (1001, 4)\n",
      "Csep2020-tweets  has size:  (1001, 4)\n",
      "Cjan2021-tweets  has size:  (1001, 4)\n",
      "Cjul2021-tweets  has size:  (1001, 4)\n",
      "Cmar2021-tweets  has size:  (1001, 4)\n",
      "Cdec2020-tweets  has size:  (1001, 4)\n",
      "Cfeb2021-tweets  has size:  (1001, 4)\n"
     ]
    }
   ],
   "source": [
    "for key, values in dfs_C.items():\n",
    "    print(key, \" has size: \", values.shape)"
   ]
  },
  {
   "cell_type": "code",
   "execution_count": 62,
   "metadata": {},
   "outputs": [
    {
     "name": "stdout",
     "output_type": "stream",
     "text": [
      "Dfeb2020-tweets  has size:  (2, 4)\n",
      "Ddec2021-tweets  has size:  (0, 4)\n",
      "Djul2020-tweets  has size:  (0, 4)\n",
      "Dmar2020-tweets  has size:  (8, 4)\n",
      "Dsep2021-tweets  has size:  (0, 4)\n",
      "Djan2020-tweets  has size:  (1, 4)\n",
      "Dapr2020-tweets  has size:  (11, 4)\n",
      "Djun2020-tweets  has size:  (3, 4)\n",
      "Doct2020-tweets  has size:  (2, 4)\n",
      "Dmay2020-tweets  has size:  (2, 4)\n",
      "Daug2020-tweets  has size:  (3, 4)\n",
      "Dnov2021-tweets  has size:  (1, 4)\n",
      "Djul2021-tweets  has size:  (0, 4)\n",
      "Dmar2021-tweets  has size:  (0, 4)\n",
      "Dsep2020-tweets  has size:  (1, 4)\n",
      "Djan2021-tweets  has size:  (2, 4)\n",
      "Dfeb2021-tweets  has size:  (3, 4)\n",
      "Ddec2020-tweets  has size:  (1, 4)\n",
      "Dmay2021-tweets  has size:  (2, 4)\n",
      "Daug2021-tweets  has size:  (1, 4)\n",
      "Dnov2020-tweets  has size:  (3, 4)\n",
      "Dapr2021-tweets  has size:  (2, 4)\n",
      "Doct2021-tweets  has size:  (1, 4)\n",
      "Djun2021-tweets  has size:  (1, 4)\n"
     ]
    }
   ],
   "source": [
    "for key, values in dfs_D.items():\n",
    "    print(key, \" has size: \", values.shape)"
   ]
  },
  {
   "cell_type": "code",
   "execution_count": 63,
   "metadata": {},
   "outputs": [
    {
     "name": "stdout",
     "output_type": "stream",
     "text": [
      "Ejul2020-tweets  has size:  (2001, 4)\n",
      "Emar2020-tweets  has size:  (2001, 4)\n",
      "Esep2021-tweets  has size:  (2001, 4)\n",
      "Ejan2020-tweets  has size:  (2001, 4)\n",
      "Efeb2020-tweets  has size:  (2001, 4)\n",
      "Edec2021-tweets  has size:  (2001, 4)\n",
      "Emay2020-tweets  has size:  (2001, 4)\n",
      "Eaug2020-tweets  has size:  (2001, 4)\n",
      "Enov2021-tweets  has size:  (2001, 4)\n",
      "Eapr2020-tweets  has size:  (2001, 4)\n",
      "Eoct2020-tweets  has size:  (2001, 4)\n",
      "Ejun2020-tweets  has size:  (2001, 4)\n",
      "Efeb2021-tweets  has size:  (2001, 4)\n",
      "Edec2020-tweets  has size:  (2001, 4)\n",
      "Ejul2021-tweets  has size:  (2001, 4)\n",
      "Emar2021-tweets  has size:  (2001, 4)\n",
      "Esep2020-tweets  has size:  (2001, 4)\n",
      "Ejan2021-tweets  has size:  (2001, 4)\n",
      "Eapr2021-tweets  has size:  (2001, 4)\n",
      "Ejun2021-tweets  has size:  (2001, 4)\n",
      "Eoct2021-tweets  has size:  (2001, 4)\n",
      "Emay2021-tweets  has size:  (2001, 4)\n",
      "Eaug2021-tweets  has size:  (2001, 4)\n",
      "Enov2020-tweets  has size:  (2001, 4)\n"
     ]
    }
   ],
   "source": [
    "for key, values in dfs_E.items():\n",
    "    print(key, \" has size: \", values.shape)"
   ]
  },
  {
   "cell_type": "code",
   "execution_count": 64,
   "metadata": {},
   "outputs": [
    {
     "name": "stdout",
     "output_type": "stream",
     "text": [
      "Fapr2020-tweets  has size:  (2001, 4)\n",
      "Foct2020-tweets  has size:  (2001, 4)\n",
      "Fjun2020-tweets  has size:  (2001, 4)\n",
      "Fmay2020-tweets  has size:  (2001, 4)\n",
      "Faug2020-tweets  has size:  (2001, 4)\n",
      "Fnov2021-tweets  has size:  (774, 4)\n",
      "Ffeb2020-tweets  has size:  (116, 4)\n",
      "Fdec2021-tweets  has size:  (679, 4)\n",
      "Fjul2020-tweets  has size:  (2001, 4)\n",
      "Fmar2020-tweets  has size:  (2001, 4)\n",
      "Fsep2021-tweets  has size:  (773, 4)\n",
      "Fjan2020-tweets  has size:  (243, 4)\n",
      "Fmay2021-tweets  has size:  (2001, 4)\n",
      "Faug2021-tweets  has size:  (1116, 4)\n",
      "Fnov2020-tweets  has size:  (2001, 4)\n",
      "Fapr2021-tweets  has size:  (2001, 4)\n",
      "Fjun2021-tweets  has size:  (2001, 4)\n",
      "Foct2021-tweets  has size:  (777, 4)\n",
      "Fjul2021-tweets  has size:  (1472, 4)\n",
      "Fmar2021-tweets  has size:  (1871, 4)\n",
      "Fsep2020-tweets  has size:  (2001, 4)\n",
      "Fjan2021-tweets  has size:  (2001, 4)\n",
      "Ffeb2021-tweets  has size:  (1944, 4)\n",
      "Fdec2020-tweets  has size:  (2001, 4)\n"
     ]
    }
   ],
   "source": [
    "for key, values in dfs_F.items():\n",
    "    print(key, \" has size: \", values.shape)"
   ]
  },
  {
   "cell_type": "code",
   "execution_count": 67,
   "metadata": {},
   "outputs": [
    {
     "data": {
      "text/plain": [
       "157872"
      ]
     },
     "execution_count": 67,
     "metadata": {},
     "output_type": "execute_result"
    }
   ],
   "source": [
    "# Twitter dataset (besides 2021 Dec Keyword F)\n",
    "72072 + 48024 + 37609 + 167"
   ]
  }
 ],
 "metadata": {
  "kernelspec": {
   "display_name": "base",
   "language": "python",
   "name": "python3"
  },
  "language_info": {
   "codemirror_mode": {
    "name": "ipython",
    "version": 3
   },
   "file_extension": ".py",
   "mimetype": "text/x-python",
   "name": "python",
   "nbconvert_exporter": "python",
   "pygments_lexer": "ipython3",
   "version": "3.9.12"
  },
  "orig_nbformat": 4
 },
 "nbformat": 4,
 "nbformat_minor": 2
}
