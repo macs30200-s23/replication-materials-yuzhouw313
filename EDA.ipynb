{
 "cells": [
  {
   "cell_type": "code",
   "execution_count": 4,
   "metadata": {},
   "outputs": [],
   "source": [
    "import pandas as pd\n",
    "import os"
   ]
  },
  {
   "cell_type": "code",
   "execution_count": 5,
   "metadata": {},
   "outputs": [],
   "source": [
    "folder_path = '/Users/itsyuzhou/Spring2023/MACS30200/replication-materials-yuzhouw313/tweet-2020-part1'\n"
   ]
  },
  {
   "cell_type": "code",
   "execution_count": 6,
   "metadata": {},
   "outputs": [],
   "source": [
    "files = os.listdir(folder_path)"
   ]
  },
  {
   "cell_type": "code",
   "execution_count": 7,
   "metadata": {},
   "outputs": [],
   "source": [
    "dfs = []\n",
    "for file in files:\n",
    "    df = pd.read_csv(os.path.join(folder_path, file))\n",
    "    dfs.append(df)"
   ]
  },
  {
   "cell_type": "code",
   "execution_count": 11,
   "metadata": {},
   "outputs": [
    {
     "data": {
      "text/plain": [
       "list"
      ]
     },
     "execution_count": 11,
     "metadata": {},
     "output_type": "execute_result"
    }
   ],
   "source": [
    "type(dfs)"
   ]
  },
  {
   "cell_type": "code",
   "execution_count": 12,
   "metadata": {},
   "outputs": [
    {
     "data": {
      "text/html": [
       "<div>\n",
       "<style scoped>\n",
       "    .dataframe tbody tr th:only-of-type {\n",
       "        vertical-align: middle;\n",
       "    }\n",
       "\n",
       "    .dataframe tbody tr th {\n",
       "        vertical-align: top;\n",
       "    }\n",
       "\n",
       "    .dataframe thead th {\n",
       "        text-align: right;\n",
       "    }\n",
       "</style>\n",
       "<table border=\"1\" class=\"dataframe\">\n",
       "  <thead>\n",
       "    <tr style=\"text-align: right;\">\n",
       "      <th></th>\n",
       "      <th>Datetime</th>\n",
       "      <th>Tweet Id</th>\n",
       "      <th>Text</th>\n",
       "      <th>Username</th>\n",
       "    </tr>\n",
       "  </thead>\n",
       "  <tbody>\n",
       "    <tr>\n",
       "      <th>0</th>\n",
       "      <td>2020-11-29 23:58:25+00:00</td>\n",
       "      <td>1333198664630722566</td>\n",
       "      <td>Should’ve grabbed me some subway cookies</td>\n",
       "      <td>CHINK_YSL</td>\n",
       "    </tr>\n",
       "    <tr>\n",
       "      <th>1</th>\n",
       "      <td>2020-11-29 23:56:17+00:00</td>\n",
       "      <td>1333198124882518021</td>\n",
       "      <td>@QUEEN_chink Yeah she’s smoking dick - Bc bitc...</td>\n",
       "      <td>flawl3ssnbrwn</td>\n",
       "    </tr>\n",
       "    <tr>\n",
       "      <th>2</th>\n",
       "      <td>2020-11-29 23:55:04+00:00</td>\n",
       "      <td>1333197819755319298</td>\n",
       "      <td>@NXNW_Chink Shut you wishing. I’m praying 🙏🏾</td>\n",
       "      <td>PurpleBow_22</td>\n",
       "    </tr>\n",
       "    <tr>\n",
       "      <th>3</th>\n",
       "      <td>2020-11-29 23:54:59+00:00</td>\n",
       "      <td>1333197799886901261</td>\n",
       "      <td>@QUEEN_chink Absolutely!!! They really tried it.</td>\n",
       "      <td>Solo_Kalin</td>\n",
       "    </tr>\n",
       "    <tr>\n",
       "      <th>4</th>\n",
       "      <td>2020-11-29 23:52:42+00:00</td>\n",
       "      <td>1333197225254522880</td>\n",
       "      <td>@coffe3l0v3r9 @tsunamipapi @SarcasmStardust @A...</td>\n",
       "      <td>JoshuaCanete10</td>\n",
       "    </tr>\n",
       "    <tr>\n",
       "      <th>...</th>\n",
       "      <td>...</td>\n",
       "      <td>...</td>\n",
       "      <td>...</td>\n",
       "      <td>...</td>\n",
       "    </tr>\n",
       "    <tr>\n",
       "      <th>996</th>\n",
       "      <td>2020-11-26 16:01:17+00:00</td>\n",
       "      <td>1331991424460525570</td>\n",
       "      <td>happy indigenous peoples day :)</td>\n",
       "      <td>kitty_chinks</td>\n",
       "    </tr>\n",
       "    <tr>\n",
       "      <th>997</th>\n",
       "      <td>2020-11-26 15:59:53+00:00</td>\n",
       "      <td>1331991071006527492</td>\n",
       "      <td>My eyes so chink</td>\n",
       "      <td>they_aint_me</td>\n",
       "    </tr>\n",
       "    <tr>\n",
       "      <th>998</th>\n",
       "      <td>2020-11-26 15:58:54+00:00</td>\n",
       "      <td>1331990823345459201</td>\n",
       "      <td>me asking everyone in my family to make me foo...</td>\n",
       "      <td>kitty_chinks</td>\n",
       "    </tr>\n",
       "    <tr>\n",
       "      <th>999</th>\n",
       "      <td>2020-11-26 15:57:28+00:00</td>\n",
       "      <td>1331990462194966529</td>\n",
       "      <td>@360FinalFlash Chink.</td>\n",
       "      <td>Jr12201522</td>\n",
       "    </tr>\n",
       "    <tr>\n",
       "      <th>1000</th>\n",
       "      <td>2020-11-26 15:57:27+00:00</td>\n",
       "      <td>1331990460131385344</td>\n",
       "      <td>The kitchen bussinnnn rn🥰</td>\n",
       "      <td>FineAss_Chink</td>\n",
       "    </tr>\n",
       "  </tbody>\n",
       "</table>\n",
       "<p>1001 rows × 4 columns</p>\n",
       "</div>"
      ],
      "text/plain": [
       "                       Datetime             Tweet Id  \\\n",
       "0     2020-11-29 23:58:25+00:00  1333198664630722566   \n",
       "1     2020-11-29 23:56:17+00:00  1333198124882518021   \n",
       "2     2020-11-29 23:55:04+00:00  1333197819755319298   \n",
       "3     2020-11-29 23:54:59+00:00  1333197799886901261   \n",
       "4     2020-11-29 23:52:42+00:00  1333197225254522880   \n",
       "...                         ...                  ...   \n",
       "996   2020-11-26 16:01:17+00:00  1331991424460525570   \n",
       "997   2020-11-26 15:59:53+00:00  1331991071006527492   \n",
       "998   2020-11-26 15:58:54+00:00  1331990823345459201   \n",
       "999   2020-11-26 15:57:28+00:00  1331990462194966529   \n",
       "1000  2020-11-26 15:57:27+00:00  1331990460131385344   \n",
       "\n",
       "                                                   Text        Username  \n",
       "0              Should’ve grabbed me some subway cookies       CHINK_YSL  \n",
       "1     @QUEEN_chink Yeah she’s smoking dick - Bc bitc...   flawl3ssnbrwn  \n",
       "2          @NXNW_Chink Shut you wishing. I’m praying 🙏🏾    PurpleBow_22  \n",
       "3      @QUEEN_chink Absolutely!!! They really tried it.      Solo_Kalin  \n",
       "4     @coffe3l0v3r9 @tsunamipapi @SarcasmStardust @A...  JoshuaCanete10  \n",
       "...                                                 ...             ...  \n",
       "996                     happy indigenous peoples day :)    kitty_chinks  \n",
       "997                                    My eyes so chink    they_aint_me  \n",
       "998   me asking everyone in my family to make me foo...    kitty_chinks  \n",
       "999                               @360FinalFlash Chink.      Jr12201522  \n",
       "1000                          The kitchen bussinnnn rn🥰   FineAss_Chink  \n",
       "\n",
       "[1001 rows x 4 columns]"
      ]
     },
     "execution_count": 12,
     "metadata": {},
     "output_type": "execute_result"
    }
   ],
   "source": [
    "dfs[0]"
   ]
  },
  {
   "cell_type": "code",
   "execution_count": null,
   "metadata": {},
   "outputs": [],
   "source": []
  }
 ],
 "metadata": {
  "kernelspec": {
   "display_name": "base",
   "language": "python",
   "name": "python3"
  },
  "language_info": {
   "codemirror_mode": {
    "name": "ipython",
    "version": 3
   },
   "file_extension": ".py",
   "mimetype": "text/x-python",
   "name": "python",
   "nbconvert_exporter": "python",
   "pygments_lexer": "ipython3",
   "version": "3.9.12"
  },
  "orig_nbformat": 4
 },
 "nbformat": 4,
 "nbformat_minor": 2
}
