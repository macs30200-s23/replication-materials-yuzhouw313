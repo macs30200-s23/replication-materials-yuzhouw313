{
 "cells": [
  {
   "attachments": {},
   "cell_type": "markdown",
   "metadata": {},
   "source": [
    "### Because of the weak causality in the Granger Causality Test, let's explore the correlational relationship between three time series objects"
   ]
  },
  {
   "cell_type": "code",
   "execution_count": 1,
   "metadata": {},
   "outputs": [],
   "source": [
    "import pandas as pd\n",
    "\n",
    "twitter_d = pd.read_csv('/Users/itsyuzhou/Spring2023/MACS30200/replication-materials-yuzhouw313/time series/ts_day_tweet.csv', index_col=0, parse_dates=True)\n",
    "twitter_w = pd.read_csv('/Users/itsyuzhou/Spring2023/MACS30200/replication-materials-yuzhouw313/time series/ts_week_tweet.csv', index_col=0, parse_dates=True)\n",
    "google_d_old = pd.read_csv('/Users/itsyuzhou/Spring2023/MACS30200/replication-materials-yuzhouw313/time series/ts_day_google_old.csv', index_col=0, parse_dates=True)\n",
    "google_d_new = pd.read_csv('/Users/itsyuzhou/Spring2023/MACS30200/replication-materials-yuzhouw313/time series/ts_day_google_new.csv', index_col=0, parse_dates=True)\n",
    "google_w_old = pd.read_csv('/Users/itsyuzhou/Spring2023/MACS30200/replication-materials-yuzhouw313/time series/ts_week_google_old.csv', index_col=0, parse_dates=True)\n",
    "google_w_new = pd.read_csv('/Users/itsyuzhou/Spring2023/MACS30200/replication-materials-yuzhouw313/time series/ts_week_google_new.csv', index_col=0, parse_dates=True)\n",
    "crime_w = pd.read_csv('/Users/itsyuzhou/Spring2023/MACS30200/replication-materials-yuzhouw313/time series/ts_week_crime.csv', index_col=0, parse_dates=True)"
   ]
  },
  {
   "attachments": {},
   "cell_type": "markdown",
   "metadata": {},
   "source": [
    "## Daily Time Series Ordinary Least Squares (OLS) Analysis"
   ]
  },
  {
   "attachments": {},
   "cell_type": "markdown",
   "metadata": {},
   "source": [
    "Since the daily Twitter time series is non-stationary, let's difference all daily time series objects for consistency"
   ]
  },
  {
   "cell_type": "code",
   "execution_count": 2,
   "metadata": {},
   "outputs": [],
   "source": [
    "twitter_d_diff = twitter_d.diff().dropna()\n",
    "google_d_old_diff = google_d_old.diff().dropna()\n",
    "google_d_new_diff = google_d_new.diff().dropna()"
   ]
  },
  {
   "cell_type": "code",
   "execution_count": 9,
   "metadata": {},
   "outputs": [
    {
     "data": {
      "text/html": [
       "<div>\n",
       "<style scoped>\n",
       "    .dataframe tbody tr th:only-of-type {\n",
       "        vertical-align: middle;\n",
       "    }\n",
       "\n",
       "    .dataframe tbody tr th {\n",
       "        vertical-align: top;\n",
       "    }\n",
       "\n",
       "    .dataframe thead th {\n",
       "        text-align: right;\n",
       "    }\n",
       "</style>\n",
       "<table border=\"1\" class=\"dataframe\">\n",
       "  <thead>\n",
       "    <tr style=\"text-align: right;\">\n",
       "      <th></th>\n",
       "      <th>twitter</th>\n",
       "      <th>google_old</th>\n",
       "      <th>google_new</th>\n",
       "    </tr>\n",
       "  </thead>\n",
       "  <tbody>\n",
       "    <tr>\n",
       "      <th>2020-01-02</th>\n",
       "      <td>103.0</td>\n",
       "      <td>1.0</td>\n",
       "      <td>0.5</td>\n",
       "    </tr>\n",
       "    <tr>\n",
       "      <th>2020-01-03</th>\n",
       "      <td>148.0</td>\n",
       "      <td>-18.0</td>\n",
       "      <td>0.0</td>\n",
       "    </tr>\n",
       "    <tr>\n",
       "      <th>2020-01-04</th>\n",
       "      <td>-89.0</td>\n",
       "      <td>0.0</td>\n",
       "      <td>0.0</td>\n",
       "    </tr>\n",
       "    <tr>\n",
       "      <th>2020-01-05</th>\n",
       "      <td>-108.0</td>\n",
       "      <td>-6.0</td>\n",
       "      <td>0.0</td>\n",
       "    </tr>\n",
       "    <tr>\n",
       "      <th>2020-01-06</th>\n",
       "      <td>-30.0</td>\n",
       "      <td>10.0</td>\n",
       "      <td>0.5</td>\n",
       "    </tr>\n",
       "    <tr>\n",
       "      <th>...</th>\n",
       "      <td>...</td>\n",
       "      <td>...</td>\n",
       "      <td>...</td>\n",
       "    </tr>\n",
       "    <tr>\n",
       "      <th>2020-12-27</th>\n",
       "      <td>88.0</td>\n",
       "      <td>-19.0</td>\n",
       "      <td>3.0</td>\n",
       "    </tr>\n",
       "    <tr>\n",
       "      <th>2020-12-28</th>\n",
       "      <td>-31.0</td>\n",
       "      <td>27.0</td>\n",
       "      <td>-2.0</td>\n",
       "    </tr>\n",
       "    <tr>\n",
       "      <th>2020-12-29</th>\n",
       "      <td>12.0</td>\n",
       "      <td>21.0</td>\n",
       "      <td>3.0</td>\n",
       "    </tr>\n",
       "    <tr>\n",
       "      <th>2020-12-30</th>\n",
       "      <td>-27.0</td>\n",
       "      <td>-16.0</td>\n",
       "      <td>1.0</td>\n",
       "    </tr>\n",
       "    <tr>\n",
       "      <th>2020-12-31</th>\n",
       "      <td>0.0</td>\n",
       "      <td>-2.0</td>\n",
       "      <td>-3.0</td>\n",
       "    </tr>\n",
       "  </tbody>\n",
       "</table>\n",
       "<p>365 rows × 3 columns</p>\n",
       "</div>"
      ],
      "text/plain": [
       "            twitter  google_old  google_new\n",
       "2020-01-02    103.0         1.0         0.5\n",
       "2020-01-03    148.0       -18.0         0.0\n",
       "2020-01-04    -89.0         0.0         0.0\n",
       "2020-01-05   -108.0        -6.0         0.0\n",
       "2020-01-06    -30.0        10.0         0.5\n",
       "...             ...         ...         ...\n",
       "2020-12-27     88.0       -19.0         3.0\n",
       "2020-12-28    -31.0        27.0        -2.0\n",
       "2020-12-29     12.0        21.0         3.0\n",
       "2020-12-30    -27.0       -16.0         1.0\n",
       "2020-12-31      0.0        -2.0        -3.0\n",
       "\n",
       "[365 rows x 3 columns]"
      ]
     },
     "execution_count": 9,
     "metadata": {},
     "output_type": "execute_result"
    }
   ],
   "source": [
    "daily_data = pd.concat([twitter_d_diff, google_d_old_diff, google_d_new_diff], axis=1)\n",
    "daily_data = daily_data.set_axis(['twitter', 'google_old', 'google_new'], axis=1)\n",
    "daily_data"
   ]
  },
  {
   "cell_type": "code",
   "execution_count": 26,
   "metadata": {},
   "outputs": [],
   "source": [
    "import statsmodels.api as sm"
   ]
  },
  {
   "attachments": {},
   "cell_type": "markdown",
   "metadata": {},
   "source": [
    "### Google Old vs. Twitter"
   ]
  },
  {
   "cell_type": "code",
   "execution_count": 27,
   "metadata": {},
   "outputs": [
    {
     "name": "stdout",
     "output_type": "stream",
     "text": [
      "                            OLS Regression Results                            \n",
      "==============================================================================\n",
      "Dep. Variable:                twitter   R-squared:                       0.004\n",
      "Model:                            OLS   Adj. R-squared:                  0.001\n",
      "Method:                 Least Squares   F-statistic:                     1.492\n",
      "Date:                Thu, 25 May 2023   Prob (F-statistic):              0.223\n",
      "Time:                        10:02:24   Log-Likelihood:                -2129.0\n",
      "No. Observations:                 365   AIC:                             4262.\n",
      "Df Residuals:                     363   BIC:                             4270.\n",
      "Df Model:                           1                                         \n",
      "Covariance Type:            nonrobust                                         \n",
      "==============================================================================\n",
      "                 coef    std err          t      P>|t|      [0.025      0.975]\n",
      "------------------------------------------------------------------------------\n",
      "const          0.4051      4.335      0.093      0.926      -8.120       8.930\n",
      "google_old    -0.2653      0.217     -1.221      0.223      -0.692       0.162\n",
      "==============================================================================\n",
      "Omnibus:                       17.880   Durbin-Watson:                   2.476\n",
      "Prob(Omnibus):                  0.000   Jarque-Bera (JB):               46.405\n",
      "Skew:                           0.087   Prob(JB):                     8.38e-11\n",
      "Kurtosis:                       4.738   Cond. No.                         20.0\n",
      "==============================================================================\n",
      "\n",
      "Notes:\n",
      "[1] Standard Errors assume that the covariance matrix of the errors is correctly specified.\n"
     ]
    }
   ],
   "source": [
    "# Define predictor and response variables\n",
    "y = daily_data['twitter']\n",
    "x = daily_data['google_old']\n",
    "\n",
    "# Add constant to predictor variables\n",
    "x = sm.add_constant(x)\n",
    "\n",
    "# Fit linear regression model\n",
    "model = sm.OLS(y, x).fit()\n",
    "\n",
    "# View model summary\n",
    "print(model.summary())"
   ]
  },
  {
   "attachments": {},
   "cell_type": "markdown",
   "metadata": {},
   "source": [
    "changes in Twitter trend = 0.4051 - 0.2653 * (changes in Google old trend)"
   ]
  },
  {
   "attachments": {},
   "cell_type": "markdown",
   "metadata": {},
   "source": [
    "- The coefficient for the \"google_old\" variable is -0.2653. This means that for every unit increase in the \"google_old\" variable, the \"twitter\" variable is expected to decrease by approximately 0.2653 units.\n",
    "- The p-value associated with the coefficient is 0.223. Since this p-value is greater than the commonly used significance level of 0.05, we do not have enough evidence to conclude that there is a statistically significant relationship between the \"google_old\" variable and the \"twitter\" variable.\n",
    "- The R-squared value is 0.004, indicating that only 0.4% of the variation in the \"twitter\" variable can be explained by the \"google_old\" variable. This suggests a very weak relationship between the two variables."
   ]
  },
  {
   "cell_type": "code",
   "execution_count": 28,
   "metadata": {},
   "outputs": [
    {
     "data": {
      "text/plain": [
       "Text(0, 0.5, 'Twitter Trend Changes')"
      ]
     },
     "execution_count": 28,
     "metadata": {},
     "output_type": "execute_result"
    },
    {
     "data": {
      "image/png": "[encoded data removed]",
      "text/plain": [
       "<Figure size 432x288 with 1 Axes>"
      ]
     },
     "metadata": {
      "needs_background": "light"
     },
     "output_type": "display_data"
    }
   ],
   "source": [
    "import matplotlib.pyplot as plt\n",
    "import numpy as np\n",
    "\n",
    "# Find line of best fit\n",
    "a, b = np.polyfit(daily_data['google_old'], daily_data['twitter'], 1)\n",
    "\n",
    "#add points to plot\n",
    "plt.scatter(daily_data['google_old'], daily_data['twitter'], color='purple')\n",
    "\n",
    "#add line of best fit to plot\n",
    "plt.plot(daily_data['google_old'], a*daily_data['google_old']+b)\n",
    "\n",
    "#add fitted regression equation to plot\n",
    "plt.text(1, 90, 'y = ' + '{:.3f}'.format(b) + ' + {:.3f}'.format(a) + 'x', size=12)\n",
    "\n",
    "#add axis labels\n",
    "plt.xlabel('Old Google Trend Changes')\n",
    "plt.ylabel('Twitter Trend Changes')"
   ]
  },
  {
   "cell_type": "code",
   "execution_count": 29,
   "metadata": {},
   "outputs": [
    {
     "name": "stdout",
     "output_type": "stream",
     "text": [
      "                            OLS Regression Results                            \n",
      "==============================================================================\n",
      "Dep. Variable:             google_old   R-squared:                       0.004\n",
      "Model:                            OLS   Adj. R-squared:                  0.001\n",
      "Method:                 Least Squares   F-statistic:                     1.492\n",
      "Date:                Thu, 25 May 2023   Prob (F-statistic):              0.223\n",
      "Time:                        10:12:03   Log-Likelihood:                -1609.8\n",
      "No. Observations:                 365   AIC:                             3224.\n",
      "Df Residuals:                     363   BIC:                             3231.\n",
      "Df Model:                           1                                         \n",
      "Covariance Type:            nonrobust                                         \n",
      "==============================================================================\n",
      "                 coef    std err          t      P>|t|      [0.025      0.975]\n",
      "------------------------------------------------------------------------------\n",
      "const         -0.0156      1.045     -0.015      0.988      -2.071       2.040\n",
      "twitter       -0.0154      0.013     -1.221      0.223      -0.040       0.009\n",
      "==============================================================================\n",
      "Omnibus:                        6.975   Durbin-Watson:                   3.030\n",
      "Prob(Omnibus):                  0.031   Jarque-Bera (JB):               10.814\n",
      "Skew:                           0.024   Prob(JB):                      0.00449\n",
      "Kurtosis:                       3.842   Cond. No.                         82.8\n",
      "==============================================================================\n",
      "\n",
      "Notes:\n",
      "[1] Standard Errors assume that the covariance matrix of the errors is correctly specified.\n"
     ]
    }
   ],
   "source": [
    "x = daily_data['twitter']\n",
    "y = daily_data['google_old']\n",
    "\n",
    "x = sm.add_constant(x)\n",
    "\n",
    "model = sm.OLS(y, x).fit()\n",
    "\n",
    "print(model.summary())"
   ]
  },
  {
   "attachments": {},
   "cell_type": "markdown",
   "metadata": {},
   "source": [
    "- The coefficient for the \"twitter\" variable is -0.0154. This means that for every unit increase in the \"twitter\" variable, the \"google_old\" variable is expected to decrease by approximately 0.0154 units.\n",
    "- The p-value associated with the coefficient is 0.223. Since this p-value is greater than the commonly used significance level of 0.05, we do not have enough evidence to conclude that there is a statistically significant relationship between the \"twitter\" variable and the \"google_old\" variable.\n",
    "- The R-squared value is 0.004, indicating that only 0.4% of the variation in the \"google_old\" variable can be explained by the \"twitter\" variable. This suggests a very weak relationship between the two variables."
   ]
  },
  {
   "cell_type": "code",
   "execution_count": 30,
   "metadata": {},
   "outputs": [
    {
     "data": {
      "text/plain": [
       "Text(0.5, 0, 'Twitter Trend Changes')"
      ]
     },
     "execution_count": 30,
     "metadata": {},
     "output_type": "execute_result"
    },
    {
     "data": {
      "image/png": "[encoded data removed]",
      "text/plain": [
       "<Figure size 432x288 with 1 Axes>"
      ]
     },
     "metadata": {
      "needs_background": "light"
     },
     "output_type": "display_data"
    }
   ],
   "source": [
    "a, b = np.polyfit(daily_data['twitter'], daily_data['google_old'], 1)\n",
    "\n",
    "plt.scatter(daily_data['twitter'], daily_data['google_old'], color='purple')\n",
    "\n",
    "plt.plot(daily_data['twitter'], a*daily_data['twitter']+b)\n",
    "\n",
    "plt.text(1, 90, 'y = ' + '{:.3f}'.format(b) + ' + {:.3f}'.format(a) + 'x', size=12)\n",
    "\n",
    "plt.ylabel('Old Google Trend Changes')\n",
    "plt.xlabel('Twitter Trend Changes')"
   ]
  },
  {
   "attachments": {},
   "cell_type": "markdown",
   "metadata": {},
   "source": [
    "### Google New vs. Twitter"
   ]
  },
  {
   "cell_type": "code",
   "execution_count": 31,
   "metadata": {},
   "outputs": [
    {
     "name": "stdout",
     "output_type": "stream",
     "text": [
      "                            OLS Regression Results                            \n",
      "==============================================================================\n",
      "Dep. Variable:                twitter   R-squared:                       0.001\n",
      "Model:                            OLS   Adj. R-squared:                 -0.002\n",
      "Method:                 Least Squares   F-statistic:                    0.2255\n",
      "Date:                Thu, 25 May 2023   Prob (F-statistic):              0.635\n",
      "Time:                        10:44:46   Log-Likelihood:                -2129.6\n",
      "No. Observations:                 365   AIC:                             4263.\n",
      "Df Residuals:                     363   BIC:                             4271.\n",
      "Df Model:                           1                                         \n",
      "Covariance Type:            nonrobust                                         \n",
      "==============================================================================\n",
      "                 coef    std err          t      P>|t|      [0.025      0.975]\n",
      "------------------------------------------------------------------------------\n",
      "const          0.4030      4.343      0.093      0.926      -8.137       8.943\n",
      "google_new     0.2892      0.609      0.475      0.635      -0.908       1.487\n",
      "==============================================================================\n",
      "Omnibus:                       17.475   Durbin-Watson:                   2.469\n",
      "Prob(Omnibus):                  0.000   Jarque-Bera (JB):               45.577\n",
      "Skew:                           0.056   Prob(JB):                     1.27e-10\n",
      "Kurtosis:                       4.728   Cond. No.                         7.13\n",
      "==============================================================================\n",
      "\n",
      "Notes:\n",
      "[1] Standard Errors assume that the covariance matrix of the errors is correctly specified.\n"
     ]
    }
   ],
   "source": [
    "y = daily_data['twitter']\n",
    "x = daily_data['google_new']\n",
    "\n",
    "x = sm.add_constant(x)\n",
    "\n",
    "model = sm.OLS(y, x).fit()\n",
    "\n",
    "print(model.summary())"
   ]
  },
  {
   "attachments": {},
   "cell_type": "markdown",
   "metadata": {},
   "source": [
    "- The coefficient for the \"google_new\" variable is 0.2892. This means that for every unit increase in the \"google_new\" variable, the \"twitter\" variable is expected to increase by approximately 0.2892 units.\n",
    "- The p-value associated with the coefficient is 0.635. Since this p-value is greater than the commonly used significance level of 0.05, we do not have enough evidence to conclude that there is a statistically significant relationship between the \"google_new\" variable and the \"twitter\" variable.\n",
    "- The R-squared value is 0.001, indicating that only 0.1% of the variation in the \"twitter\" variable can be explained by the \"google_new\" variable. This suggests a very weak relationship between the two variables."
   ]
  },
  {
   "cell_type": "code",
   "execution_count": 32,
   "metadata": {},
   "outputs": [
    {
     "data": {
      "text/plain": [
       "Text(0, 0.5, 'Twitter Trend Changes')"
      ]
     },
     "execution_count": 32,
     "metadata": {},
     "output_type": "execute_result"
    },
    {
     "data": {
      "image/png": "[encoded data removed]",
      "text/plain": [
       "<Figure size 432x288 with 1 Axes>"
      ]
     },
     "metadata": {
      "needs_background": "light"
     },
     "output_type": "display_data"
    }
   ],
   "source": [
    "a, b = np.polyfit(daily_data['google_new'], daily_data['twitter'], 1)\n",
    "\n",
    "plt.scatter(daily_data['google_new'], daily_data['twitter'], color='purple')\n",
    "\n",
    "plt.plot(daily_data['google_new'], a*daily_data['google_new']+b)\n",
    "\n",
    "plt.text(1, 90, 'y = ' + '{:.3f}'.format(b) + ' + {:.3f}'.format(a) + 'x', size=12)\n",
    "\n",
    "plt.xlabel('New Google Trend Changes')\n",
    "plt.ylabel('Twitter Trend Changes')"
   ]
  },
  {
   "cell_type": "code",
   "execution_count": 33,
   "metadata": {},
   "outputs": [
    {
     "name": "stdout",
     "output_type": "stream",
     "text": [
      "                            OLS Regression Results                            \n",
      "==============================================================================\n",
      "Dep. Variable:             google_new   R-squared:                       0.001\n",
      "Model:                            OLS   Adj. R-squared:                 -0.002\n",
      "Method:                 Least Squares   F-statistic:                    0.2255\n",
      "Date:                Thu, 25 May 2023   Prob (F-statistic):              0.635\n",
      "Time:                        10:47:19   Log-Likelihood:                -1234.8\n",
      "No. Observations:                 365   AIC:                             2474.\n",
      "Df Residuals:                     363   BIC:                             2481.\n",
      "Df Model:                           1                                         \n",
      "Covariance Type:            nonrobust                                         \n",
      "==============================================================================\n",
      "                 coef    std err          t      P>|t|      [0.025      0.975]\n",
      "------------------------------------------------------------------------------\n",
      "const          0.0265      0.374      0.071      0.944      -0.709       0.762\n",
      "twitter        0.0021      0.005      0.475      0.635      -0.007       0.011\n",
      "==============================================================================\n",
      "Omnibus:                      408.288   Durbin-Watson:                   2.172\n",
      "Prob(Omnibus):                  0.000   Jarque-Bera (JB):            51717.243\n",
      "Skew:                           4.573   Prob(JB):                         0.00\n",
      "Kurtosis:                      60.593   Cond. No.                         82.8\n",
      "==============================================================================\n",
      "\n",
      "Notes:\n",
      "[1] Standard Errors assume that the covariance matrix of the errors is correctly specified.\n"
     ]
    }
   ],
   "source": [
    "x = daily_data['twitter']\n",
    "y = daily_data['google_new']\n",
    "\n",
    "x = sm.add_constant(x)\n",
    "\n",
    "model = sm.OLS(y, x).fit()\n",
    "\n",
    "print(model.summary())"
   ]
  },
  {
   "attachments": {},
   "cell_type": "markdown",
   "metadata": {},
   "source": [
    "- The coefficient for the \"twitter\" variable is 0.0021. This means that for every unit increase in the \"twitter\" variable, the \"google_new\" variable is expected to increase by approximately 0.0021 units.\n",
    "- The p-value associated with the coefficient is 0.635. Since this p-value is greater than the commonly used significance level of 0.05, we do not have enough evidence to conclude that there is a statistically significant relationship between the \"twitter\" variable and the \"google_new\" variable.\n",
    "- The R-squared value is 0.001, indicating that only 0.1% of the variation in the \"google_new\" variable can be explained by the \"twitter\" variable. This suggests a very weak relationship between the two variables."
   ]
  },
  {
   "cell_type": "code",
   "execution_count": 34,
   "metadata": {},
   "outputs": [
    {
     "data": {
      "text/plain": [
       "Text(0.5, 0, 'Twitter Trend Changes')"
      ]
     },
     "execution_count": 34,
     "metadata": {},
     "output_type": "execute_result"
    },
    {
     "data": {
      "image/png": "[encoded data removed]",
      "text/plain": [
       "<Figure size 432x288 with 1 Axes>"
      ]
     },
     "metadata": {
      "needs_background": "light"
     },
     "output_type": "display_data"
    }
   ],
   "source": [
    "a, b = np.polyfit(daily_data['twitter'], daily_data['google_new'], 1)\n",
    "\n",
    "plt.scatter(daily_data['twitter'], daily_data['google_new'], color='purple')\n",
    "\n",
    "plt.plot(daily_data['twitter'], a*daily_data['twitter']+b)\n",
    "\n",
    "plt.text(1, 90, 'y = ' + '{:.3f}'.format(b) + ' + {:.3f}'.format(a) + 'x', size=12)\n",
    "\n",
    "plt.ylabel('New Google Trend Changes')\n",
    "plt.xlabel('Twitter Trend Changes')"
   ]
  },
  {
   "attachments": {},
   "cell_type": "markdown",
   "metadata": {},
   "source": [
    "## Weekly Time Series Ordinary Least Squares (OLS) Analysis"
   ]
  },
  {
   "cell_type": "code",
   "execution_count": 35,
   "metadata": {},
   "outputs": [
    {
     "data": {
      "text/html": [
       "<div>\n",
       "<style scoped>\n",
       "    .dataframe tbody tr th:only-of-type {\n",
       "        vertical-align: middle;\n",
       "    }\n",
       "\n",
       "    .dataframe tbody tr th {\n",
       "        vertical-align: top;\n",
       "    }\n",
       "\n",
       "    .dataframe thead th {\n",
       "        text-align: right;\n",
       "    }\n",
       "</style>\n",
       "<table border=\"1\" class=\"dataframe\">\n",
       "  <thead>\n",
       "    <tr style=\"text-align: right;\">\n",
       "      <th></th>\n",
       "      <th>twitter</th>\n",
       "      <th>google_old</th>\n",
       "      <th>google_new</th>\n",
       "      <th>crime</th>\n",
       "    </tr>\n",
       "  </thead>\n",
       "  <tbody>\n",
       "    <tr>\n",
       "      <th>2020-01-05</th>\n",
       "      <td>2024.0</td>\n",
       "      <td>47.800000</td>\n",
       "      <td>0.400000</td>\n",
       "      <td>2</td>\n",
       "    </tr>\n",
       "    <tr>\n",
       "      <th>2020-01-12</th>\n",
       "      <td>1997.0</td>\n",
       "      <td>39.857143</td>\n",
       "      <td>0.785714</td>\n",
       "      <td>4</td>\n",
       "    </tr>\n",
       "    <tr>\n",
       "      <th>2020-01-19</th>\n",
       "      <td>1826.0</td>\n",
       "      <td>43.857143</td>\n",
       "      <td>2.642857</td>\n",
       "      <td>3</td>\n",
       "    </tr>\n",
       "    <tr>\n",
       "      <th>2020-01-26</th>\n",
       "      <td>2066.0</td>\n",
       "      <td>52.142857</td>\n",
       "      <td>67.285714</td>\n",
       "      <td>2</td>\n",
       "    </tr>\n",
       "    <tr>\n",
       "      <th>2020-02-02</th>\n",
       "      <td>1846.0</td>\n",
       "      <td>51.714286</td>\n",
       "      <td>53.571429</td>\n",
       "      <td>10</td>\n",
       "    </tr>\n",
       "    <tr>\n",
       "      <th>2020-02-09</th>\n",
       "      <td>1559.0</td>\n",
       "      <td>43.714286</td>\n",
       "      <td>23.428571</td>\n",
       "      <td>3</td>\n",
       "    </tr>\n",
       "    <tr>\n",
       "      <th>2020-02-16</th>\n",
       "      <td>1580.0</td>\n",
       "      <td>39.142857</td>\n",
       "      <td>16.428571</td>\n",
       "      <td>2</td>\n",
       "    </tr>\n",
       "    <tr>\n",
       "      <th>2020-02-23</th>\n",
       "      <td>1767.0</td>\n",
       "      <td>38.714286</td>\n",
       "      <td>11.285714</td>\n",
       "      <td>3</td>\n",
       "    </tr>\n",
       "    <tr>\n",
       "      <th>2020-03-01</th>\n",
       "      <td>1786.0</td>\n",
       "      <td>43.000000</td>\n",
       "      <td>16.428571</td>\n",
       "      <td>4</td>\n",
       "    </tr>\n",
       "    <tr>\n",
       "      <th>2020-03-08</th>\n",
       "      <td>1678.0</td>\n",
       "      <td>50.857143</td>\n",
       "      <td>15.857143</td>\n",
       "      <td>3</td>\n",
       "    </tr>\n",
       "    <tr>\n",
       "      <th>2020-03-15</th>\n",
       "      <td>2322.0</td>\n",
       "      <td>41.428571</td>\n",
       "      <td>30.571429</td>\n",
       "      <td>16</td>\n",
       "    </tr>\n",
       "    <tr>\n",
       "      <th>2020-03-22</th>\n",
       "      <td>3329.0</td>\n",
       "      <td>55.142857</td>\n",
       "      <td>55.428571</td>\n",
       "      <td>14</td>\n",
       "    </tr>\n",
       "    <tr>\n",
       "      <th>2020-03-29</th>\n",
       "      <td>2896.0</td>\n",
       "      <td>55.142857</td>\n",
       "      <td>35.857143</td>\n",
       "      <td>18</td>\n",
       "    </tr>\n",
       "    <tr>\n",
       "      <th>2020-04-05</th>\n",
       "      <td>2510.0</td>\n",
       "      <td>51.285714</td>\n",
       "      <td>19.857143</td>\n",
       "      <td>20</td>\n",
       "    </tr>\n",
       "    <tr>\n",
       "      <th>2020-04-12</th>\n",
       "      <td>2174.0</td>\n",
       "      <td>47.857143</td>\n",
       "      <td>12.857143</td>\n",
       "      <td>7</td>\n",
       "    </tr>\n",
       "    <tr>\n",
       "      <th>2020-04-19</th>\n",
       "      <td>2752.0</td>\n",
       "      <td>48.285714</td>\n",
       "      <td>11.571429</td>\n",
       "      <td>9</td>\n",
       "    </tr>\n",
       "    <tr>\n",
       "      <th>2020-04-26</th>\n",
       "      <td>2672.0</td>\n",
       "      <td>46.285714</td>\n",
       "      <td>6.714286</td>\n",
       "      <td>12</td>\n",
       "    </tr>\n",
       "    <tr>\n",
       "      <th>2020-05-03</th>\n",
       "      <td>2425.0</td>\n",
       "      <td>46.714286</td>\n",
       "      <td>5.142857</td>\n",
       "      <td>11</td>\n",
       "    </tr>\n",
       "    <tr>\n",
       "      <th>2020-05-10</th>\n",
       "      <td>2915.0</td>\n",
       "      <td>45.000000</td>\n",
       "      <td>4.285714</td>\n",
       "      <td>5</td>\n",
       "    </tr>\n",
       "    <tr>\n",
       "      <th>2020-05-17</th>\n",
       "      <td>2432.0</td>\n",
       "      <td>48.857143</td>\n",
       "      <td>3.142857</td>\n",
       "      <td>13</td>\n",
       "    </tr>\n",
       "    <tr>\n",
       "      <th>2020-05-24</th>\n",
       "      <td>2995.0</td>\n",
       "      <td>44.428571</td>\n",
       "      <td>3.285714</td>\n",
       "      <td>13</td>\n",
       "    </tr>\n",
       "    <tr>\n",
       "      <th>2020-05-31</th>\n",
       "      <td>3200.0</td>\n",
       "      <td>53.571429</td>\n",
       "      <td>2.142857</td>\n",
       "      <td>7</td>\n",
       "    </tr>\n",
       "    <tr>\n",
       "      <th>2020-06-07</th>\n",
       "      <td>3477.0</td>\n",
       "      <td>48.571429</td>\n",
       "      <td>1.000000</td>\n",
       "      <td>6</td>\n",
       "    </tr>\n",
       "    <tr>\n",
       "      <th>2020-06-14</th>\n",
       "      <td>3491.0</td>\n",
       "      <td>51.714286</td>\n",
       "      <td>1.000000</td>\n",
       "      <td>6</td>\n",
       "    </tr>\n",
       "    <tr>\n",
       "      <th>2020-06-21</th>\n",
       "      <td>2914.0</td>\n",
       "      <td>51.285714</td>\n",
       "      <td>3.428571</td>\n",
       "      <td>7</td>\n",
       "    </tr>\n",
       "    <tr>\n",
       "      <th>2020-06-28</th>\n",
       "      <td>3096.0</td>\n",
       "      <td>51.428571</td>\n",
       "      <td>5.000000</td>\n",
       "      <td>10</td>\n",
       "    </tr>\n",
       "    <tr>\n",
       "      <th>2020-07-05</th>\n",
       "      <td>2657.0</td>\n",
       "      <td>49.714286</td>\n",
       "      <td>39.714286</td>\n",
       "      <td>13</td>\n",
       "    </tr>\n",
       "    <tr>\n",
       "      <th>2020-07-12</th>\n",
       "      <td>2668.0</td>\n",
       "      <td>55.285714</td>\n",
       "      <td>34.142857</td>\n",
       "      <td>4</td>\n",
       "    </tr>\n",
       "    <tr>\n",
       "      <th>2020-07-19</th>\n",
       "      <td>2586.0</td>\n",
       "      <td>53.714286</td>\n",
       "      <td>24.428571</td>\n",
       "      <td>9</td>\n",
       "    </tr>\n",
       "    <tr>\n",
       "      <th>2020-07-26</th>\n",
       "      <td>2511.0</td>\n",
       "      <td>51.000000</td>\n",
       "      <td>21.714286</td>\n",
       "      <td>5</td>\n",
       "    </tr>\n",
       "    <tr>\n",
       "      <th>2020-08-02</th>\n",
       "      <td>2404.0</td>\n",
       "      <td>63.428571</td>\n",
       "      <td>17.000000</td>\n",
       "      <td>7</td>\n",
       "    </tr>\n",
       "    <tr>\n",
       "      <th>2020-08-09</th>\n",
       "      <td>2587.0</td>\n",
       "      <td>65.285714</td>\n",
       "      <td>19.285714</td>\n",
       "      <td>6</td>\n",
       "    </tr>\n",
       "    <tr>\n",
       "      <th>2020-08-16</th>\n",
       "      <td>2396.0</td>\n",
       "      <td>52.714286</td>\n",
       "      <td>18.142857</td>\n",
       "      <td>6</td>\n",
       "    </tr>\n",
       "    <tr>\n",
       "      <th>2020-08-23</th>\n",
       "      <td>2092.0</td>\n",
       "      <td>52.428571</td>\n",
       "      <td>12.142857</td>\n",
       "      <td>2</td>\n",
       "    </tr>\n",
       "    <tr>\n",
       "      <th>2020-08-30</th>\n",
       "      <td>2723.0</td>\n",
       "      <td>61.714286</td>\n",
       "      <td>12.428571</td>\n",
       "      <td>3</td>\n",
       "    </tr>\n",
       "    <tr>\n",
       "      <th>2020-09-06</th>\n",
       "      <td>2233.0</td>\n",
       "      <td>59.571429</td>\n",
       "      <td>10.142857</td>\n",
       "      <td>7</td>\n",
       "    </tr>\n",
       "    <tr>\n",
       "      <th>2020-09-13</th>\n",
       "      <td>2213.0</td>\n",
       "      <td>57.000000</td>\n",
       "      <td>10.714286</td>\n",
       "      <td>7</td>\n",
       "    </tr>\n",
       "    <tr>\n",
       "      <th>2020-09-20</th>\n",
       "      <td>2157.0</td>\n",
       "      <td>58.142857</td>\n",
       "      <td>18.428571</td>\n",
       "      <td>5</td>\n",
       "    </tr>\n",
       "    <tr>\n",
       "      <th>2020-09-27</th>\n",
       "      <td>2568.0</td>\n",
       "      <td>61.428571</td>\n",
       "      <td>11.428571</td>\n",
       "      <td>8</td>\n",
       "    </tr>\n",
       "    <tr>\n",
       "      <th>2020-10-04</th>\n",
       "      <td>2327.0</td>\n",
       "      <td>42.428571</td>\n",
       "      <td>15.285714</td>\n",
       "      <td>6</td>\n",
       "    </tr>\n",
       "    <tr>\n",
       "      <th>2020-10-11</th>\n",
       "      <td>2329.0</td>\n",
       "      <td>48.285714</td>\n",
       "      <td>14.428571</td>\n",
       "      <td>3</td>\n",
       "    </tr>\n",
       "    <tr>\n",
       "      <th>2020-10-18</th>\n",
       "      <td>2579.0</td>\n",
       "      <td>53.285714</td>\n",
       "      <td>9.000000</td>\n",
       "      <td>6</td>\n",
       "    </tr>\n",
       "    <tr>\n",
       "      <th>2020-10-25</th>\n",
       "      <td>3095.0</td>\n",
       "      <td>56.857143</td>\n",
       "      <td>9.857143</td>\n",
       "      <td>9</td>\n",
       "    </tr>\n",
       "    <tr>\n",
       "      <th>2020-11-01</th>\n",
       "      <td>2728.0</td>\n",
       "      <td>56.857143</td>\n",
       "      <td>9.142857</td>\n",
       "      <td>4</td>\n",
       "    </tr>\n",
       "    <tr>\n",
       "      <th>2020-11-08</th>\n",
       "      <td>3019.0</td>\n",
       "      <td>54.714286</td>\n",
       "      <td>7.428571</td>\n",
       "      <td>5</td>\n",
       "    </tr>\n",
       "    <tr>\n",
       "      <th>2020-11-15</th>\n",
       "      <td>2515.0</td>\n",
       "      <td>57.000000</td>\n",
       "      <td>9.571429</td>\n",
       "      <td>6</td>\n",
       "    </tr>\n",
       "    <tr>\n",
       "      <th>2020-11-22</th>\n",
       "      <td>2580.0</td>\n",
       "      <td>62.285714</td>\n",
       "      <td>11.428571</td>\n",
       "      <td>3</td>\n",
       "    </tr>\n",
       "    <tr>\n",
       "      <th>2020-11-29</th>\n",
       "      <td>2469.0</td>\n",
       "      <td>57.142857</td>\n",
       "      <td>7.428571</td>\n",
       "      <td>3</td>\n",
       "    </tr>\n",
       "    <tr>\n",
       "      <th>2020-12-06</th>\n",
       "      <td>2484.0</td>\n",
       "      <td>51.142857</td>\n",
       "      <td>11.428571</td>\n",
       "      <td>4</td>\n",
       "    </tr>\n",
       "    <tr>\n",
       "      <th>2020-12-13</th>\n",
       "      <td>2589.0</td>\n",
       "      <td>50.428571</td>\n",
       "      <td>11.571429</td>\n",
       "      <td>3</td>\n",
       "    </tr>\n",
       "    <tr>\n",
       "      <th>2020-12-20</th>\n",
       "      <td>2579.0</td>\n",
       "      <td>55.000000</td>\n",
       "      <td>10.000000</td>\n",
       "      <td>8</td>\n",
       "    </tr>\n",
       "    <tr>\n",
       "      <th>2020-12-27</th>\n",
       "      <td>2486.0</td>\n",
       "      <td>44.714286</td>\n",
       "      <td>10.142857</td>\n",
       "      <td>2</td>\n",
       "    </tr>\n",
       "    <tr>\n",
       "      <th>2021-01-03</th>\n",
       "      <td>NaN</td>\n",
       "      <td>55.250000</td>\n",
       "      <td>11.000000</td>\n",
       "      <td>2</td>\n",
       "    </tr>\n",
       "  </tbody>\n",
       "</table>\n",
       "</div>"
      ],
      "text/plain": [
       "            twitter  google_old  google_new  crime\n",
       "2020-01-05   2024.0   47.800000    0.400000      2\n",
       "2020-01-12   1997.0   39.857143    0.785714      4\n",
       "2020-01-19   1826.0   43.857143    2.642857      3\n",
       "2020-01-26   2066.0   52.142857   67.285714      2\n",
       "2020-02-02   1846.0   51.714286   53.571429     10\n",
       "2020-02-09   1559.0   43.714286   23.428571      3\n",
       "2020-02-16   1580.0   39.142857   16.428571      2\n",
       "2020-02-23   1767.0   38.714286   11.285714      3\n",
       "2020-03-01   1786.0   43.000000   16.428571      4\n",
       "2020-03-08   1678.0   50.857143   15.857143      3\n",
       "2020-03-15   2322.0   41.428571   30.571429     16\n",
       "2020-03-22   3329.0   55.142857   55.428571     14\n",
       "2020-03-29   2896.0   55.142857   35.857143     18\n",
       "2020-04-05   2510.0   51.285714   19.857143     20\n",
       "2020-04-12   2174.0   47.857143   12.857143      7\n",
       "2020-04-19   2752.0   48.285714   11.571429      9\n",
       "2020-04-26   2672.0   46.285714    6.714286     12\n",
       "2020-05-03   2425.0   46.714286    5.142857     11\n",
       "2020-05-10   2915.0   45.000000    4.285714      5\n",
       "2020-05-17   2432.0   48.857143    3.142857     13\n",
       "2020-05-24   2995.0   44.428571    3.285714     13\n",
       "2020-05-31   3200.0   53.571429    2.142857      7\n",
       "2020-06-07   3477.0   48.571429    1.000000      6\n",
       "2020-06-14   3491.0   51.714286    1.000000      6\n",
       "2020-06-21   2914.0   51.285714    3.428571      7\n",
       "2020-06-28   3096.0   51.428571    5.000000     10\n",
       "2020-07-05   2657.0   49.714286   39.714286     13\n",
       "2020-07-12   2668.0   55.285714   34.142857      4\n",
       "2020-07-19   2586.0   53.714286   24.428571      9\n",
       "2020-07-26   2511.0   51.000000   21.714286      5\n",
       "2020-08-02   2404.0   63.428571   17.000000      7\n",
       "2020-08-09   2587.0   65.285714   19.285714      6\n",
       "2020-08-16   2396.0   52.714286   18.142857      6\n",
       "2020-08-23   2092.0   52.428571   12.142857      2\n",
       "2020-08-30   2723.0   61.714286   12.428571      3\n",
       "2020-09-06   2233.0   59.571429   10.142857      7\n",
       "2020-09-13   2213.0   57.000000   10.714286      7\n",
       "2020-09-20   2157.0   58.142857   18.428571      5\n",
       "2020-09-27   2568.0   61.428571   11.428571      8\n",
       "2020-10-04   2327.0   42.428571   15.285714      6\n",
       "2020-10-11   2329.0   48.285714   14.428571      3\n",
       "2020-10-18   2579.0   53.285714    9.000000      6\n",
       "2020-10-25   3095.0   56.857143    9.857143      9\n",
       "2020-11-01   2728.0   56.857143    9.142857      4\n",
       "2020-11-08   3019.0   54.714286    7.428571      5\n",
       "2020-11-15   2515.0   57.000000    9.571429      6\n",
       "2020-11-22   2580.0   62.285714   11.428571      3\n",
       "2020-11-29   2469.0   57.142857    7.428571      3\n",
       "2020-12-06   2484.0   51.142857   11.428571      4\n",
       "2020-12-13   2589.0   50.428571   11.571429      3\n",
       "2020-12-20   2579.0   55.000000   10.000000      8\n",
       "2020-12-27   2486.0   44.714286   10.142857      2\n",
       "2021-01-03      NaN   55.250000   11.000000      2"
      ]
     },
     "execution_count": 35,
     "metadata": {},
     "output_type": "execute_result"
    }
   ],
   "source": [
    "weekly_data = pd.concat([twitter_w, google_w_old, google_w_new, crime_w], axis=1)\n",
    "weekly_data = weekly_data.set_axis(['twitter', 'google_old', 'google_new', 'crime'], axis=1)"
   ]
  },
  {
   "cell_type": "code",
   "execution_count": 36,
   "metadata": {},
   "outputs": [],
   "source": [
    "weekly_data = weekly_data.fillna(weekly_data.mean())"
   ]
  },
  {
   "cell_type": "code",
   "execution_count": 37,
   "metadata": {},
   "outputs": [
    {
     "data": {
      "text/html": [
       "<div>\n",
       "<style scoped>\n",
       "    .dataframe tbody tr th:only-of-type {\n",
       "        vertical-align: middle;\n",
       "    }\n",
       "\n",
       "    .dataframe tbody tr th {\n",
       "        vertical-align: top;\n",
       "    }\n",
       "\n",
       "    .dataframe thead th {\n",
       "        text-align: right;\n",
       "    }\n",
       "</style>\n",
       "<table border=\"1\" class=\"dataframe\">\n",
       "  <thead>\n",
       "    <tr style=\"text-align: right;\">\n",
       "      <th></th>\n",
       "      <th>twitter</th>\n",
       "      <th>google_old</th>\n",
       "      <th>google_new</th>\n",
       "      <th>crime</th>\n",
       "    </tr>\n",
       "  </thead>\n",
       "  <tbody>\n",
       "    <tr>\n",
       "      <th>2020-01-05</th>\n",
       "      <td>2024.000000</td>\n",
       "      <td>47.800000</td>\n",
       "      <td>0.400000</td>\n",
       "      <td>2</td>\n",
       "    </tr>\n",
       "    <tr>\n",
       "      <th>2020-01-12</th>\n",
       "      <td>1997.000000</td>\n",
       "      <td>39.857143</td>\n",
       "      <td>0.785714</td>\n",
       "      <td>4</td>\n",
       "    </tr>\n",
       "    <tr>\n",
       "      <th>2020-01-19</th>\n",
       "      <td>1826.000000</td>\n",
       "      <td>43.857143</td>\n",
       "      <td>2.642857</td>\n",
       "      <td>3</td>\n",
       "    </tr>\n",
       "    <tr>\n",
       "      <th>2020-01-26</th>\n",
       "      <td>2066.000000</td>\n",
       "      <td>52.142857</td>\n",
       "      <td>67.285714</td>\n",
       "      <td>2</td>\n",
       "    </tr>\n",
       "    <tr>\n",
       "      <th>2020-02-02</th>\n",
       "      <td>1846.000000</td>\n",
       "      <td>51.714286</td>\n",
       "      <td>53.571429</td>\n",
       "      <td>10</td>\n",
       "    </tr>\n",
       "    <tr>\n",
       "      <th>2020-02-09</th>\n",
       "      <td>1559.000000</td>\n",
       "      <td>43.714286</td>\n",
       "      <td>23.428571</td>\n",
       "      <td>3</td>\n",
       "    </tr>\n",
       "    <tr>\n",
       "      <th>2020-02-16</th>\n",
       "      <td>1580.000000</td>\n",
       "      <td>39.142857</td>\n",
       "      <td>16.428571</td>\n",
       "      <td>2</td>\n",
       "    </tr>\n",
       "    <tr>\n",
       "      <th>2020-02-23</th>\n",
       "      <td>1767.000000</td>\n",
       "      <td>38.714286</td>\n",
       "      <td>11.285714</td>\n",
       "      <td>3</td>\n",
       "    </tr>\n",
       "    <tr>\n",
       "      <th>2020-03-01</th>\n",
       "      <td>1786.000000</td>\n",
       "      <td>43.000000</td>\n",
       "      <td>16.428571</td>\n",
       "      <td>4</td>\n",
       "    </tr>\n",
       "    <tr>\n",
       "      <th>2020-03-08</th>\n",
       "      <td>1678.000000</td>\n",
       "      <td>50.857143</td>\n",
       "      <td>15.857143</td>\n",
       "      <td>3</td>\n",
       "    </tr>\n",
       "    <tr>\n",
       "      <th>2020-03-15</th>\n",
       "      <td>2322.000000</td>\n",
       "      <td>41.428571</td>\n",
       "      <td>30.571429</td>\n",
       "      <td>16</td>\n",
       "    </tr>\n",
       "    <tr>\n",
       "      <th>2020-03-22</th>\n",
       "      <td>3329.000000</td>\n",
       "      <td>55.142857</td>\n",
       "      <td>55.428571</td>\n",
       "      <td>14</td>\n",
       "    </tr>\n",
       "    <tr>\n",
       "      <th>2020-03-29</th>\n",
       "      <td>2896.000000</td>\n",
       "      <td>55.142857</td>\n",
       "      <td>35.857143</td>\n",
       "      <td>18</td>\n",
       "    </tr>\n",
       "    <tr>\n",
       "      <th>2020-04-05</th>\n",
       "      <td>2510.000000</td>\n",
       "      <td>51.285714</td>\n",
       "      <td>19.857143</td>\n",
       "      <td>20</td>\n",
       "    </tr>\n",
       "    <tr>\n",
       "      <th>2020-04-12</th>\n",
       "      <td>2174.000000</td>\n",
       "      <td>47.857143</td>\n",
       "      <td>12.857143</td>\n",
       "      <td>7</td>\n",
       "    </tr>\n",
       "    <tr>\n",
       "      <th>2020-04-19</th>\n",
       "      <td>2752.000000</td>\n",
       "      <td>48.285714</td>\n",
       "      <td>11.571429</td>\n",
       "      <td>9</td>\n",
       "    </tr>\n",
       "    <tr>\n",
       "      <th>2020-04-26</th>\n",
       "      <td>2672.000000</td>\n",
       "      <td>46.285714</td>\n",
       "      <td>6.714286</td>\n",
       "      <td>12</td>\n",
       "    </tr>\n",
       "    <tr>\n",
       "      <th>2020-05-03</th>\n",
       "      <td>2425.000000</td>\n",
       "      <td>46.714286</td>\n",
       "      <td>5.142857</td>\n",
       "      <td>11</td>\n",
       "    </tr>\n",
       "    <tr>\n",
       "      <th>2020-05-10</th>\n",
       "      <td>2915.000000</td>\n",
       "      <td>45.000000</td>\n",
       "      <td>4.285714</td>\n",
       "      <td>5</td>\n",
       "    </tr>\n",
       "    <tr>\n",
       "      <th>2020-05-17</th>\n",
       "      <td>2432.000000</td>\n",
       "      <td>48.857143</td>\n",
       "      <td>3.142857</td>\n",
       "      <td>13</td>\n",
       "    </tr>\n",
       "    <tr>\n",
       "      <th>2020-05-24</th>\n",
       "      <td>2995.000000</td>\n",
       "      <td>44.428571</td>\n",
       "      <td>3.285714</td>\n",
       "      <td>13</td>\n",
       "    </tr>\n",
       "    <tr>\n",
       "      <th>2020-05-31</th>\n",
       "      <td>3200.000000</td>\n",
       "      <td>53.571429</td>\n",
       "      <td>2.142857</td>\n",
       "      <td>7</td>\n",
       "    </tr>\n",
       "    <tr>\n",
       "      <th>2020-06-07</th>\n",
       "      <td>3477.000000</td>\n",
       "      <td>48.571429</td>\n",
       "      <td>1.000000</td>\n",
       "      <td>6</td>\n",
       "    </tr>\n",
       "    <tr>\n",
       "      <th>2020-06-14</th>\n",
       "      <td>3491.000000</td>\n",
       "      <td>51.714286</td>\n",
       "      <td>1.000000</td>\n",
       "      <td>6</td>\n",
       "    </tr>\n",
       "    <tr>\n",
       "      <th>2020-06-21</th>\n",
       "      <td>2914.000000</td>\n",
       "      <td>51.285714</td>\n",
       "      <td>3.428571</td>\n",
       "      <td>7</td>\n",
       "    </tr>\n",
       "    <tr>\n",
       "      <th>2020-06-28</th>\n",
       "      <td>3096.000000</td>\n",
       "      <td>51.428571</td>\n",
       "      <td>5.000000</td>\n",
       "      <td>10</td>\n",
       "    </tr>\n",
       "    <tr>\n",
       "      <th>2020-07-05</th>\n",
       "      <td>2657.000000</td>\n",
       "      <td>49.714286</td>\n",
       "      <td>39.714286</td>\n",
       "      <td>13</td>\n",
       "    </tr>\n",
       "    <tr>\n",
       "      <th>2020-07-12</th>\n",
       "      <td>2668.000000</td>\n",
       "      <td>55.285714</td>\n",
       "      <td>34.142857</td>\n",
       "      <td>4</td>\n",
       "    </tr>\n",
       "    <tr>\n",
       "      <th>2020-07-19</th>\n",
       "      <td>2586.000000</td>\n",
       "      <td>53.714286</td>\n",
       "      <td>24.428571</td>\n",
       "      <td>9</td>\n",
       "    </tr>\n",
       "    <tr>\n",
       "      <th>2020-07-26</th>\n",
       "      <td>2511.000000</td>\n",
       "      <td>51.000000</td>\n",
       "      <td>21.714286</td>\n",
       "      <td>5</td>\n",
       "    </tr>\n",
       "    <tr>\n",
       "      <th>2020-08-02</th>\n",
       "      <td>2404.000000</td>\n",
       "      <td>63.428571</td>\n",
       "      <td>17.000000</td>\n",
       "      <td>7</td>\n",
       "    </tr>\n",
       "    <tr>\n",
       "      <th>2020-08-09</th>\n",
       "      <td>2587.000000</td>\n",
       "      <td>65.285714</td>\n",
       "      <td>19.285714</td>\n",
       "      <td>6</td>\n",
       "    </tr>\n",
       "    <tr>\n",
       "      <th>2020-08-16</th>\n",
       "      <td>2396.000000</td>\n",
       "      <td>52.714286</td>\n",
       "      <td>18.142857</td>\n",
       "      <td>6</td>\n",
       "    </tr>\n",
       "    <tr>\n",
       "      <th>2020-08-23</th>\n",
       "      <td>2092.000000</td>\n",
       "      <td>52.428571</td>\n",
       "      <td>12.142857</td>\n",
       "      <td>2</td>\n",
       "    </tr>\n",
       "    <tr>\n",
       "      <th>2020-08-30</th>\n",
       "      <td>2723.000000</td>\n",
       "      <td>61.714286</td>\n",
       "      <td>12.428571</td>\n",
       "      <td>3</td>\n",
       "    </tr>\n",
       "    <tr>\n",
       "      <th>2020-09-06</th>\n",
       "      <td>2233.000000</td>\n",
       "      <td>59.571429</td>\n",
       "      <td>10.142857</td>\n",
       "      <td>7</td>\n",
       "    </tr>\n",
       "    <tr>\n",
       "      <th>2020-09-13</th>\n",
       "      <td>2213.000000</td>\n",
       "      <td>57.000000</td>\n",
       "      <td>10.714286</td>\n",
       "      <td>7</td>\n",
       "    </tr>\n",
       "    <tr>\n",
       "      <th>2020-09-20</th>\n",
       "      <td>2157.000000</td>\n",
       "      <td>58.142857</td>\n",
       "      <td>18.428571</td>\n",
       "      <td>5</td>\n",
       "    </tr>\n",
       "    <tr>\n",
       "      <th>2020-09-27</th>\n",
       "      <td>2568.000000</td>\n",
       "      <td>61.428571</td>\n",
       "      <td>11.428571</td>\n",
       "      <td>8</td>\n",
       "    </tr>\n",
       "    <tr>\n",
       "      <th>2020-10-04</th>\n",
       "      <td>2327.000000</td>\n",
       "      <td>42.428571</td>\n",
       "      <td>15.285714</td>\n",
       "      <td>6</td>\n",
       "    </tr>\n",
       "    <tr>\n",
       "      <th>2020-10-11</th>\n",
       "      <td>2329.000000</td>\n",
       "      <td>48.285714</td>\n",
       "      <td>14.428571</td>\n",
       "      <td>3</td>\n",
       "    </tr>\n",
       "    <tr>\n",
       "      <th>2020-10-18</th>\n",
       "      <td>2579.000000</td>\n",
       "      <td>53.285714</td>\n",
       "      <td>9.000000</td>\n",
       "      <td>6</td>\n",
       "    </tr>\n",
       "    <tr>\n",
       "      <th>2020-10-25</th>\n",
       "      <td>3095.000000</td>\n",
       "      <td>56.857143</td>\n",
       "      <td>9.857143</td>\n",
       "      <td>9</td>\n",
       "    </tr>\n",
       "    <tr>\n",
       "      <th>2020-11-01</th>\n",
       "      <td>2728.000000</td>\n",
       "      <td>56.857143</td>\n",
       "      <td>9.142857</td>\n",
       "      <td>4</td>\n",
       "    </tr>\n",
       "    <tr>\n",
       "      <th>2020-11-08</th>\n",
       "      <td>3019.000000</td>\n",
       "      <td>54.714286</td>\n",
       "      <td>7.428571</td>\n",
       "      <td>5</td>\n",
       "    </tr>\n",
       "    <tr>\n",
       "      <th>2020-11-15</th>\n",
       "      <td>2515.000000</td>\n",
       "      <td>57.000000</td>\n",
       "      <td>9.571429</td>\n",
       "      <td>6</td>\n",
       "    </tr>\n",
       "    <tr>\n",
       "      <th>2020-11-22</th>\n",
       "      <td>2580.000000</td>\n",
       "      <td>62.285714</td>\n",
       "      <td>11.428571</td>\n",
       "      <td>3</td>\n",
       "    </tr>\n",
       "    <tr>\n",
       "      <th>2020-11-29</th>\n",
       "      <td>2469.000000</td>\n",
       "      <td>57.142857</td>\n",
       "      <td>7.428571</td>\n",
       "      <td>3</td>\n",
       "    </tr>\n",
       "    <tr>\n",
       "      <th>2020-12-06</th>\n",
       "      <td>2484.000000</td>\n",
       "      <td>51.142857</td>\n",
       "      <td>11.428571</td>\n",
       "      <td>4</td>\n",
       "    </tr>\n",
       "    <tr>\n",
       "      <th>2020-12-13</th>\n",
       "      <td>2589.000000</td>\n",
       "      <td>50.428571</td>\n",
       "      <td>11.571429</td>\n",
       "      <td>3</td>\n",
       "    </tr>\n",
       "    <tr>\n",
       "      <th>2020-12-20</th>\n",
       "      <td>2579.000000</td>\n",
       "      <td>55.000000</td>\n",
       "      <td>10.000000</td>\n",
       "      <td>8</td>\n",
       "    </tr>\n",
       "    <tr>\n",
       "      <th>2020-12-27</th>\n",
       "      <td>2486.000000</td>\n",
       "      <td>44.714286</td>\n",
       "      <td>10.142857</td>\n",
       "      <td>2</td>\n",
       "    </tr>\n",
       "    <tr>\n",
       "      <th>2021-01-03</th>\n",
       "      <td>2486.596154</td>\n",
       "      <td>55.250000</td>\n",
       "      <td>11.000000</td>\n",
       "      <td>2</td>\n",
       "    </tr>\n",
       "  </tbody>\n",
       "</table>\n",
       "</div>"
      ],
      "text/plain": [
       "                twitter  google_old  google_new  crime\n",
       "2020-01-05  2024.000000   47.800000    0.400000      2\n",
       "2020-01-12  1997.000000   39.857143    0.785714      4\n",
       "2020-01-19  1826.000000   43.857143    2.642857      3\n",
       "2020-01-26  2066.000000   52.142857   67.285714      2\n",
       "2020-02-02  1846.000000   51.714286   53.571429     10\n",
       "2020-02-09  1559.000000   43.714286   23.428571      3\n",
       "2020-02-16  1580.000000   39.142857   16.428571      2\n",
       "2020-02-23  1767.000000   38.714286   11.285714      3\n",
       "2020-03-01  1786.000000   43.000000   16.428571      4\n",
       "2020-03-08  1678.000000   50.857143   15.857143      3\n",
       "2020-03-15  2322.000000   41.428571   30.571429     16\n",
       "2020-03-22  3329.000000   55.142857   55.428571     14\n",
       "2020-03-29  2896.000000   55.142857   35.857143     18\n",
       "2020-04-05  2510.000000   51.285714   19.857143     20\n",
       "2020-04-12  2174.000000   47.857143   12.857143      7\n",
       "2020-04-19  2752.000000   48.285714   11.571429      9\n",
       "2020-04-26  2672.000000   46.285714    6.714286     12\n",
       "2020-05-03  2425.000000   46.714286    5.142857     11\n",
       "2020-05-10  2915.000000   45.000000    4.285714      5\n",
       "2020-05-17  2432.000000   48.857143    3.142857     13\n",
       "2020-05-24  2995.000000   44.428571    3.285714     13\n",
       "2020-05-31  3200.000000   53.571429    2.142857      7\n",
       "2020-06-07  3477.000000   48.571429    1.000000      6\n",
       "2020-06-14  3491.000000   51.714286    1.000000      6\n",
       "2020-06-21  2914.000000   51.285714    3.428571      7\n",
       "2020-06-28  3096.000000   51.428571    5.000000     10\n",
       "2020-07-05  2657.000000   49.714286   39.714286     13\n",
       "2020-07-12  2668.000000   55.285714   34.142857      4\n",
       "2020-07-19  2586.000000   53.714286   24.428571      9\n",
       "2020-07-26  2511.000000   51.000000   21.714286      5\n",
       "2020-08-02  2404.000000   63.428571   17.000000      7\n",
       "2020-08-09  2587.000000   65.285714   19.285714      6\n",
       "2020-08-16  2396.000000   52.714286   18.142857      6\n",
       "2020-08-23  2092.000000   52.428571   12.142857      2\n",
       "2020-08-30  2723.000000   61.714286   12.428571      3\n",
       "2020-09-06  2233.000000   59.571429   10.142857      7\n",
       "2020-09-13  2213.000000   57.000000   10.714286      7\n",
       "2020-09-20  2157.000000   58.142857   18.428571      5\n",
       "2020-09-27  2568.000000   61.428571   11.428571      8\n",
       "2020-10-04  2327.000000   42.428571   15.285714      6\n",
       "2020-10-11  2329.000000   48.285714   14.428571      3\n",
       "2020-10-18  2579.000000   53.285714    9.000000      6\n",
       "2020-10-25  3095.000000   56.857143    9.857143      9\n",
       "2020-11-01  2728.000000   56.857143    9.142857      4\n",
       "2020-11-08  3019.000000   54.714286    7.428571      5\n",
       "2020-11-15  2515.000000   57.000000    9.571429      6\n",
       "2020-11-22  2580.000000   62.285714   11.428571      3\n",
       "2020-11-29  2469.000000   57.142857    7.428571      3\n",
       "2020-12-06  2484.000000   51.142857   11.428571      4\n",
       "2020-12-13  2589.000000   50.428571   11.571429      3\n",
       "2020-12-20  2579.000000   55.000000   10.000000      8\n",
       "2020-12-27  2486.000000   44.714286   10.142857      2\n",
       "2021-01-03  2486.596154   55.250000   11.000000      2"
      ]
     },
     "execution_count": 37,
     "metadata": {},
     "output_type": "execute_result"
    }
   ],
   "source": [
    "weekly_data"
   ]
  },
  {
   "attachments": {},
   "cell_type": "markdown",
   "metadata": {},
   "source": [
    "### Twitter vs. Crime"
   ]
  },
  {
   "cell_type": "code",
   "execution_count": 38,
   "metadata": {},
   "outputs": [
    {
     "name": "stdout",
     "output_type": "stream",
     "text": [
      "                            OLS Regression Results                            \n",
      "==============================================================================\n",
      "Dep. Variable:                  crime   R-squared:                       0.133\n",
      "Model:                            OLS   Adj. R-squared:                  0.116\n",
      "Method:                 Least Squares   F-statistic:                     7.809\n",
      "Date:                Thu, 25 May 2023   Prob (F-statistic):            0.00731\n",
      "Time:                        10:52:36   Log-Likelihood:                -148.15\n",
      "No. Observations:                  53   AIC:                             300.3\n",
      "Df Residuals:                      51   BIC:                             304.3\n",
      "Df Model:                           1                                         \n",
      "Covariance Type:            nonrobust                                         \n",
      "==============================================================================\n",
      "                 coef    std err          t      P>|t|      [0.025      0.975]\n",
      "------------------------------------------------------------------------------\n",
      "const         -1.8228      3.106     -0.587      0.560      -8.058       4.412\n",
      "twitter        0.0034      0.001      2.795      0.007       0.001       0.006\n",
      "==============================================================================\n",
      "Omnibus:                       16.756   Durbin-Watson:                   1.191\n",
      "Prob(Omnibus):                  0.000   Jarque-Bera (JB):               19.638\n",
      "Skew:                           1.292   Prob(JB):                     5.44e-05\n",
      "Kurtosis:                       4.487   Cond. No.                     1.42e+04\n",
      "==============================================================================\n",
      "\n",
      "Notes:\n",
      "[1] Standard Errors assume that the covariance matrix of the errors is correctly specified.\n",
      "[2] The condition number is large, 1.42e+04. This might indicate that there are\n",
      "strong multicollinearity or other numerical problems.\n"
     ]
    }
   ],
   "source": [
    "x = weekly_data['twitter']\n",
    "y = weekly_data['crime']\n",
    "\n",
    "x = sm.add_constant(x)\n",
    "\n",
    "model = sm.OLS(y, x).fit()\n",
    "\n",
    "print(model.summary())"
   ]
  },
  {
   "attachments": {},
   "cell_type": "markdown",
   "metadata": {},
   "source": [
    "- The coefficient for the \"twitter\" variable is 0.0034. This means that for every unit increase in the \"twitter\" variable, the \"crime\" variable is expected to increase by approximately 0.0034 units.\n",
    "- The p-value associated with the coefficient is 0.007, which is less than the commonly used significance level of 0.05. This indicates that there is a statistically significant relationship between the \"twitter\" variable and the \"crime\" variable.\n",
    "- The R-squared value is 0.133, suggesting that approximately 13.3% of the variation in the \"crime\" variable can be explained by the \"twitter\" variable. This indicates a moderate level of association between the two variables.\n",
    "- The F-statistic and its associated p-value (0.00731) provide information about the overall significance of the regression model. In this case, since the p-value is less than 0.05, we can conclude that the regression model is statistically significant, indicating that the \"twitter\" variable is a useful predictor of the \"crime\" variable."
   ]
  },
  {
   "cell_type": "code",
   "execution_count": 71,
   "metadata": {},
   "outputs": [
    {
     "data": {
      "text/plain": [
       "Text(0.5, 0, 'Weekly Twitter Changes')"
      ]
     },
     "execution_count": 71,
     "metadata": {},
     "output_type": "execute_result"
    },
    {
     "data": {
      "image/png": "[encoded data removed]",
      "text/plain": [
       "<Figure size 432x288 with 1 Axes>"
      ]
     },
     "metadata": {
      "needs_background": "light"
     },
     "output_type": "display_data"
    }
   ],
   "source": [
    "a, b = np.polyfit(weekly_data['twitter'], weekly_data['crime'], 1)\n",
    "\n",
    "plt.scatter(weekly_data['twitter'], weekly_data['crime'], color='purple')\n",
    "\n",
    "plt.plot(weekly_data['twitter'], a*weekly_data['twitter']+b)\n",
    "\n",
    "plt.text(0.5, 20, 'y = ' + '{:.3f}'.format(b) + ' + {:.3f}'.format(a) + 'x', size=12)\n",
    "\n",
    "plt.ylabel('Weekly Hate Crime Changes')\n",
    "plt.xlabel('Weekly Twitter Changes')"
   ]
  },
  {
   "cell_type": "code",
   "execution_count": 45,
   "metadata": {},
   "outputs": [
    {
     "name": "stdout",
     "output_type": "stream",
     "text": [
      "                            OLS Regression Results                            \n",
      "==============================================================================\n",
      "Dep. Variable:                twitter   R-squared:                       0.133\n",
      "Model:                            OLS   Adj. R-squared:                  0.116\n",
      "Method:                 Least Squares   F-statistic:                     7.809\n",
      "Date:                Thu, 25 May 2023   Prob (F-statistic):            0.00731\n",
      "Time:                        11:01:40   Log-Likelihood:                -395.37\n",
      "No. Observations:                  53   AIC:                             794.7\n",
      "Df Residuals:                      51   BIC:                             798.7\n",
      "Df Model:                           1                                         \n",
      "Covariance Type:            nonrobust                                         \n",
      "==============================================================================\n",
      "                 coef    std err          t      P>|t|      [0.025      0.975]\n",
      "------------------------------------------------------------------------------\n",
      "const       2226.8791    110.003     20.244      0.000    2006.039    2447.719\n",
      "crime         38.6657     13.836      2.795      0.007      10.888      66.443\n",
      "==============================================================================\n",
      "Omnibus:                        0.549   Durbin-Watson:                   0.740\n",
      "Prob(Omnibus):                  0.760   Jarque-Bera (JB):                0.519\n",
      "Skew:                           0.225   Prob(JB):                        0.772\n",
      "Kurtosis:                       2.820   Cond. No.                         15.0\n",
      "==============================================================================\n",
      "\n",
      "Notes:\n",
      "[1] Standard Errors assume that the covariance matrix of the errors is correctly specified.\n"
     ]
    }
   ],
   "source": [
    "y = weekly_data['twitter']\n",
    "x = weekly_data['crime']\n",
    "\n",
    "x = sm.add_constant(x)\n",
    "\n",
    "model = sm.OLS(y, x).fit()\n",
    "\n",
    "print(model.summary())"
   ]
  },
  {
   "attachments": {},
   "cell_type": "markdown",
   "metadata": {},
   "source": [
    "- The coefficient for the \"crime\" variable is 38.6657. This means that for every unit increase in the \"crime\" variable, the \"twitter\" variable is expected to increase by approximately 38.6657 units.\n",
    "- The p-value associated with the coefficient is 0.007, which is less than the commonly used significance level of 0.05. This indicates that there is a statistically significant relationship between the \"crime\" variable and the \"twitter\" variable.\n",
    "- The R-squared value is 0.133, suggesting that approximately 13.3% of the variation in the \"twitter\" variable can be explained by the \"crime\" variable. This indicates a moderate level of association between the two variables.\n",
    "- The F-statistic and its associated p-value (0.00731) provide information about the overall significance of the regression model. In this case, since the p-value is less than 0.05, we can conclude that the regression model is statistically significant, indicating that the \"crime\" variable is a useful predictor of the \"twitter\" variable."
   ]
  },
  {
   "cell_type": "code",
   "execution_count": 72,
   "metadata": {},
   "outputs": [
    {
     "data": {
      "text/plain": [
       "Text(0.5, 0, 'Weekly Hate Crime Changes')"
      ]
     },
     "execution_count": 72,
     "metadata": {},
     "output_type": "execute_result"
    },
    {
     "data": {
      "image/png": "[encoded data removed]",
      "text/plain": [
       "<Figure size 432x288 with 1 Axes>"
      ]
     },
     "metadata": {
      "needs_background": "light"
     },
     "output_type": "display_data"
    }
   ],
   "source": [
    "a, b = np.polyfit(weekly_data['crime'], weekly_data['twitter'], 1)\n",
    "\n",
    "plt.scatter(weekly_data['crime'], weekly_data['twitter'], color='purple')\n",
    "\n",
    "plt.plot(weekly_data['crime'], a*weekly_data['crime']+b)\n",
    "\n",
    "plt.text(0.5, 20, 'y = ' + '{:.3f}'.format(b) + ' + {:.3f}'.format(a) + 'x', size=12)\n",
    "\n",
    "plt.ylabel('Weekly Twitter Changes')\n",
    "plt.xlabel('Weekly Hate Crime Changes')"
   ]
  },
  {
   "attachments": {},
   "cell_type": "markdown",
   "metadata": {},
   "source": [
    "### Google Old vs. Crime"
   ]
  },
  {
   "cell_type": "code",
   "execution_count": 52,
   "metadata": {},
   "outputs": [
    {
     "name": "stdout",
     "output_type": "stream",
     "text": [
      "                            OLS Regression Results                            \n",
      "==============================================================================\n",
      "Dep. Variable:                  crime   R-squared:                       0.000\n",
      "Model:                            OLS   Adj. R-squared:                 -0.020\n",
      "Method:                 Least Squares   F-statistic:                  0.002856\n",
      "Date:                Thu, 25 May 2023   Prob (F-statistic):              0.958\n",
      "Time:                        11:06:47   Log-Likelihood:                -151.93\n",
      "No. Observations:                  53   AIC:                             307.9\n",
      "Df Residuals:                      51   BIC:                             311.8\n",
      "Df Model:                           1                                         \n",
      "Covariance Type:            nonrobust                                         \n",
      "==============================================================================\n",
      "                 coef    std err          t      P>|t|      [0.025      0.975]\n",
      "------------------------------------------------------------------------------\n",
      "const          6.4562      4.916      1.313      0.195      -3.413      16.325\n",
      "google_old     0.0051      0.095      0.053      0.958      -0.185       0.196\n",
      "==============================================================================\n",
      "Omnibus:                       13.670   Durbin-Watson:                   0.999\n",
      "Prob(Omnibus):                  0.001   Jarque-Bera (JB):               14.565\n",
      "Skew:                           1.190   Prob(JB):                     0.000687\n",
      "Kurtosis:                       3.964   Cond. No.                         428.\n",
      "==============================================================================\n",
      "\n",
      "Notes:\n",
      "[1] Standard Errors assume that the covariance matrix of the errors is correctly specified.\n"
     ]
    }
   ],
   "source": [
    "x = weekly_data['google_old']\n",
    "y = weekly_data['crime']\n",
    "\n",
    "x = sm.add_constant(x)\n",
    "\n",
    "model = sm.OLS(y, x).fit()\n",
    "\n",
    "print(model.summary())"
   ]
  },
  {
   "attachments": {},
   "cell_type": "markdown",
   "metadata": {},
   "source": [
    "- The coefficient for the \"google_old\" variable is 0.0051. This means that for every unit increase in the \"google_old\" variable, the \"crime\" variable is expected to increase by approximately 0.0051 units.\n",
    "- The p-value associated with the coefficient is 0.958, which is greater than the commonly used significance level of 0.05. This indicates that there is no statistically significant relationship between the \"google_old\" variable and the \"crime\" variable.\n",
    "- The R-squared value is 0.000, suggesting that the \"google_old\" variable explains very little (close to zero) of the variation in the \"crime\" variable. This indicates that there is essentially no association between the two variables."
   ]
  },
  {
   "cell_type": "code",
   "execution_count": 67,
   "metadata": {},
   "outputs": [
    {
     "data": {
      "text/plain": [
       "Text(0, 0.5, 'Weekly Hate Crime Changes')"
      ]
     },
     "execution_count": 67,
     "metadata": {},
     "output_type": "execute_result"
    },
    {
     "data": {
      "image/png": "[encoded data removed]",
      "text/plain": [
       "<Figure size 432x288 with 1 Axes>"
      ]
     },
     "metadata": {
      "needs_background": "light"
     },
     "output_type": "display_data"
    }
   ],
   "source": [
    "a, b = np.polyfit(weekly_data['google_old'], weekly_data['crime'], 1)\n",
    "\n",
    "plt.scatter(weekly_data['google_old'], weekly_data['crime'], color='purple')\n",
    "\n",
    "plt.plot(weekly_data['google_old'], a*weekly_data['google_old']+b)\n",
    "\n",
    "plt.text(5, 20, 'y = ' + '{:.3f}'.format(b) + ' + {:.3f}'.format(a) + 'x', size=12)\n",
    "\n",
    "plt.xlabel('Weekly Google Old Changes')\n",
    "plt.ylabel('Weekly Hate Crime Changes')"
   ]
  },
  {
   "cell_type": "code",
   "execution_count": 56,
   "metadata": {},
   "outputs": [
    {
     "name": "stdout",
     "output_type": "stream",
     "text": [
      "                            OLS Regression Results                            \n",
      "==============================================================================\n",
      "Dep. Variable:             google_old   R-squared:                       0.000\n",
      "Model:                            OLS   Adj. R-squared:                 -0.020\n",
      "Method:                 Least Squares   F-statistic:                  0.002856\n",
      "Date:                Thu, 25 May 2023   Prob (F-statistic):              0.958\n",
      "Time:                        11:10:59   Log-Likelihood:                -172.53\n",
      "No. Observations:                  53   AIC:                             349.1\n",
      "Df Residuals:                      51   BIC:                             353.0\n",
      "Df Model:                           1                                         \n",
      "Covariance Type:            nonrobust                                         \n",
      "==============================================================================\n",
      "                 coef    std err          t      P>|t|      [0.025      0.975]\n",
      "------------------------------------------------------------------------------\n",
      "const         51.3338      1.642     31.259      0.000      48.037      54.631\n",
      "crime          0.0110      0.207      0.053      0.958      -0.404       0.426\n",
      "==============================================================================\n",
      "Omnibus:                        0.299   Durbin-Watson:                   0.967\n",
      "Prob(Omnibus):                  0.861   Jarque-Bera (JB):                0.482\n",
      "Skew:                          -0.004   Prob(JB):                        0.786\n",
      "Kurtosis:                       2.533   Cond. No.                         15.0\n",
      "==============================================================================\n",
      "\n",
      "Notes:\n",
      "[1] Standard Errors assume that the covariance matrix of the errors is correctly specified.\n"
     ]
    }
   ],
   "source": [
    "y = weekly_data['google_old']\n",
    "x = weekly_data['crime']\n",
    "\n",
    "x = sm.add_constant(x)\n",
    "\n",
    "model = sm.OLS(y, x).fit()\n",
    "\n",
    "print(model.summary())"
   ]
  },
  {
   "attachments": {},
   "cell_type": "markdown",
   "metadata": {},
   "source": [
    "- The coefficient for the \"crime\" variable is 0.0110. This means that for every unit increase in the \"crime\" variable, the \"google_old\" variable is expected to increase by approximately 0.0110 units.\n",
    "- The p-value associated with the coefficient is 0.958, which is greater than the commonly used significance level of 0.05. This indicates that there is no statistically significant relationship between the \"crime\" variable and the \"google_old\" variable.\n",
    "- The R-squared value is 0.000, suggesting that the \"crime\" variable explains very little (close to zero) of the variation in the \"google_old\" variable. This indicates that there is essentially no association between the two variables."
   ]
  },
  {
   "cell_type": "code",
   "execution_count": 65,
   "metadata": {},
   "outputs": [
    {
     "data": {
      "text/plain": [
       "Text(0.5, 0, 'Weekly Hate Crime Changes')"
      ]
     },
     "execution_count": 65,
     "metadata": {},
     "output_type": "execute_result"
    },
    {
     "data": {
      "image/png": "[encoded data removed]",
      "text/plain": [
       "<Figure size 432x288 with 1 Axes>"
      ]
     },
     "metadata": {
      "needs_background": "light"
     },
     "output_type": "display_data"
    }
   ],
   "source": [
    "a, b = np.polyfit(weekly_data['crime'], weekly_data['google_old'], 1)\n",
    "\n",
    "plt.scatter(weekly_data['crime'], weekly_data['google_old'], color='purple')\n",
    "\n",
    "plt.plot(weekly_data['crime'], a*weekly_data['crime']+b)\n",
    "\n",
    "plt.text(0.5, 30, 'y = ' + '{:.3f}'.format(b) + ' + {:.3f}'.format(a) + 'x', size=12)\n",
    "\n",
    "plt.ylabel('Weekly Google Old Changes')\n",
    "plt.xlabel('Weekly Hate Crime Changes')"
   ]
  },
  {
   "attachments": {},
   "cell_type": "markdown",
   "metadata": {},
   "source": [
    "### Google New vs. Crime"
   ]
  },
  {
   "cell_type": "code",
   "execution_count": 58,
   "metadata": {},
   "outputs": [
    {
     "name": "stdout",
     "output_type": "stream",
     "text": [
      "                            OLS Regression Results                            \n",
      "==============================================================================\n",
      "Dep. Variable:                  crime   R-squared:                       0.057\n",
      "Model:                            OLS   Adj. R-squared:                  0.038\n",
      "Method:                 Least Squares   F-statistic:                     3.061\n",
      "Date:                Thu, 25 May 2023   Prob (F-statistic):             0.0862\n",
      "Time:                        11:14:32   Log-Likelihood:                -150.39\n",
      "No. Observations:                  53   AIC:                             304.8\n",
      "Df Residuals:                      51   BIC:                             308.7\n",
      "Df Model:                           1                                         \n",
      "Covariance Type:            nonrobust                                         \n",
      "==============================================================================\n",
      "                 coef    std err          t      P>|t|      [0.025      0.975]\n",
      "------------------------------------------------------------------------------\n",
      "const          5.6035      0.860      6.515      0.000       3.877       7.330\n",
      "google_new     0.0731      0.042      1.750      0.086      -0.011       0.157\n",
      "==============================================================================\n",
      "Omnibus:                        9.490   Durbin-Watson:                   1.074\n",
      "Prob(Omnibus):                  0.009   Jarque-Bera (JB):                8.883\n",
      "Skew:                           0.916   Prob(JB):                       0.0118\n",
      "Kurtosis:                       3.818   Cond. No.                         30.6\n",
      "==============================================================================\n",
      "\n",
      "Notes:\n",
      "[1] Standard Errors assume that the covariance matrix of the errors is correctly specified.\n"
     ]
    }
   ],
   "source": [
    "x = weekly_data['google_new']\n",
    "y = weekly_data['crime']\n",
    "\n",
    "x = sm.add_constant(x)\n",
    "\n",
    "model = sm.OLS(y, x).fit()\n",
    "\n",
    "print(model.summary())"
   ]
  },
  {
   "attachments": {},
   "cell_type": "markdown",
   "metadata": {},
   "source": [
    "- The coefficient for the \"google_new\" variable is 0.0731. This means that for every unit increase in the \"google_new\" variable, the \"crime\" variable is expected to increase by approximately 0.0731 units.\n",
    "- The p-value associated with the coefficient is 0.086, which is close to but slightly greater than the commonly used significance level of 0.05. This suggests that there may be a weakly significant relationship between the \"google_new\" variable and the \"crime\" variable, but the evidence is not strong enough to conclude it definitively.\n",
    "- The R-squared value is 0.057, indicating that the \"google_new\" variable explains about 5.7% of the variation in the \"crime\" variable. This suggests a relatively weak relationship between the two variables."
   ]
  },
  {
   "cell_type": "code",
   "execution_count": 63,
   "metadata": {},
   "outputs": [
    {
     "data": {
      "text/plain": [
       "Text(0, 0.5, 'Weekly Hate Crime Changes')"
      ]
     },
     "execution_count": 63,
     "metadata": {},
     "output_type": "execute_result"
    },
    {
     "data": {
      "image/png": "[encoded data removed]",
      "text/plain": [
       "<Figure size 432x288 with 1 Axes>"
      ]
     },
     "metadata": {
      "needs_background": "light"
     },
     "output_type": "display_data"
    }
   ],
   "source": [
    "a, b = np.polyfit(weekly_data['google_new'], weekly_data['crime'], 1)\n",
    "\n",
    "plt.scatter(weekly_data['google_new'], weekly_data['crime'], color='purple')\n",
    "\n",
    "plt.plot(weekly_data['google_new'], a*weekly_data['google_new']+b)\n",
    "\n",
    "plt.text(0.5, 22, 'y = ' + '{:.3f}'.format(b) + ' + {:.3f}'.format(a) + 'x', size=12)\n",
    "\n",
    "plt.xlabel('Weekly Google New Changes')\n",
    "plt.ylabel('Weekly Hate Crime Changes')"
   ]
  },
  {
   "cell_type": "code",
   "execution_count": 73,
   "metadata": {},
   "outputs": [
    {
     "name": "stdout",
     "output_type": "stream",
     "text": [
      "                            OLS Regression Results                            \n",
      "==============================================================================\n",
      "Dep. Variable:             google_new   R-squared:                       0.057\n",
      "Model:                            OLS   Adj. R-squared:                  0.038\n",
      "Method:                 Least Squares   F-statistic:                     3.061\n",
      "Date:                Thu, 25 May 2023   Prob (F-statistic):             0.0862\n",
      "Time:                        11:19:15   Log-Likelihood:                -212.90\n",
      "No. Observations:                  53   AIC:                             429.8\n",
      "Df Residuals:                      51   BIC:                             433.7\n",
      "Df Model:                           1                                         \n",
      "Covariance Type:            nonrobust                                         \n",
      "==============================================================================\n",
      "                 coef    std err          t      P>|t|      [0.025      0.975]\n",
      "------------------------------------------------------------------------------\n",
      "const         10.0238      3.517      2.850      0.006       2.962      17.086\n",
      "crime          0.7741      0.442      1.750      0.086      -0.114       1.662\n",
      "==============================================================================\n",
      "Omnibus:                       34.843   Durbin-Watson:                   0.918\n",
      "Prob(Omnibus):                  0.000   Jarque-Bera (JB):               84.754\n",
      "Skew:                           1.940   Prob(JB):                     3.94e-19\n",
      "Kurtosis:                       7.830   Cond. No.                         15.0\n",
      "==============================================================================\n",
      "\n",
      "Notes:\n",
      "[1] Standard Errors assume that the covariance matrix of the errors is correctly specified.\n"
     ]
    }
   ],
   "source": [
    "y = weekly_data['google_new']\n",
    "x = weekly_data['crime']\n",
    "\n",
    "x = sm.add_constant(x)\n",
    "\n",
    "model = sm.OLS(y, x).fit()\n",
    "\n",
    "print(model.summary())"
   ]
  },
  {
   "cell_type": "code",
   "execution_count": 78,
   "metadata": {},
   "outputs": [
    {
     "data": {
      "text/plain": [
       "Text(0, 0.5, 'Weekly Hate Crime Changes')"
      ]
     },
     "execution_count": 78,
     "metadata": {},
     "output_type": "execute_result"
    },
    {
     "data": {
      "image/png": "[encoded data removed]",
      "text/plain": [
       "<Figure size 432x288 with 1 Axes>"
      ]
     },
     "metadata": {
      "needs_background": "light"
     },
     "output_type": "display_data"
    }
   ],
   "source": [
    "a, b = np.polyfit(weekly_data['crime'], weekly_data['google_new'], 1)\n",
    "\n",
    "plt.scatter(weekly_data['crime'], weekly_data['google_new'], color='purple')\n",
    "\n",
    "plt.plot(weekly_data['crime'], a*weekly_data['crime']+b)\n",
    "\n",
    "plt.text(0.5, 75, 'y = ' + '{:.3f}'.format(b) + ' + {:.3f}'.format(a) + 'x', size=12)\n",
    "\n",
    "plt.xlabel('Weekly Google New Changes')\n",
    "plt.ylabel('Weekly Hate Crime Changes')"
   ]
  },
  {
   "attachments": {},
   "cell_type": "markdown",
   "metadata": {},
   "source": [
    "### Google vs. Twitter"
   ]
  },
  {
   "cell_type": "code",
   "execution_count": 79,
   "metadata": {},
   "outputs": [
    {
     "name": "stdout",
     "output_type": "stream",
     "text": [
      "                            OLS Regression Results                            \n",
      "==============================================================================\n",
      "Dep. Variable:             google_new   R-squared:                       0.025\n",
      "Model:                            OLS   Adj. R-squared:                  0.006\n",
      "Method:                 Least Squares   F-statistic:                     1.291\n",
      "Date:                Thu, 25 May 2023   Prob (F-statistic):              0.261\n",
      "Time:                        11:22:22   Log-Likelihood:                -213.79\n",
      "No. Observations:                  53   AIC:                             431.6\n",
      "Df Residuals:                      51   BIC:                             435.5\n",
      "Df Model:                           1                                         \n",
      "Covariance Type:            nonrobust                                         \n",
      "==============================================================================\n",
      "                 coef    std err          t      P>|t|      [0.025      0.975]\n",
      "------------------------------------------------------------------------------\n",
      "const         27.1995     10.715      2.539      0.014       5.689      48.710\n",
      "twitter       -0.0048      0.004     -1.136      0.261      -0.013       0.004\n",
      "==============================================================================\n",
      "Omnibus:                       33.720   Durbin-Watson:                   0.937\n",
      "Prob(Omnibus):                  0.000   Jarque-Bera (JB):               70.099\n",
      "Skew:                           2.002   Prob(JB):                     6.00e-16\n",
      "Kurtosis:                       6.964   Cond. No.                     1.42e+04\n",
      "==============================================================================\n",
      "\n",
      "Notes:\n",
      "[1] Standard Errors assume that the covariance matrix of the errors is correctly specified.\n",
      "[2] The condition number is large, 1.42e+04. This might indicate that there are\n",
      "strong multicollinearity or other numerical problems.\n"
     ]
    }
   ],
   "source": [
    "y = weekly_data['google_new']\n",
    "x = weekly_data['twitter']\n",
    "\n",
    "x = sm.add_constant(x)\n",
    "\n",
    "model = sm.OLS(y, x).fit()\n",
    "\n",
    "print(model.summary())"
   ]
  },
  {
   "attachments": {},
   "cell_type": "markdown",
   "metadata": {},
   "source": [
    "- R-squared: 0.025, which indicates that only 2.5% of the variance in google_new can be explained by the independent variable.\n",
    "- The coefficient for the constant term is 27.1995, suggesting that when the independent variable (twitter) is zero, the predicted value for google_new is 27.1995.\n",
    "- The coefficient for the independent variable (twitter) is -0.0048, indicating that for every unit increase in twitter, the predicted value for google_new decreases by 0.0048.\n",
    "- The p-value for the t-statistic of the independent variable is 0.261, which is greater than the typical significance level of 0.05. This suggests that the coefficient for twitter is not statistically significant, and we fail to reject the null hypothesis that there is no relationship between twitter and google_new."
   ]
  },
  {
   "cell_type": "code",
   "execution_count": 80,
   "metadata": {},
   "outputs": [
    {
     "name": "stdout",
     "output_type": "stream",
     "text": [
      "                            OLS Regression Results                            \n",
      "==============================================================================\n",
      "Dep. Variable:                twitter   R-squared:                       0.025\n",
      "Model:                            OLS   Adj. R-squared:                  0.006\n",
      "Method:                 Least Squares   F-statistic:                     1.291\n",
      "Date:                Thu, 25 May 2023   Prob (F-statistic):              0.261\n",
      "Time:                        11:24:37   Log-Likelihood:                -398.48\n",
      "No. Observations:                  53   AIC:                             801.0\n",
      "Df Residuals:                      51   BIC:                             804.9\n",
      "Df Model:                           1                                         \n",
      "Covariance Type:            nonrobust                                         \n",
      "==============================================================================\n",
      "                 coef    std err          t      P>|t|      [0.025      0.975]\n",
      "------------------------------------------------------------------------------\n",
      "const       2564.6022     92.790     27.639      0.000    2378.318    2750.886\n",
      "google_new    -5.1242      4.511     -1.136      0.261     -14.180       3.931\n",
      "==============================================================================\n",
      "Omnibus:                        0.085   Durbin-Watson:                   0.641\n",
      "Prob(Omnibus):                  0.959   Jarque-Bera (JB):                0.040\n",
      "Skew:                           0.047   Prob(JB):                        0.980\n",
      "Kurtosis:                       2.905   Cond. No.                         30.6\n",
      "==============================================================================\n",
      "\n",
      "Notes:\n",
      "[1] Standard Errors assume that the covariance matrix of the errors is correctly specified.\n"
     ]
    }
   ],
   "source": [
    "x = weekly_data['google_new']\n",
    "y = weekly_data['twitter']\n",
    "\n",
    "x = sm.add_constant(x)\n",
    "\n",
    "model = sm.OLS(y, x).fit()\n",
    "\n",
    "print(model.summary())"
   ]
  },
  {
   "cell_type": "code",
   "execution_count": 81,
   "metadata": {},
   "outputs": [
    {
     "name": "stdout",
     "output_type": "stream",
     "text": [
      "                            OLS Regression Results                            \n",
      "==============================================================================\n",
      "Dep. Variable:             google_old   R-squared:                       0.120\n",
      "Model:                            OLS   Adj. R-squared:                  0.103\n",
      "Method:                 Least Squares   F-statistic:                     6.978\n",
      "Date:                Thu, 25 May 2023   Prob (F-statistic):             0.0109\n",
      "Time:                        11:24:57   Log-Likelihood:                -169.14\n",
      "No. Observations:                  53   AIC:                             342.3\n",
      "Df Residuals:                      51   BIC:                             346.2\n",
      "Df Model:                           1                                         \n",
      "Covariance Type:            nonrobust                                         \n",
      "==============================================================================\n",
      "                 coef    std err          t      P>|t|      [0.025      0.975]\n",
      "------------------------------------------------------------------------------\n",
      "const         39.4146      4.614      8.542      0.000      30.151      48.678\n",
      "twitter        0.0048      0.002      2.642      0.011       0.001       0.008\n",
      "==============================================================================\n",
      "Omnibus:                        1.640   Durbin-Watson:                   1.029\n",
      "Prob(Omnibus):                  0.440   Jarque-Bera (JB):                1.511\n",
      "Skew:                           0.294   Prob(JB):                        0.470\n",
      "Kurtosis:                       2.418   Cond. No.                     1.42e+04\n",
      "==============================================================================\n",
      "\n",
      "Notes:\n",
      "[1] Standard Errors assume that the covariance matrix of the errors is correctly specified.\n",
      "[2] The condition number is large, 1.42e+04. This might indicate that there are\n",
      "strong multicollinearity or other numerical problems.\n"
     ]
    }
   ],
   "source": [
    "y = weekly_data['google_old']\n",
    "x = weekly_data['twitter']\n",
    "\n",
    "x = sm.add_constant(x)\n",
    "\n",
    "model = sm.OLS(y, x).fit()\n",
    "\n",
    "print(model.summary())"
   ]
  },
  {
   "attachments": {},
   "cell_type": "markdown",
   "metadata": {},
   "source": [
    "- R-squared: 0.120, which indicates that approximately 12% of the variance in google_old can be explained by the independent variable.\n",
    "- The coefficient for the independent variable (twitter) is 0.0048, indicating that for every unit increase in twitter, the predicted value for google_old increases by 0.0048.\n",
    "- The p-value for the t-statistic of the independent variable is 0.011, which is smaller than the typical significance level of 0.05. This suggests that the coefficient for twitter is statistically significant, and we can reject the null hypothesis that there is no relationship between twitter and google_old.\n",
    "- Overall, the model suggests that there is a statistically significant positive relationship between twitter and google_old. However, the R-squared value indicates that there is still a considerable amount of unexplained variance in google_old."
   ]
  },
  {
   "cell_type": "code",
   "execution_count": 83,
   "metadata": {},
   "outputs": [
    {
     "data": {
      "text/plain": [
       "Text(0, 0.5, 'Weekly Google old Changes')"
      ]
     },
     "execution_count": 83,
     "metadata": {},
     "output_type": "execute_result"
    },
    {
     "data": {
      "image/png": "[encoded data removed]",
      "text/plain": [
       "<Figure size 432x288 with 1 Axes>"
      ]
     },
     "metadata": {
      "needs_background": "light"
     },
     "output_type": "display_data"
    }
   ],
   "source": [
    "a, b = np.polyfit(weekly_data['twitter'], weekly_data['google_old'], 1)\n",
    "\n",
    "plt.scatter(weekly_data['twitter'], weekly_data['google_old'], color='purple')\n",
    "\n",
    "plt.plot(weekly_data['twitter'], a*weekly_data['twitter']+b)\n",
    "\n",
    "plt.text(2, 75, 'y = ' + '{:.3f}'.format(b) + ' + {:.3f}'.format(a) + 'x', size=12)\n",
    "\n",
    "plt.xlabel('Weekly Twitter Changes')\n",
    "plt.ylabel('Weekly Google old Changes')"
   ]
  },
  {
   "cell_type": "code",
   "execution_count": 84,
   "metadata": {},
   "outputs": [
    {
     "name": "stdout",
     "output_type": "stream",
     "text": [
      "                            OLS Regression Results                            \n",
      "==============================================================================\n",
      "Dep. Variable:                twitter   R-squared:                       0.120\n",
      "Model:                            OLS   Adj. R-squared:                  0.103\n",
      "Method:                 Least Squares   F-statistic:                     6.978\n",
      "Date:                Thu, 25 May 2023   Prob (F-statistic):             0.0109\n",
      "Time:                        11:28:11   Log-Likelihood:                -395.75\n",
      "No. Observations:                  53   AIC:                             795.5\n",
      "Df Residuals:                      51   BIC:                             799.4\n",
      "Df Model:                           1                                         \n",
      "Covariance Type:            nonrobust                                         \n",
      "==============================================================================\n",
      "                 coef    std err          t      P>|t|      [0.025      0.975]\n",
      "------------------------------------------------------------------------------\n",
      "const       1203.8061    489.221      2.461      0.017     221.653    2185.959\n",
      "google_old    24.9531      9.446      2.642      0.011       5.989      43.918\n",
      "==============================================================================\n",
      "Omnibus:                        1.948   Durbin-Watson:                   0.609\n",
      "Prob(Omnibus):                  0.378   Jarque-Bera (JB):                1.755\n",
      "Skew:                           0.436   Prob(JB):                        0.416\n",
      "Kurtosis:                       2.811   Cond. No.                         428.\n",
      "==============================================================================\n",
      "\n",
      "Notes:\n",
      "[1] Standard Errors assume that the covariance matrix of the errors is correctly specified.\n"
     ]
    }
   ],
   "source": [
    "x = weekly_data['google_old']\n",
    "y = weekly_data['twitter']\n",
    "\n",
    "x = sm.add_constant(x)\n",
    "\n",
    "model = sm.OLS(y, x).fit()\n",
    "\n",
    "print(model.summary())"
   ]
  },
  {
   "cell_type": "code",
   "execution_count": 87,
   "metadata": {},
   "outputs": [
    {
     "data": {
      "text/plain": [
       "Text(0.5, 0, 'Weekly Google old Changes')"
      ]
     },
     "execution_count": 87,
     "metadata": {},
     "output_type": "execute_result"
    },
    {
     "data": {
      "image/png": "[encoded data removed]",
      "text/plain": [
       "<Figure size 432x288 with 1 Axes>"
      ]
     },
     "metadata": {
      "needs_background": "light"
     },
     "output_type": "display_data"
    }
   ],
   "source": [
    "a, b = np.polyfit(weekly_data['google_old'], weekly_data['twitter'], 1)\n",
    "\n",
    "plt.scatter(weekly_data['google_old'], weekly_data['twitter'], color='purple')\n",
    "\n",
    "plt.plot(weekly_data['google_old'], a*weekly_data['google_old']+b)\n",
    "\n",
    "plt.text(5, 10, 'y = ' + '{:.3f}'.format(b) + ' + {:.3f}'.format(a) + 'x', size=12)\n",
    "\n",
    "plt.ylabel('Weekly Twitter Changes')\n",
    "plt.xlabel('Weekly Google old Changes')"
   ]
  },
  {
   "attachments": {},
   "cell_type": "markdown",
   "metadata": {},
   "source": []
  }
 ],
 "metadata": {
  "kernelspec": {
   "display_name": "base",
   "language": "python",
   "name": "python3"
  },
  "language_info": {
   "codemirror_mode": {
    "name": "ipython",
    "version": 3
   },
   "file_extension": ".py",
   "mimetype": "text/x-python",
   "name": "python",
   "nbconvert_exporter": "python",
   "pygments_lexer": "ipython3",
   "version": "3.9.12"
  },
  "orig_nbformat": 4
 },
 "nbformat": 4,
 "nbformat_minor": 2
}
